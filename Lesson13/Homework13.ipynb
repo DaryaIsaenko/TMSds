{
  "nbformat": 4,
  "nbformat_minor": 0,
  "metadata": {
    "colab": {
      "provenance": []
    },
    "kernelspec": {
      "name": "python3",
      "display_name": "Python 3"
    },
    "language_info": {
      "name": "python"
    }
  },
  "cells": [
    {
      "cell_type": "markdown",
      "source": [
        "***1. Из 1000 собранных на заводе телевизоров 5 штук бракованных. Эксперт проверяет один наугад выбранный телевизор из этой 1000. Найдите вероятность того, что проверяемый телевизор окажется бракованным.***"
      ],
      "metadata": {
        "id": "naRGzcyn7kHf"
      }
    },
    {
      "cell_type": "code",
      "source": [
        "n = 1000\n",
        "m = 5\n",
        "p = m / n\n",
        "p"
      ],
      "metadata": {
        "colab": {
          "base_uri": "https://localhost:8080/"
        },
        "id": "dkJsPaTN7hH8",
        "outputId": "06bb40c2-d71c-42ab-e70f-1b3a2ec8e5b4"
      },
      "execution_count": 1,
      "outputs": [
        {
          "output_type": "execute_result",
          "data": {
            "text/plain": [
              "0.005"
            ]
          },
          "metadata": {},
          "execution_count": 1
        }
      ]
    },
    {
      "cell_type": "markdown",
      "source": [
        "***2. В урне 9 красных, 6 жёлтых и 5 зелёных шаров. Из урны наугад достают один шар. Какова вероятность того, что этот шар окажется жёлтым?***"
      ],
      "metadata": {
        "id": "aq8E8lBN7o_8"
      }
    },
    {
      "cell_type": "code",
      "source": [
        "n = 20\n",
        "m = 6\n",
        "p = m / n\n",
        "p"
      ],
      "metadata": {
        "colab": {
          "base_uri": "https://localhost:8080/"
        },
        "id": "V4SCf7Al8W-l",
        "outputId": "72ae4f08-706e-4b39-c31e-a34b2b19d148"
      },
      "execution_count": 2,
      "outputs": [
        {
          "output_type": "execute_result",
          "data": {
            "text/plain": [
              "0.3"
            ]
          },
          "metadata": {},
          "execution_count": 2
        }
      ]
    },
    {
      "cell_type": "markdown",
      "source": [
        "***3. В чемпионате мира участвуют 16 команд. С помощью жребия их нужно разделить на четыре группы по четыре команды в каждой. В ящике вперемешку лежат карточки с номерами групп: 1, 1, 1, 1, 2, 2, 2, 2, 3, 3, 3, 3, 4, 4, 4, 4. Капитаны команд тянут по одной карточке. Какова вероятность того, что команда Португалии окажется во второй группе?***"
      ],
      "metadata": {
        "id": "wM1GcCAb7sWE"
      }
    },
    {
      "cell_type": "code",
      "source": [
        "n = 16\n",
        "m = 4  # 4 cards with number 2\n",
        "p = m / n\n",
        "p"
      ],
      "metadata": {
        "colab": {
          "base_uri": "https://localhost:8080/"
        },
        "id": "mAFI1oHC8XVu",
        "outputId": "f2ca1a5f-0e0c-4f1b-a370-b3003199d6f0"
      },
      "execution_count": 3,
      "outputs": [
        {
          "output_type": "execute_result",
          "data": {
            "text/plain": [
              "0.25"
            ]
          },
          "metadata": {},
          "execution_count": 3
        }
      ]
    },
    {
      "cell_type": "markdown",
      "source": [
        "***4. В группе туристов 8 человек. С помощью жребия они выбирают шестерых человек, которые должны идти в село в магазин за продуктами. Какова вероятность того, что турист Д., входящий в состав группы, пойдёт в магазин?***"
      ],
      "metadata": {
        "id": "JqkXsWsl7wwE"
      }
    },
    {
      "cell_type": "code",
      "source": [
        "n = 8\n",
        "m = 6\n",
        "p = m / n\n",
        "p"
      ],
      "metadata": {
        "colab": {
          "base_uri": "https://localhost:8080/"
        },
        "id": "3405fxUY8Xpd",
        "outputId": "06cb3b21-5fd3-42c2-c149-ad87f314ca32"
      },
      "execution_count": 4,
      "outputs": [
        {
          "output_type": "execute_result",
          "data": {
            "text/plain": [
              "0.75"
            ]
          },
          "metadata": {},
          "execution_count": 4
        }
      ]
    },
    {
      "cell_type": "markdown",
      "source": [
        "***5. В чемпионате по футболу участвуют 16 команд, которые жеребьевкой распределяются на 4 группы: A, B, C и D. Какова вероятность того, что команда Англии не попадает в группу A?***"
      ],
      "metadata": {
        "id": "bLPLkoXB70GU"
      }
    },
    {
      "cell_type": "code",
      "source": [
        "n = 16\n",
        "m = 4  # each group has 4 teams\n",
        "p_in_group_A = m / n\n",
        "p = 1 - p_in_group_A\n",
        "p"
      ],
      "metadata": {
        "colab": {
          "base_uri": "https://localhost:8080/"
        },
        "id": "E8MiarCi8YCW",
        "outputId": "e78202f7-b871-4889-f6c5-8973c67acb3c"
      },
      "execution_count": 5,
      "outputs": [
        {
          "output_type": "execute_result",
          "data": {
            "text/plain": [
              "0.75"
            ]
          },
          "metadata": {},
          "execution_count": 5
        }
      ]
    },
    {
      "cell_type": "markdown",
      "source": [
        "***6. В классе 21 учащийся, среди них две подруги - Аня и Нина. Класс случайным образом делят на семь групп, по 3 человека в каждой. Найдите вероятность того, что Аня и Нина окажутся в одной группе.***"
      ],
      "metadata": {
        "id": "qvJdnQXu7209"
      }
    },
    {
      "cell_type": "code",
      "source": [
        "p_Ann = 3 / 21\n",
        "p_Nina = 2 / 20\n",
        "p = 7 * p_Ann * p_Nina\n",
        "p"
      ],
      "metadata": {
        "colab": {
          "base_uri": "https://localhost:8080/"
        },
        "id": "L1sz4fkk8YaF",
        "outputId": "9505af0b-727f-4750-9dc3-1531aeacf987"
      },
      "execution_count": 6,
      "outputs": [
        {
          "output_type": "execute_result",
          "data": {
            "text/plain": [
              "0.1"
            ]
          },
          "metadata": {},
          "execution_count": 6
        }
      ]
    },
    {
      "cell_type": "markdown",
      "source": [
        "***7. Механические часы с двенадцатичасовым циферблатом в какой-то момент сломались и перестали идти. Найдите вероятность того, что часовая стрелка остановилась, достигнув отметки 7, но не дойдя до отметки 1.***"
      ],
      "metadata": {
        "id": "e1XJIz7H757c"
      }
    },
    {
      "cell_type": "code",
      "source": [
        "n = 12\n",
        "m = 6  # => (7, 8, 9, 10, 11, 12)\n",
        "p = m / n\n",
        "p"
      ],
      "metadata": {
        "colab": {
          "base_uri": "https://localhost:8080/"
        },
        "id": "iKHC9Qma8Yws",
        "outputId": "1c0f5c4e-244a-4675-b548-a6eba5b2d6d3"
      },
      "execution_count": 7,
      "outputs": [
        {
          "output_type": "execute_result",
          "data": {
            "text/plain": [
              "0.5"
            ]
          },
          "metadata": {},
          "execution_count": 7
        }
      ]
    },
    {
      "cell_type": "markdown",
      "source": [
        "***8. Механические часы с двенадцатичасовым циферблатом в какой-то момент сломались и перестали ходить. Найдите вероятность того, что часовая стрелка застыла, достигнув отметки 6, но не дойдя до отметки 9 часов.***"
      ],
      "metadata": {
        "id": "1rsjILL_79Ck"
      }
    },
    {
      "cell_type": "code",
      "source": [
        "n = 12\n",
        "m = 3  # => (6, 7, 8)\n",
        "p = m / n\n",
        "p"
      ],
      "metadata": {
        "colab": {
          "base_uri": "https://localhost:8080/"
        },
        "id": "bUu3HW918ZBU",
        "outputId": "517cf4bf-7e8b-40ec-f857-6c52c14273b2"
      },
      "execution_count": 8,
      "outputs": [
        {
          "output_type": "execute_result",
          "data": {
            "text/plain": [
              "0.25"
            ]
          },
          "metadata": {},
          "execution_count": 8
        }
      ]
    },
    {
      "cell_type": "markdown",
      "source": [
        "***9. В случайном эксперименте симметричную монету бросают 2 раза. Найдите вероятность того, что орел выпадет ровно 1 раз.***"
      ],
      "metadata": {
        "id": "PqYuPgmU8BXk"
      }
    },
    {
      "cell_type": "code",
      "source": [
        "# ОО, ОР, РО, РР\n",
        "n = 4\n",
        "m = 2\n",
        "p = m / n\n",
        "p"
      ],
      "metadata": {
        "colab": {
          "base_uri": "https://localhost:8080/"
        },
        "id": "alnts4n68Zls",
        "outputId": "1a7406c7-dfcd-4d72-bacc-4092f10333d9"
      },
      "execution_count": 9,
      "outputs": [
        {
          "output_type": "execute_result",
          "data": {
            "text/plain": [
              "0.5"
            ]
          },
          "metadata": {},
          "execution_count": 9
        }
      ]
    },
    {
      "cell_type": "markdown",
      "source": [
        "***10. В случайном эксперименте симметричную монету бросают дважды. Найдите вероятность того, что орёл не выпадет ни разу.***"
      ],
      "metadata": {
        "id": "jfw3Ymtz8Ebz"
      }
    },
    {
      "cell_type": "code",
      "source": [
        "# ОО, ОР, РО, РР\n",
        "n = 4\n",
        "m = 1\n",
        "p = m / n\n",
        "p"
      ],
      "metadata": {
        "colab": {
          "base_uri": "https://localhost:8080/"
        },
        "id": "ShvaYpX18aEk",
        "outputId": "2fb513a9-b1d5-44b5-a82f-f1c884e02428"
      },
      "execution_count": 10,
      "outputs": [
        {
          "output_type": "execute_result",
          "data": {
            "text/plain": [
              "0.25"
            ]
          },
          "metadata": {},
          "execution_count": 10
        }
      ]
    },
    {
      "cell_type": "markdown",
      "source": [
        "***11. Вероятность того, что новая шариковая ручка пишет плохо (или не пишет), равна 0,19. Покупатель в магазине выбирает одну такую ручку. Найдите вероятность того, что эта ручка пишет хорошо.***"
      ],
      "metadata": {
        "id": "S_QAf99S8HWs"
      }
    },
    {
      "cell_type": "code",
      "source": [
        "p_bad = 0.19\n",
        "p_good = 1 - p_bad\n",
        "p_good"
      ],
      "metadata": {
        "colab": {
          "base_uri": "https://localhost:8080/"
        },
        "id": "FVWc1hg48aYF",
        "outputId": "0248e4b1-5441-4e8b-c2ef-1b00bf885a31"
      },
      "execution_count": 11,
      "outputs": [
        {
          "output_type": "execute_result",
          "data": {
            "text/plain": [
              "0.81"
            ]
          },
          "metadata": {},
          "execution_count": 11
        }
      ]
    },
    {
      "cell_type": "markdown",
      "source": [
        "***12. При изготовлении подшипников диаметром 67 мм вероятность того, что диаметр будет отличаться от заданного не больше, чем на 0,01 мм, равна 0,965. Найдите вероятность того, что случайный подшипник будет иметь диаметр меньше чем 66,99 мм или больше чем 67,01 мм.***"
      ],
      "metadata": {
        "id": "1Uynz7JT8LQ8"
      }
    },
    {
      "cell_type": "code",
      "source": [
        "p = 1 - 0.965\n",
        "round(p, 3)"
      ],
      "metadata": {
        "colab": {
          "base_uri": "https://localhost:8080/"
        },
        "id": "nkiIhK_-8a2d",
        "outputId": "5005ef6a-61d7-4581-f194-55b564eedc85"
      },
      "execution_count": 12,
      "outputs": [
        {
          "output_type": "execute_result",
          "data": {
            "text/plain": [
              "0.035"
            ]
          },
          "metadata": {},
          "execution_count": 12
        }
      ]
    },
    {
      "cell_type": "markdown",
      "source": [
        "***13. На экзамене по геометрии школьнику достаётся одна задача из сборника. Вероятность того, что эта задача по теме «Углы», равна 0,1. Вероятность того, что это окажется задача по теме «Параллелограмм», равна 0,6. В сборнике нет задач, которые одновременно относятся к этим двум темам. Найдите вероятность того, что на экзамене школьнику достанется задача по одной из этих двух тем.***"
      ],
      "metadata": {
        "id": "N5Xt27V78PZt"
      }
    },
    {
      "cell_type": "code",
      "source": [
        "p1 = 0.1\n",
        "p2 = 0.6\n",
        "p = p1 + p2\n",
        "p"
      ],
      "metadata": {
        "colab": {
          "base_uri": "https://localhost:8080/"
        },
        "id": "sIBfU6Vo7hEW",
        "outputId": "6c1f8ac4-5171-4b3d-f79a-e07d8f42efe6"
      },
      "execution_count": 13,
      "outputs": [
        {
          "output_type": "execute_result",
          "data": {
            "text/plain": [
              "0.7"
            ]
          },
          "metadata": {},
          "execution_count": 13
        }
      ]
    }
  ]
}