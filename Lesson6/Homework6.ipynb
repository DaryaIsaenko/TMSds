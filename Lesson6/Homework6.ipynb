{
  "nbformat": 4,
  "nbformat_minor": 0,
  "metadata": {
    "colab": {
      "provenance": []
    },
    "kernelspec": {
      "name": "python3",
      "display_name": "Python 3"
    },
    "language_info": {
      "name": "python"
    }
  },
  "cells": [
    {
      "cell_type": "markdown",
      "source": [
        "1. В этом небольшом задании вам дается строка чисел, разделенных пробелами, и вы должны вернуть наибольшее и наименьшее число."
      ],
      "metadata": {
        "id": "59ScE2NrTdQG"
      }
    },
    {
      "cell_type": "code",
      "execution_count": null,
      "metadata": {
        "colab": {
          "base_uri": "https://localhost:8080/"
        },
        "id": "O28ErWsRuKQS",
        "outputId": "c7ca3a63-f143-48f6-e053-856029fd6a20"
      },
      "outputs": [
        {
          "output_type": "execute_result",
          "data": {
            "text/plain": [
              "(83, 5)"
            ]
          },
          "metadata": {},
          "execution_count": 1
        }
      ],
      "source": [
        "# 1\n",
        "def max_min_numbers(numbers_str: str) -> tuple:\n",
        "  \"\"\"\n",
        "  Return max and min numbers from numbers string.\n",
        "\n",
        "  :param numbers_str: string of numbers\n",
        "  :return: tuple of max and min numbers\n",
        "  \"\"\"\n",
        "  numbers_list = list(map(int, numbers_str.split()))\n",
        "  max_number = max(numbers_list)\n",
        "  min_number = min(numbers_list)\n",
        "  return max_number, min_number\n",
        "\n",
        "\n",
        "numbers_str = '12 43 54 5 5 34 54 33 83'\n",
        "max_min_numbers(numbers_str)"
      ]
    },
    {
      "cell_type": "markdown",
      "source": [
        "2. Банкоматы допускают использование 4- или 6-значных PIN-кодов, а PIN-коды не могут содержать ничего, кроме ровно 4 или ровно 6 цифр. Если функции передана действительная строка PIN-кода, return true, иначе return false."
      ],
      "metadata": {
        "id": "Z-YPliFDTtqs"
      }
    },
    {
      "cell_type": "code",
      "source": [
        "# 2\n",
        "def check_pin_code(pin_code: str) -> bool:\n",
        "  \"\"\"\n",
        "  Check PIN code. PIN code contains exactly 4 or 6 digits.\n",
        "\n",
        "  :param pin_code: pin_code string\n",
        "  :return: True if PIN code is valid else False\n",
        "  \"\"\"\n",
        "  if pin_code.isnumeric() and (len(pin_code) == 4 or len(pin_code) == 6):\n",
        "    return True\n",
        "  else:\n",
        "    return False\n",
        "\n",
        "\n",
        "pin_code = '355782'\n",
        "print(check_pin_code(pin_code))\n",
        "\n",
        "pin_code = '32-422'\n",
        "print(check_pin_code(pin_code))"
      ],
      "metadata": {
        "colab": {
          "base_uri": "https://localhost:8080/"
        },
        "id": "kMsB8H1UTbzl",
        "outputId": "3cfc31da-a117-44a6-f236-82d6f2ffc764"
      },
      "execution_count": null,
      "outputs": [
        {
          "output_type": "stream",
          "name": "stdout",
          "text": [
            "True\n",
            "False\n"
          ]
        }
      ]
    },
    {
      "cell_type": "markdown",
      "source": [
        "3. Учитывая целое число, определите, является ли оно квадратным : В математике квадратное число или идеальный квадрат — это целое число, которое является квадратом целого числа; другими словами, это произведение некоторого целого числа само на себя. На вход список, на выходе список чисел."
      ],
      "metadata": {
        "id": "W5Gkw3j8UFcY"
      }
    },
    {
      "cell_type": "code",
      "source": [
        "# 3\n",
        "import math\n",
        "\n",
        "def is_sqrt(number: int) -> bool:\n",
        "  \"\"\"\n",
        "  Determine if a number is square.\n",
        "\n",
        "  :param number: integer number\n",
        "  :return: True if a number is square else False\n",
        "  \"\"\"\n",
        "  if math.sqrt(number) % 1 == 0:\n",
        "    return True\n",
        "  else:\n",
        "    return False\n",
        "\n",
        "\n",
        "number = 25\n",
        "print(is_sqrt(number))\n",
        "\n",
        "number = 47\n",
        "print(is_sqrt(number))"
      ],
      "metadata": {
        "colab": {
          "base_uri": "https://localhost:8080/"
        },
        "id": "u2C8MKThwl_M",
        "outputId": "de9aadd0-4006-4053-d220-435004ae2ed9"
      },
      "execution_count": null,
      "outputs": [
        {
          "output_type": "stream",
          "name": "stdout",
          "text": [
            "True\n",
            "False\n"
          ]
        }
      ]
    },
    {
      "cell_type": "markdown",
      "source": [
        "4. Реализуйте функцию unique_in_order, которая принимает в качестве аргумента последовательность и возвращает список элементов без каких-либо элементов с одинаковым значением рядом друг с другом и сохраняет исходный порядок элементов."
      ],
      "metadata": {
        "id": "ZqvLhYSKUqS9"
      }
    },
    {
      "cell_type": "code",
      "source": [
        "# 4\n",
        "def unique_in_order(elements_order: list) -> list:\n",
        "  \"\"\"\n",
        "  Returns a list of elements without any elements with the same value next to\n",
        "  each other and retains the original order of the elements.\n",
        "\n",
        "  :param elements_order: list of elements sequence\n",
        "  :return: list of elements\n",
        "  \"\"\"\n",
        "  elements_list = []\n",
        "  for idx, val in enumerate(elements_order):\n",
        "    if elements_order[idx] != elements_order[idx - 1]:\n",
        "      elements_list.append(elements_order[idx])\n",
        "  return elements_list\n",
        "\n",
        "\n",
        "elements_order = [3, 3, 2, 3, 5, 32, 3, 2, 2, 2, 35, 35]\n",
        "print(unique_in_order(elements_order))\n",
        "\n",
        "elements_order = ['A', 'A', 'D', 'k', 'k', 'd', 'D']\n",
        "print(unique_in_order(elements_order))"
      ],
      "metadata": {
        "colab": {
          "base_uri": "https://localhost:8080/"
        },
        "id": "UnTJOOGKwl7r",
        "outputId": "5cdc58c8-973c-4423-83ea-145bab0fb80b"
      },
      "execution_count": null,
      "outputs": [
        {
          "output_type": "stream",
          "name": "stdout",
          "text": [
            "[3, 2, 3, 5, 32, 3, 2, 35]\n",
            "['A', 'D', 'k', 'd', 'D']\n"
          ]
        }
      ]
    },
    {
      "cell_type": "markdown",
      "source": [
        "5. Просто, учитывая строку слов, верните длину самого короткого слова (слов).\n",
        "Строка никогда не будет пустой, и вам не нужно учитывать разные типы данных."
      ],
      "metadata": {
        "id": "KOr8WPc6U5el"
      }
    },
    {
      "cell_type": "code",
      "source": [
        "# 5\n",
        "def min_word_length(sentence: str) -> int:\n",
        "  \"\"\"\n",
        "  Return the length of the shortest word(s).\n",
        "\n",
        "  :param sentence: words string\n",
        "  :return: the length of the shortest word(s)\n",
        "  \"\"\"\n",
        "  words = sentence.split()\n",
        "  words_length = []\n",
        "  for i in words:\n",
        "    words_length.append(len(i))\n",
        "  return min(words_length)\n",
        "\n",
        "\n",
        "sentence = 'Data Science is about storytelling and making sense of numbers'\n",
        "min_word_length(sentence)"
      ],
      "metadata": {
        "colab": {
          "base_uri": "https://localhost:8080/"
        },
        "id": "QXUUnBmbwl5K",
        "outputId": "215947ca-7bc8-4a9a-adcd-b740838c6c7f"
      },
      "execution_count": null,
      "outputs": [
        {
          "output_type": "execute_result",
          "data": {
            "text/plain": [
              "2"
            ]
          },
          "metadata": {},
          "execution_count": 8
        }
      ]
    },
    {
      "cell_type": "markdown",
      "source": [
        "6. Цифровой корень — это рекурсивная сумма всех цифр числа. Учитывая n, возьмите сумму цифр n. Если это значение имеет более одной цифры, продолжайте уменьшать таким образом, пока не получите однозначное число. Входные данные будут неотрицательным целым числом."
      ],
      "metadata": {
        "id": "Epk0taNBVHGU"
      }
    },
    {
      "cell_type": "code",
      "source": [
        "# 6\n",
        "def digital_root(n: int) -> int:\n",
        "  \"\"\"\n",
        "  Return digital root - recursive sum of all digits of a number.\n",
        "\n",
        "  :param n: integer number\n",
        "  :return: digital root\n",
        "  \"\"\"\n",
        "  if n < 10:\n",
        "    return n\n",
        "  digits = list(map(int, str(n)))\n",
        "  digit_sum = 0\n",
        "  for i in digits:\n",
        "    digit_sum += i\n",
        "  root = digital_root(digit_sum)\n",
        "  return root\n",
        "\n",
        "\n",
        "n = 58\n",
        "print(digital_root(n))\n",
        "\n",
        "n = 42443829\n",
        "print(digital_root(n))"
      ],
      "metadata": {
        "colab": {
          "base_uri": "https://localhost:8080/"
        },
        "id": "rEIGCvZ9F0F8",
        "outputId": "39e8b1be-a0b6-479a-a5ff-645db1f3a393"
      },
      "execution_count": null,
      "outputs": [
        {
          "output_type": "stream",
          "name": "stdout",
          "text": [
            "4\n",
            "9\n"
          ]
        }
      ]
    },
    {
      "cell_type": "markdown",
      "source": [
        "7. Вам будет предоставлено слово. Ваша задача — вернуть средний символ слова. Если длина слова нечетная, верните средний символ. Если длина слова четная, верните 2 средних символа."
      ],
      "metadata": {
        "id": "MdPiGbgmVsGe"
      }
    },
    {
      "cell_type": "code",
      "source": [
        "# 7\n",
        "def middle_symbol(word: str) -> str:\n",
        "  \"\"\"\n",
        "  Return the middle symbol of the word.\n",
        "\n",
        "  :param word: string\n",
        "  :return: middle symbol of the word\n",
        "  \"\"\"\n",
        "  if len(word) % 2 == 0:\n",
        "    first_symbol = int(len(word) / 2 - 1)\n",
        "    second_symbol = int(len(word) / 2)\n",
        "    return word[first_symbol:second_symbol + 1]\n",
        "  else:\n",
        "    first_symbol = int(len(word) / 2)\n",
        "    return word[first_symbol]\n",
        "\n",
        "\n",
        "word = 'python'\n",
        "print(middle_symbol(word))\n",
        "\n",
        "word = 'world'\n",
        "print(middle_symbol(word))"
      ],
      "metadata": {
        "colab": {
          "base_uri": "https://localhost:8080/"
        },
        "id": "t331OLH6F0Dc",
        "outputId": "3b1ed921-f274-4cf1-a396-96ac1347e639"
      },
      "execution_count": null,
      "outputs": [
        {
          "output_type": "stream",
          "name": "stdout",
          "text": [
            "th\n",
            "r\n"
          ]
        }
      ]
    },
    {
      "cell_type": "markdown",
      "source": [
        "8. Определите функцию, которая принимает целочисленный аргумент и возвращает логическое значение true или false в зависимости от того, является ли целое число простым."
      ],
      "metadata": {
        "id": "PlTWkjgBV6D1"
      }
    },
    {
      "cell_type": "code",
      "source": [
        "# 8\n",
        "def is_prime(number: int) -> bool:\n",
        "  \"\"\"\n",
        "  Check if a number is prime.\n",
        "\n",
        "  :param number: integer number\n",
        "  :return: True if a number is prime else False\n",
        "  \"\"\"\n",
        "  if number <= 1:\n",
        "    return False\n",
        "  for i in range(2, int(math.sqrt(number)) + 1):\n",
        "    if number % i == 0:\n",
        "      return False\n",
        "  return True\n",
        "\n",
        "\n",
        "number = 7\n",
        "print(is_prime(number))\n",
        "\n",
        "number = 3247\n",
        "print(is_prime(number))"
      ],
      "metadata": {
        "colab": {
          "base_uri": "https://localhost:8080/"
        },
        "id": "bkCJdgrtF0A2",
        "outputId": "82e54c1d-b0fd-4b35-bf67-c415076621d2"
      },
      "execution_count": null,
      "outputs": [
        {
          "output_type": "stream",
          "name": "stdout",
          "text": [
            "True\n",
            "False\n"
          ]
        }
      ]
    },
    {
      "cell_type": "markdown",
      "source": [
        "9. Учитывая список целых чисел, определите, является ли сумма его элементов нечетной или четной."
      ],
      "metadata": {
        "id": "85q-cC3rWVgO"
      }
    },
    {
      "cell_type": "code",
      "source": [
        "# 9\n",
        "def even_or_odd(numbers: list) -> str:\n",
        "  \"\"\"\n",
        "  Determine the sum of the list of numbers is odd or even.\n",
        "\n",
        "  :param numbers: list of numbers\n",
        "  :return: a string with the sum of the list elements and values 'even' or 'odd'\n",
        "  \"\"\"\n",
        "  if sum(numbers) % 2 == 0:\n",
        "    print(f'{sum(numbers)} is even number.')\n",
        "  else:\n",
        "    print(f'{sum(numbers)} is odd number.')\n",
        "\n",
        "\n",
        "numbers = [2, 43, 32, 7, 324, 3]\n",
        "even_or_odd(numbers)"
      ],
      "metadata": {
        "colab": {
          "base_uri": "https://localhost:8080/"
        },
        "id": "yT3xD4ZCWaDw",
        "outputId": "cf576e0a-8027-424e-8258-1d5fa7294383"
      },
      "execution_count": null,
      "outputs": [
        {
          "output_type": "stream",
          "name": "stdout",
          "text": [
            "411 is odd number.\n"
          ]
        }
      ]
    },
    {
      "cell_type": "markdown",
      "source": [
        "10. Отобрать значения (через filter), расположенных в виде песочных часов в\n",
        "квадратном вложенном списке и найти сумму этих элементов.\n",
        "\n",
        "![photo_2024-02-17_13-51-46.jpg](data:image/jpeg;base64,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)"
      ],
      "metadata": {
        "id": "709KJKg_W_18"
      }
    },
    {
      "cell_type": "code",
      "source": [
        "# 10\n",
        "import random\n",
        "\n",
        "size = random.randint(1, 9)\n",
        "step = random.randint(1, 9)\n",
        "\n",
        "\n",
        "def create_matrix(size: int, step: int) -> list:\n",
        "  \"\"\"\n",
        "  Create matrix.\n",
        "\n",
        "  :param size: matrix size\n",
        "  :param step: step between matrix values\n",
        "  :return: matrix\n",
        "  \"\"\"\n",
        "  counter = 100\n",
        "  matrix = []\n",
        "  for col in range(size):\n",
        "    temp = []\n",
        "    for row in range(size):\n",
        "      temp.append(counter)\n",
        "      counter += step\n",
        "    matrix.append(temp)\n",
        "  return matrix\n",
        "\n",
        "\n",
        "def sum_matrix_elements(matrix: list) -> int:\n",
        "  \"\"\"\n",
        "  The sum of matrix elements in the form of an hourglass (sandglass).\n",
        "\n",
        "  :param matrix: matrix list\n",
        "  :return: the sum of matrix elements\n",
        "  \"\"\"\n",
        "  size = len(matrix)\n",
        "  elements = []\n",
        "  for col, _ in enumerate(matrix):\n",
        "    for row, _ in enumerate(matrix):\n",
        "      if (col <= row and col <= size - 1- row) or (col >= row and col >= size - 1 - row):\n",
        "        elements.append(matrix[col][row])\n",
        "  return sum(elements)\n",
        "\n",
        "\n",
        "matrix = create_matrix(size, step)\n",
        "\n",
        "for i in matrix:\n",
        "  print(i)\n",
        "\n",
        "sum_matrix_elements(matrix)"
      ],
      "metadata": {
        "id": "x47OoXIIFz-c",
        "colab": {
          "base_uri": "https://localhost:8080/"
        },
        "outputId": "8c0d9e8f-5cc6-4a6c-cf19-1a9037a6f94d"
      },
      "execution_count": 22,
      "outputs": [
        {
          "output_type": "stream",
          "name": "stdout",
          "text": [
            "[100, 103, 106, 109, 112]\n",
            "[115, 118, 121, 124, 127]\n",
            "[130, 133, 136, 139, 142]\n",
            "[145, 148, 151, 154, 157]\n",
            "[160, 163, 166, 169, 172]\n"
          ]
        },
        {
          "output_type": "execute_result",
          "data": {
            "text/plain": [
              "2312"
            ]
          },
          "metadata": {},
          "execution_count": 22
        }
      ]
    }
  ]
}