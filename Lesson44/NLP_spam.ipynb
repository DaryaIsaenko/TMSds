{
  "nbformat": 4,
  "nbformat_minor": 0,
  "metadata": {
    "colab": {
      "provenance": []
    },
    "kernelspec": {
      "name": "python3",
      "display_name": "Python 3"
    },
    "language_info": {
      "name": "python"
    }
  },
  "cells": [
    {
      "cell_type": "code",
      "source": [
        "import os\n",
        "import tarfile\n",
        "import numpy as np\n",
        "import pandas as pd\n",
        "import matplotlib.pyplot as plt\n",
        "from sklearn.model_selection import train_test_split\n",
        "from sklearn.metrics import accuracy_score, classification_report, confusion_matrix, f1_score, precision_score, recall_score\n",
        "import email\n",
        "import string\n",
        "from bs4 import BeautifulSoup\n",
        "import nltk\n",
        "from nltk.corpus import stopwords\n",
        "import re\n",
        "from nltk.stem import PorterStemmer, WordNetLemmatizer\n",
        "from sklearn.preprocessing import MinMaxScaler\n",
        "\n",
        "\n",
        "import warnings\n",
        "warnings.filterwarnings('ignore')\n",
        "\n",
        "nltk.download('stopwords')\n",
        "nltk.download('wordnet')"
      ],
      "metadata": {
        "id": "DWTsZ7Ip-_Ou",
        "colab": {
          "base_uri": "https://localhost:8080/"
        },
        "outputId": "6eecbe3b-8e2a-4399-b41c-a642f0449026"
      },
      "execution_count": null,
      "outputs": [
        {
          "output_type": "stream",
          "name": "stderr",
          "text": [
            "[nltk_data] Downloading package stopwords to /root/nltk_data...\n",
            "[nltk_data]   Package stopwords is already up-to-date!\n",
            "[nltk_data] Downloading package wordnet to /root/nltk_data...\n",
            "[nltk_data]   Package wordnet is already up-to-date!\n"
          ]
        },
        {
          "output_type": "execute_result",
          "data": {
            "text/plain": [
              "True"
            ]
          },
          "metadata": {},
          "execution_count": 84
        }
      ]
    },
    {
      "cell_type": "code",
      "source": [
        "DOWNLOAD_HAM = [\"https://spamassassin.apache.org/old/publiccorpus/20030228_easy_ham.tar.bz2\",\n",
        "                \"https://spamassassin.apache.org/old/publiccorpus/20030228_easy_ham_2.tar.bz2\",\n",
        "                \"https://spamassassin.apache.org/old/publiccorpus/20030228_hard_ham.tar.bz2\"]\n",
        "\n",
        "DOWNLOAD_SPAM = [\"https://spamassassin.apache.org/old/publiccorpus/20050311_spam_2.tar.bz2\",\n",
        "                 \"https://spamassassin.apache.org/old/publiccorpus/20030228_spam.tar.bz2\"]"
      ],
      "metadata": {
        "id": "tTn5xZoV-b8r"
      },
      "execution_count": null,
      "outputs": []
    },
    {
      "cell_type": "code",
      "source": [
        "# Распаковка архива\n",
        "folder_path = 'spamassassin_data'\n",
        "files = os.listdir(folder_path)\n",
        "print(files)\n",
        "\n",
        "for file in files:\n",
        "    tar = tarfile.open(folder_path + '/' + file, 'r:bz2')\n",
        "    tar.extractall()\n",
        "    tar.close()"
      ],
      "metadata": {
        "id": "xR4m1LdfluSo",
        "colab": {
          "base_uri": "https://localhost:8080/"
        },
        "outputId": "d8fd901f-a83f-484a-cca4-3867a04d0d16"
      },
      "execution_count": null,
      "outputs": [
        {
          "output_type": "stream",
          "name": "stdout",
          "text": [
            "['20030228_hard_ham.tar.bz2', '20030228_easy_ham_2.tar.bz2', '20050311_spam_2.tar.bz2', '20030228_spam.tar.bz2', '20030228_easy_ham.tar.bz2']\n"
          ]
        }
      ]
    },
    {
      "cell_type": "code",
      "source": [
        "easy_ham_path = 'easy_ham/'\n",
        "easy_ham_2_path = 'easy_ham_2/'\n",
        "hard_ham_path = 'hard_ham/'\n",
        "spam_path = 'spam/'\n",
        "spam_2_path = 'spam_2/'\n",
        "\n",
        "def get_data(path):\n",
        "    data = []\n",
        "    files = os.listdir(path)\n",
        "    for file in files:\n",
        "        processed_file = open(path + file, encoding = 'ISO-8859-1')\n",
        "        words_list = processed_file.read()\n",
        "        data.append(words_list)\n",
        "        processed_file.close()\n",
        "    return data\n",
        "\n",
        "\n",
        "easy_ham = get_data(easy_ham_path)\n",
        "easy_ham_2 = get_data(easy_ham_2_path)\n",
        "hard_ham = get_data(hard_ham_path)\n",
        "spam = get_data(spam_path)\n",
        "spam_2 = get_data(spam_2_path)\n",
        "\n",
        "ham = easy_ham + easy_ham_2 + hard_ham\n",
        "spam = spam + spam_2\n",
        "\n",
        "np.random.shuffle(ham)\n",
        "np.random.shuffle(spam)"
      ],
      "metadata": {
        "id": "qR0xB24ZluQE"
      },
      "execution_count": null,
      "outputs": []
    },
    {
      "cell_type": "code",
      "source": [
        "print(ham[5])"
      ],
      "metadata": {
        "colab": {
          "base_uri": "https://localhost:8080/"
        },
        "id": "BCNDG2BXy0V_",
        "outputId": "058726e4-89ea-4cf4-fdcc-2563ece575ff"
      },
      "execution_count": null,
      "outputs": [
        {
          "output_type": "stream",
          "name": "stdout",
          "text": [
            "From fork-admin@xent.com  Wed Jul 24 04:47:42 2002\n",
            "Return-Path: <fork-admin@xent.com>\n",
            "Delivered-To: yyyy@localhost.netnoteinc.com\n",
            "Received: from localhost (localhost [127.0.0.1])\n",
            "\tby phobos.labs.netnoteinc.com (Postfix) with ESMTP id E8F24440CD\n",
            "\tfor <jm@localhost>; Tue, 23 Jul 2002 23:47:41 -0400 (EDT)\n",
            "Received: from dogma.slashnull.org [212.17.35.15]\n",
            "\tby localhost with IMAP (fetchmail-5.9.0)\n",
            "\tfor jm@localhost (single-drop); Wed, 24 Jul 2002 04:47:41 +0100 (IST)\n",
            "Received: from xent.com ([64.161.22.236]) by dogma.slashnull.org\n",
            "    (8.11.6/8.11.6) with ESMTP id g6O3kf418126 for <jm@jmason.org>;\n",
            "    Wed, 24 Jul 2002 04:46:42 +0100\n",
            "Received: from lair.xent.com (localhost [127.0.0.1]) by xent.com (Postfix)\n",
            "    with ESMTP id AB8D0294137; Tue, 23 Jul 2002 20:32:05 -0700 (PDT)\n",
            "Delivered-To: fork@spamassassin.taint.org\n",
            "Received: from c007.snv.cp.net (h013.c007.snv.cp.net [209.228.33.241]) by\n",
            "    xent.com (Postfix) with SMTP id 4E360294136 for <fork@xent.com>;\n",
            "    Tue, 23 Jul 2002 20:31:27 -0700 (PDT)\n",
            "Received: (cpmta 23426 invoked from network); 23 Jul 2002 20:40:37 -0700\n",
            "Received: from 65.189.7.13 (HELO alumni.rice.edu) by\n",
            "    smtp.directvinternet.com (209.228.33.241) with SMTP; 23 Jul 2002 20:40:37\n",
            "    -0700\n",
            "X-Sent: 24 Jul 2002 03:40:37 GMT\n",
            "Message-Id: <3D3E20A2.70403@alumni.rice.edu>\n",
            "From: Wayne E Baisley <baisley@alumni.rice.edu>\n",
            "User-Agent: Mozilla/5.0 (Windows; U; Win98; en-US; rv:0.9.4)\n",
            "    Gecko/20011128 Netscape6/6.2.1\n",
            "X-Accept-Language: en-us\n",
            "MIME-Version: 1.0\n",
            "To: Robert Harley <harley@argote.ch>\n",
            "Cc: fork@spamassassin.taint.org\n",
            "Subject: Re: My brain hurts\n",
            "References: <20020723224802.E54D3C44E@argote.ch>\n",
            "Content-Type: text/plain; charset=us-ascii; format=flowed\n",
            "Content-Transfer-Encoding: 7bit\n",
            "Sender: fork-admin@xent.com\n",
            "Errors-To: fork-admin@xent.com\n",
            "X-Beenthere: fork@spamassassin.taint.org\n",
            "X-Mailman-Version: 2.0.11\n",
            "Precedence: bulk\n",
            "List-Help: <mailto:fork-request@xent.com?subject=help>\n",
            "List-Post: <mailto:fork@spamassassin.taint.org>\n",
            "List-Subscribe: <http://xent.com/mailman/listinfo/fork>, <mailto:fork-request@xent.com?subject=subscribe>\n",
            "List-Id: Friends of Rohit Khare <fork.xent.com>\n",
            "List-Unsubscribe: <http://xent.com/mailman/listinfo/fork>,\n",
            "    <mailto:fork-request@xent.com?subject=unsubscribe>\n",
            "List-Archive: <http://xent.com/pipermail/fork/>\n",
            "Date: Tue, 23 Jul 2002 22:36:02 -0500\n",
            "\n",
            "Perhaps it's time to revisit ...\n",
            "\n",
            "http://www.engrish.com/recentdiscoveries.html\n",
            "\n",
            "\"evirob\" is the essence of weird life.\n",
            "\n",
            "http://xent.com/mailman/listinfo/fork\n",
            "\n",
            "\n",
            "\n"
          ]
        }
      ]
    },
    {
      "cell_type": "code",
      "source": [
        "count_ham = len(ham)\n",
        "count_spam = len(spam)\n",
        "\n",
        "\n",
        "plt.figure(figsize = (10, 5))\n",
        "plt.subplot(1,2,1)\n",
        "plt.bar(['ham', 'spam'], [count_ham, count_spam])\n",
        "plt.title('ham vs spam')\n",
        "\n",
        "plt.subplot(1,2,2)\n",
        "plt.pie([count_ham, count_spam], labels=['ham', 'spam'], autopct='%1.1f%%')\n",
        "plt.title('ham vs spam')\n",
        "plt.show()"
      ],
      "metadata": {
        "colab": {
          "base_uri": "https://localhost:8080/",
          "height": 468
        },
        "id": "-vLUGbka_WFr",
        "outputId": "0a731fac-07a1-44e8-920c-9a88a4eb58f2"
      },
      "execution_count": null,
      "outputs": [
        {
          "output_type": "display_data",
          "data": {
            "text/plain": [
              "<Figure size 1000x500 with 2 Axes>"
            ],
            "image/png": "[encoded data removed]"
          },
          "metadata": {}
        }
      ]
    },
    {
      "cell_type": "code",
      "source": [
        "stemmer = PorterStemmer()\n",
        "lemmatizer = WordNetLemmatizer()\n",
        "\n",
        "def data_preprocessing(emails):\n",
        "    cleaned_text_emails = []\n",
        "    for mail in emails:\n",
        "        email_text = email.message_from_string(mail) # convert the string to an email message object\n",
        "        body = ''\n",
        "\n",
        "        if email_text.is_multipart():\n",
        "            for part in email_text.walk():\n",
        "                ctype = part.get_content_type() # content type (/ \"image\" / \"audio\" / \"video\" / \"application\" / \"text/plain\" / \"application/pdf\")\n",
        "                cdispo = str(part.get('Content-Disposition'))\n",
        "                # skip any text/plain (txt) attachments\n",
        "                if ctype == 'text/plain' and 'attachment' not in cdispo:\n",
        "                    body = part.get_payload(decode=True) # get body of email\n",
        "                    break\n",
        "            # not multipart - i.e. plain text, no attachments\n",
        "        else:\n",
        "            body = email_text.get_payload(decode=True) # get body of email\n",
        "\n",
        "        soup = BeautifulSoup(body, \"html.parser\") # get text from body (HTML/text)\n",
        "        text = soup.get_text().lower()\n",
        "\n",
        "        text = text.translate(str.maketrans('', '', string.punctuation)) # remove punctuation\n",
        "        text = ''.join([i for i in text if not i.isdigit()]) # remove digits\n",
        "        text = re.sub(r'http\\S+|www\\S+|https\\S+', '', text, flags=re.MULTILINE)\n",
        "        stop_words = set(stopwords.words(['english', 'chinese']))\n",
        "        words_list = [w for w in text.split() if w not in stop_words] # remove stop words\n",
        "        words_list = [lemmatizer.lemmatize(w) for w in words_list] # lemmatization\n",
        "        words_list = [stemmer.stem(w) for w in words_list] # stemming\n",
        "        cleaned_text_emails.append(' '.join(words_list))\n",
        "    return cleaned_text_emails"
      ],
      "metadata": {
        "id": "Qzv4AL-v5A9h"
      },
      "execution_count": null,
      "outputs": []
    },
    {
      "cell_type": "code",
      "source": [
        "cleaned_ham = data_preprocessing(ham)\n",
        "cleaned_spam = data_preprocessing(spam)"
      ],
      "metadata": {
        "id": "-NdhESDb7er_"
      },
      "execution_count": null,
      "outputs": []
    },
    {
      "cell_type": "code",
      "source": [
        "cleaned_ham[5]"
      ],
      "metadata": {
        "colab": {
          "base_uri": "https://localhost:8080/",
          "height": 36
        },
        "id": "BnkNd0UPznHu",
        "outputId": "8ab6b032-679e-42e6-ef49-22c574c4149c"
      },
      "execution_count": null,
      "outputs": [
        {
          "output_type": "execute_result",
          "data": {
            "text/plain": [
              "'perhap time revisit evirob essenc weird life'"
            ],
            "application/vnd.google.colaboratory.intrinsic+json": {
              "type": "string"
            }
          },
          "metadata": {},
          "execution_count": 90
        }
      ]
    },
    {
      "cell_type": "code",
      "source": [
        "X = cleaned_ham + cleaned_spam\n",
        "y = len(cleaned_ham)*[0] + len(cleaned_spam)*[1]\n",
        "y = np.array(y).reshape(-1, 1)\n",
        "\n",
        "X_train, X_test, y_train, y_test = train_test_split(X, y, stratify=y, test_size=0.2, random_state=42)"
      ],
      "metadata": {
        "id": "4PKS3uljF_-x"
      },
      "execution_count": null,
      "outputs": []
    },
    {
      "cell_type": "markdown",
      "source": [
        "# Naive Bayes"
      ],
      "metadata": {
        "id": "lHoRB7y2nxJE"
      }
    },
    {
      "cell_type": "markdown",
      "source": [
        "Наивный Байесовский классификатор — это простой и эффективный метод для текстовой классификации. Он основан на теореме Байеса и предполагает независимость признаков.\n",
        "\n",
        "Наивный Байесовский классификатор хорошо работает для задач, где признаки действительно независимы, но может быть менее эффективен для задач, где признаки сильно коррелируют."
      ],
      "metadata": {
        "id": "1l34vocAn0tH"
      }
    },
    {
      "cell_type": "code",
      "source": [
        "from sklearn.naive_bayes import MultinomialNB"
      ],
      "metadata": {
        "id": "yRSlraOLn__g"
      },
      "execution_count": null,
      "outputs": []
    },
    {
      "cell_type": "markdown",
      "source": [
        "## Bag-of-Words"
      ],
      "metadata": {
        "id": "8VonLzE5GngX"
      }
    },
    {
      "cell_type": "markdown",
      "source": [
        "Bag-of-Words (BoW) — это простой метод, который представляет текст как набор слов и их частот. Этот метод не учитывает порядок слов, но позволяет быстро и эффективно преобразовать текст в числовой формат.\n",
        "\n",
        "BoW метод хорошо подходит для задач, где важна частота слов, но не их порядок. Однако, он не учитывает семантические отношения между словами, что может быть недостатком для некоторых задач."
      ],
      "metadata": {
        "id": "UR_j6WSpGsZN"
      }
    },
    {
      "cell_type": "code",
      "source": [
        "from sklearn.feature_extraction.text import CountVectorizer"
      ],
      "metadata": {
        "id": "4LraH2oSFuMG"
      },
      "execution_count": null,
      "outputs": []
    },
    {
      "cell_type": "code",
      "source": [
        "# Преобразование данных в векторы\n",
        "vectorizer = CountVectorizer(stop_words=['english', 'chinese'])\n",
        "vectorizer.fit(X_train)\n",
        "X_train_count = vectorizer.transform(X_train)\n",
        "X_test_count = vectorizer.transform(X_test)\n",
        "\n",
        "# Обучение модели\n",
        "nb_classifier = MultinomialNB()\n",
        "nb_classifier.fit(X_train_count, y_train)\n",
        "\n",
        "# Предсказание меток для тестовых данных\n",
        "y_pred = nb_classifier.predict(X_test_count)\n",
        "\n",
        "# Оценка точности модели\n",
        "accuracy_nb_bow = round(accuracy_score(y_test, y_pred), 2)\n",
        "print(f'Accuracy: {accuracy_nb_bow:.2f}')\n",
        "f1_nb_bow = round(f1_score(y_test, y_pred), 2)\n",
        "precision_nb_bow = round(precision_score(y_test, y_pred), 2)\n",
        "recall_nb_bow = round(recall_score(y_test, y_pred), 2)\n",
        "\n",
        "# Вывод отчета о классификации и матрицы ошибок\n",
        "print(classification_report(y_test, y_pred))\n",
        "print(confusion_matrix(y_test, y_pred))"
      ],
      "metadata": {
        "colab": {
          "base_uri": "https://localhost:8080/"
        },
        "id": "gEfg6b37GyjE",
        "outputId": "1d5a0ec1-57ec-49a9-9581-79a15d5a1643"
      },
      "execution_count": null,
      "outputs": [
        {
          "output_type": "stream",
          "name": "stdout",
          "text": [
            "Accuracy: 0.95\n",
            "              precision    recall  f1-score   support\n",
            "\n",
            "           0       0.95      0.98      0.97       831\n",
            "           1       0.96      0.89      0.92       380\n",
            "\n",
            "    accuracy                           0.95      1211\n",
            "   macro avg       0.96      0.94      0.95      1211\n",
            "weighted avg       0.95      0.95      0.95      1211\n",
            "\n",
            "[[818  13]\n",
            " [ 43 337]]\n"
          ]
        }
      ]
    },
    {
      "cell_type": "markdown",
      "source": [
        "## TF-IDF"
      ],
      "metadata": {
        "id": "WtC5kXkJrABL"
      }
    },
    {
      "cell_type": "markdown",
      "source": [
        "TF-IDF (Term Frequency-Inverse Document Frequency) учитывает не только частоту слов в документе, но и их значимость в корпусе текстов. Этот метод помогает уменьшить влияние часто встречающихся слов, которые не несут значимой информации.\n",
        "\n",
        "TF-IDF метод позволяет более точно учитывать значимость слов в тексте, что улучшает качество анализа. Этот метод часто используется в задачах классификации текста и информационного поиска."
      ],
      "metadata": {
        "id": "SA16eoc5rDgR"
      }
    },
    {
      "cell_type": "code",
      "source": [
        "from sklearn.feature_extraction.text import TfidfVectorizer"
      ],
      "metadata": {
        "id": "HzmZjL3_rHra"
      },
      "execution_count": null,
      "outputs": []
    },
    {
      "cell_type": "code",
      "source": [
        "# Преобразование данных в векторы TF-IDF\n",
        "tfidf_vectorizer = TfidfVectorizer(stop_words=['english', 'chinese'])\n",
        "tfidf_vectorizer.fit(X_train)\n",
        "X_train_tfidf = tfidf_vectorizer.transform(X_train)\n",
        "X_test_tfidf = tfidf_vectorizer.transform(X_test)\n",
        "\n",
        "# Обучение модели\n",
        "nb_classifier = MultinomialNB()\n",
        "nb_classifier.fit(X_train_tfidf, y_train)\n",
        "\n",
        "# Предсказание меток для тестовых данных\n",
        "y_pred = nb_classifier.predict(X_test_tfidf)\n",
        "\n",
        "# Оценка точности модели\n",
        "accuracy_nb_tfidf = round(accuracy_score(y_test, y_pred), 2)\n",
        "print(f'Accuracy: {accuracy_nb_tfidf:.2f}')\n",
        "f1_nb_tfidf = round(f1_score(y_test, y_pred), 2)\n",
        "precision_nb_tfidf = round(precision_score(y_test, y_pred), 2)\n",
        "recall_nb_tfidf = round(recall_score(y_test, y_pred), 2)\n",
        "\n",
        "# Вывод отчета о классификации и матрицы ошибок\n",
        "print(classification_report(y_test, y_pred))\n",
        "print(confusion_matrix(y_test, y_pred))"
      ],
      "metadata": {
        "colab": {
          "base_uri": "https://localhost:8080/"
        },
        "id": "NHfE81i7poq1",
        "outputId": "bca06f7d-2f31-490d-98a0-1022650a14ea"
      },
      "execution_count": null,
      "outputs": [
        {
          "output_type": "stream",
          "name": "stdout",
          "text": [
            "Accuracy: 0.91\n",
            "              precision    recall  f1-score   support\n",
            "\n",
            "           0       0.89      1.00      0.94       831\n",
            "           1       1.00      0.73      0.84       380\n",
            "\n",
            "    accuracy                           0.91      1211\n",
            "   macro avg       0.94      0.86      0.89      1211\n",
            "weighted avg       0.92      0.91      0.91      1211\n",
            "\n",
            "[[830   1]\n",
            " [103 277]]\n"
          ]
        }
      ]
    },
    {
      "cell_type": "markdown",
      "source": [
        "## Word Embeddings"
      ],
      "metadata": {
        "id": "ASq8ylaWrdCi"
      }
    },
    {
      "cell_type": "markdown",
      "source": [
        "Word Embeddings, такие как Word2Vec или GloVe, представляют слова в виде векторов в многомерном пространстве, что позволяет учитывать семантические отношения между словами. Эти методы позволяют моделям машинного обучения лучше понимать контекст и значение слов.\n",
        "\n",
        "Word Embeddings методы позволяют учитывать контекст и семантические отношения между словами, что делает их более мощными для задач анализа текста. Эти методы часто используются в задачах, требующих глубокого понимания текста, таких как машинный перевод и генерация текста."
      ],
      "metadata": {
        "id": "nm28P-Xergjk"
      }
    },
    {
      "cell_type": "code",
      "source": [
        "from gensim.models import Word2Vec"
      ],
      "metadata": {
        "id": "hSFiBwZ5rjh5"
      },
      "execution_count": null,
      "outputs": []
    },
    {
      "cell_type": "code",
      "source": [
        "# Обучение модели Word2Vec\n",
        "sentences = [sentence.split() for sentence in X_train]\n",
        "w2v_model = Word2Vec(sentences, vector_size=100, window=5, min_count=5, sg=0)\n",
        "\n",
        "# Преобразование данных в векторы\n",
        "def vectorize(sentence):\n",
        "    words = sentence.split()\n",
        "    words_vecs = [w2v_model.wv[word] for word in words if word in w2v_model.wv]\n",
        "    if len(words_vecs) == 0:\n",
        "        return np.zeros(100)\n",
        "    words_vecs = np.array(words_vecs)\n",
        "    return words_vecs.mean(axis=0)\n",
        "\n",
        "X_train_w2v = np.array([vectorize(sentence) for sentence in X_train])\n",
        "X_test_w2v = np.array([vectorize(sentence) for sentence in X_test])\n",
        "\n",
        "scaler = MinMaxScaler()\n",
        "X_train_w2v = scaler.fit_transform(X_train_w2v)\n",
        "X_test_w2v = scaler.transform(X_test_w2v)\n",
        "\n",
        "# Обучение модели\n",
        "nb_classifier = MultinomialNB()\n",
        "nb_classifier.fit(X_train_w2v, y_train)\n",
        "\n",
        "# Предсказание меток для тестовых данных\n",
        "y_pred = nb_classifier.predict(X_test_w2v)\n",
        "\n",
        "# Оценка точности модели\n",
        "accuracy_nb_w2v = round(accuracy_score(y_test, y_pred), 2)\n",
        "print(f'Accuracy: {accuracy_nb_w2v:.2f}')\n",
        "f1_nb_w2v = round(f1_score(y_test, y_pred), 2)\n",
        "precision_nb_w2v = round(precision_score(y_test, y_pred), 2)\n",
        "recall_nb_w2v = round(recall_score(y_test, y_pred), 2)\n",
        "\n",
        "# Вывод отчета о классификации и матрицы ошибок\n",
        "print(classification_report(y_test, y_pred))\n",
        "print(confusion_matrix(y_test, y_pred))"
      ],
      "metadata": {
        "colab": {
          "base_uri": "https://localhost:8080/"
        },
        "id": "Qexu8Fv5ofDk",
        "outputId": "c264f0a8-1028-4e95-adfb-6429c7173406"
      },
      "execution_count": null,
      "outputs": [
        {
          "output_type": "stream",
          "name": "stdout",
          "text": [
            "Accuracy: 0.77\n",
            "              precision    recall  f1-score   support\n",
            "\n",
            "           0       0.75      1.00      0.86       831\n",
            "           1       1.00      0.28      0.44       380\n",
            "\n",
            "    accuracy                           0.77      1211\n",
            "   macro avg       0.88      0.64      0.65      1211\n",
            "weighted avg       0.83      0.77      0.73      1211\n",
            "\n",
            "[[831   0]\n",
            " [273 107]]\n"
          ]
        }
      ]
    },
    {
      "cell_type": "markdown",
      "source": [
        "# Logistic Regression"
      ],
      "metadata": {
        "id": "uox9llgdojrj"
      }
    },
    {
      "cell_type": "code",
      "source": [
        "from sklearn.linear_model import LogisticRegression"
      ],
      "metadata": {
        "id": "vBHslICjonlE"
      },
      "execution_count": null,
      "outputs": []
    },
    {
      "cell_type": "markdown",
      "source": [
        "## Bag-of-Words"
      ],
      "metadata": {
        "id": "pAT7DC8Mp-cf"
      }
    },
    {
      "cell_type": "code",
      "source": [
        "# Преобразование данных в векторы\n",
        "vectorizer = CountVectorizer(stop_words=['english', 'chinese'])\n",
        "vectorizer.fit(X_train)\n",
        "X_train_count = vectorizer.transform(X_train)\n",
        "X_test_count = vectorizer.transform(X_test)\n",
        "\n",
        "# Обучение модели\n",
        "clf = LogisticRegression(max_iter=100)\n",
        "clf.fit(X_train_count, y_train)\n",
        "\n",
        "# Предсказание меток для тестовых данных\n",
        "y_pred = clf.predict(X_test_count)\n",
        "\n",
        "# Оценка точности модели\n",
        "accuracy_lr_bow = round(accuracy_score(y_test, y_pred), 2)\n",
        "print(f'Accuracy: {accuracy_lr_bow:.2f}')\n",
        "f1_lr_bow = round(f1_score(y_test, y_pred), 2)\n",
        "precision_lr_bow = round(precision_score(y_test, y_pred), 2)\n",
        "recall_lr_bow = round(recall_score(y_test, y_pred), 2)\n",
        "\n",
        "# Вывод отчета о классификации и матрицы ошибок\n",
        "print(classification_report(y_test, y_pred))\n",
        "print(confusion_matrix(y_test, y_pred))"
      ],
      "metadata": {
        "colab": {
          "base_uri": "https://localhost:8080/"
        },
        "id": "bHwtMF2wWhDN",
        "outputId": "101876d9-a059-49d4-da3c-9a1585e23685"
      },
      "execution_count": null,
      "outputs": [
        {
          "output_type": "stream",
          "name": "stdout",
          "text": [
            "Accuracy: 0.97\n",
            "              precision    recall  f1-score   support\n",
            "\n",
            "           0       0.98      0.97      0.98       831\n",
            "           1       0.94      0.96      0.95       380\n",
            "\n",
            "    accuracy                           0.97      1211\n",
            "   macro avg       0.96      0.97      0.96      1211\n",
            "weighted avg       0.97      0.97      0.97      1211\n",
            "\n",
            "[[806  25]\n",
            " [ 14 366]]\n"
          ]
        }
      ]
    },
    {
      "cell_type": "markdown",
      "source": [
        "## TF-IDF"
      ],
      "metadata": {
        "id": "PYQ6G-DIsGfD"
      }
    },
    {
      "cell_type": "code",
      "source": [
        "# Преобразование данных в векторы TF-IDF\n",
        "tfidf_vectorizer = TfidfVectorizer(stop_words=['english', 'chinese'])\n",
        "tfidf_vectorizer.fit(X_train)\n",
        "X_train_tfidf = tfidf_vectorizer.transform(X_train)\n",
        "X_test_tfidf = tfidf_vectorizer.transform(X_test)\n",
        "\n",
        "# Обучение модели\n",
        "clf = LogisticRegression(max_iter=100)\n",
        "clf.fit(X_train_tfidf, y_train)\n",
        "\n",
        "# Предсказание меток для тестовых данных\n",
        "y_pred = clf.predict(X_test_tfidf)\n",
        "\n",
        "# Оценка точности модели\n",
        "accuracy_lr_tfidf = round(accuracy_score(y_test, y_pred), 2)\n",
        "print(f'Accuracy: {accuracy_lr_tfidf:.2f}')\n",
        "f1_lr_tfidf = round(f1_score(y_test, y_pred), 2)\n",
        "precision_lr_tfidf = round(precision_score(y_test, y_pred), 2)\n",
        "recall_lr_tfidf = round(recall_score(y_test, y_pred), 2)\n",
        "\n",
        "# Вывод отчета о классификации и матрицы ошибок\n",
        "print(classification_report(y_test, y_pred))\n",
        "print(confusion_matrix(y_test, y_pred))"
      ],
      "metadata": {
        "colab": {
          "base_uri": "https://localhost:8080/"
        },
        "id": "VTjKw4pNp31q",
        "outputId": "17e72ecc-fee2-463c-bd3d-4363a7115e5b"
      },
      "execution_count": null,
      "outputs": [
        {
          "output_type": "stream",
          "name": "stdout",
          "text": [
            "Accuracy: 0.95\n",
            "              precision    recall  f1-score   support\n",
            "\n",
            "           0       0.94      0.99      0.96       831\n",
            "           1       0.98      0.86      0.92       380\n",
            "\n",
            "    accuracy                           0.95      1211\n",
            "   macro avg       0.96      0.93      0.94      1211\n",
            "weighted avg       0.95      0.95      0.95      1211\n",
            "\n",
            "[[824   7]\n",
            " [ 53 327]]\n"
          ]
        }
      ]
    },
    {
      "cell_type": "markdown",
      "source": [
        "## Word Embeddings"
      ],
      "metadata": {
        "id": "C_I-IiM5sSSO"
      }
    },
    {
      "cell_type": "code",
      "source": [
        "# Обучение модели Word2Vec\n",
        "sentences = [sentence.split() for sentence in X_train]\n",
        "w2v_model = Word2Vec(sentences, vector_size=100, window=5, min_count=5, sg=0)\n",
        "\n",
        "# Преобразование данных в векторы\n",
        "def vectorize(sentence):\n",
        "    words = sentence.split()\n",
        "    words_vecs = [w2v_model.wv[word] for word in words if word in w2v_model.wv]\n",
        "    if len(words_vecs) == 0:\n",
        "        return np.zeros(100)\n",
        "    words_vecs = np.array(words_vecs)\n",
        "    return words_vecs.mean(axis=0)\n",
        "\n",
        "X_train_w2v = np.array([vectorize(sentence) for sentence in X_train])\n",
        "X_test_w2v = np.array([vectorize(sentence) for sentence in X_test])\n",
        "\n",
        "# Обучение модели\n",
        "clf = LogisticRegression(max_iter=100)\n",
        "clf.fit(X_train_w2v, y_train)\n",
        "\n",
        "# Предсказание меток для тестовых данных\n",
        "y_pred = clf.predict(X_test_w2v)\n",
        "\n",
        "# Оценка точности модели\n",
        "accuracy_lr_w2v = round(accuracy_score(y_test, y_pred), 2)\n",
        "print(f'Accuracy: {accuracy_lr_w2v:.2f}')\n",
        "f1_lr_w2v = round(f1_score(y_test, y_pred), 2)\n",
        "precision_lr_w2v = round(precision_score(y_test, y_pred), 2)\n",
        "recall_lr_w2v = round(recall_score(y_test, y_pred), 2)\n",
        "\n",
        "# Вывод отчета о классификации и матрицы ошибок\n",
        "print(classification_report(y_test, y_pred))\n",
        "print(confusion_matrix(y_test, y_pred))"
      ],
      "metadata": {
        "colab": {
          "base_uri": "https://localhost:8080/"
        },
        "id": "2IZz2CYTp3xq",
        "outputId": "86cc9fc3-6d08-4bbb-a8af-1754018c6104"
      },
      "execution_count": null,
      "outputs": [
        {
          "output_type": "stream",
          "name": "stdout",
          "text": [
            "Accuracy: 0.96\n",
            "              precision    recall  f1-score   support\n",
            "\n",
            "           0       0.96      0.98      0.97       831\n",
            "           1       0.95      0.91      0.93       380\n",
            "\n",
            "    accuracy                           0.96      1211\n",
            "   macro avg       0.95      0.94      0.95      1211\n",
            "weighted avg       0.96      0.96      0.96      1211\n",
            "\n",
            "[[811  20]\n",
            " [ 33 347]]\n"
          ]
        }
      ]
    },
    {
      "cell_type": "markdown",
      "source": [
        "# Random Forest"
      ],
      "metadata": {
        "id": "n6EFDoXgp4Yn"
      }
    },
    {
      "cell_type": "code",
      "source": [
        "from sklearn.ensemble import RandomForestClassifier"
      ],
      "metadata": {
        "id": "FrMfodVEqDel"
      },
      "execution_count": null,
      "outputs": []
    },
    {
      "cell_type": "markdown",
      "source": [
        "## Bag-of-Words"
      ],
      "metadata": {
        "id": "oIUxX04pqAPn"
      }
    },
    {
      "cell_type": "code",
      "source": [
        "# Преобразование данных в векторы\n",
        "vectorizer = CountVectorizer(stop_words=['english', 'chinese'])\n",
        "vectorizer.fit(X_train)\n",
        "X_train_count = vectorizer.transform(X_train)\n",
        "X_test_count = vectorizer.transform(X_test)\n",
        "\n",
        "# Обучение модели\n",
        "rfc = RandomForestClassifier(n_estimators=100)\n",
        "rfc.fit(X_train_count, y_train)\n",
        "\n",
        "# Предсказание меток для тестовых данных\n",
        "y_pred = rfc.predict(X_test_count)\n",
        "\n",
        "# Оценка точности модели\n",
        "accuracy_rf_bow = round(accuracy_score(y_test, y_pred), 2)\n",
        "print(f'Accuracy: {accuracy_rf_bow:.2f}')\n",
        "f1_rf_bow = round(f1_score(y_test, y_pred), 2)\n",
        "precision_rf_bow = round(precision_score(y_test, y_pred), 2)\n",
        "recall_rf_bow = round(recall_score(y_test, y_pred), 2)\n",
        "\n",
        "# Вывод отчета о классификации и матрицы ошибок\n",
        "print(classification_report(y_test, y_pred))\n",
        "print(confusion_matrix(y_test, y_pred))"
      ],
      "metadata": {
        "colab": {
          "base_uri": "https://localhost:8080/"
        },
        "id": "4XGisg5jW6le",
        "outputId": "98b2b8a0-e85c-43b4-d859-96610187e0f4"
      },
      "execution_count": null,
      "outputs": [
        {
          "output_type": "stream",
          "name": "stdout",
          "text": [
            "Accuracy: 0.97\n",
            "              precision    recall  f1-score   support\n",
            "\n",
            "           0       0.98      0.98      0.98       831\n",
            "           1       0.95      0.96      0.96       380\n",
            "\n",
            "    accuracy                           0.97      1211\n",
            "   macro avg       0.97      0.97      0.97      1211\n",
            "weighted avg       0.97      0.97      0.97      1211\n",
            "\n",
            "[[813  18]\n",
            " [ 16 364]]\n"
          ]
        }
      ]
    },
    {
      "cell_type": "markdown",
      "source": [
        "## TF-IDF"
      ],
      "metadata": {
        "id": "xxylp5FCsIOV"
      }
    },
    {
      "cell_type": "code",
      "source": [
        "# Преобразование данных в векторы TF-IDF\n",
        "tfidf_vectorizer = TfidfVectorizer(stop_words=['english', 'chinese'])\n",
        "tfidf_vectorizer.fit(X_train)\n",
        "X_train_tfidf = tfidf_vectorizer.transform(X_train)\n",
        "X_test_tfidf = tfidf_vectorizer.transform(X_test)\n",
        "\n",
        "# Обучение модели\n",
        "rfc = RandomForestClassifier(n_estimators=100)\n",
        "rfc.fit(X_train_tfidf, y_train)\n",
        "\n",
        "# Предсказание меток для тестовых данных\n",
        "y_pred = rfc.predict(X_test_tfidf)\n",
        "\n",
        "# Оценка точности модели\n",
        "accuracy_rf_tfidf = round(accuracy_score(y_test, y_pred), 2)\n",
        "print(f'Accuracy: {accuracy_rf_tfidf:.2f}')\n",
        "f1_rf_tfidf = round(f1_score(y_test, y_pred), 2)\n",
        "precision_rf_tfidf = round(precision_score(y_test, y_pred), 2)\n",
        "recall_rf_tfidf = round(recall_score(y_test, y_pred), 2)\n",
        "\n",
        "# Вывод отчета о классификации и матрицы ошибок\n",
        "print(classification_report(y_test, y_pred))\n",
        "print(confusion_matrix(y_test, y_pred))"
      ],
      "metadata": {
        "colab": {
          "base_uri": "https://localhost:8080/"
        },
        "id": "shl3ypxPsPLv",
        "outputId": "87a1fa7b-204a-4a00-e8d8-983649158dbb"
      },
      "execution_count": null,
      "outputs": [
        {
          "output_type": "stream",
          "name": "stdout",
          "text": [
            "Accuracy: 0.98\n",
            "              precision    recall  f1-score   support\n",
            "\n",
            "           0       0.98      0.99      0.98       831\n",
            "           1       0.97      0.96      0.97       380\n",
            "\n",
            "    accuracy                           0.98      1211\n",
            "   macro avg       0.98      0.97      0.98      1211\n",
            "weighted avg       0.98      0.98      0.98      1211\n",
            "\n",
            "[[820  11]\n",
            " [ 14 366]]\n"
          ]
        }
      ]
    },
    {
      "cell_type": "markdown",
      "source": [
        "## Word Embeddings"
      ],
      "metadata": {
        "id": "EjY2P1KdsPl1"
      }
    },
    {
      "cell_type": "code",
      "source": [
        "# Обучение модели Word2Vec\n",
        "sentences = [sentence.split() for sentence in X_train]\n",
        "w2v_model = Word2Vec(sentences, vector_size=100, window=5, min_count=5, sg=0)\n",
        "\n",
        "# Преобразование данных в векторы\n",
        "def vectorize(sentence):\n",
        "    words = sentence.split()\n",
        "    words_vecs = [w2v_model.wv[word] for word in words if word in w2v_model.wv]\n",
        "    if len(words_vecs) == 0:\n",
        "        return np.zeros(100)\n",
        "    words_vecs = np.array(words_vecs)\n",
        "    return words_vecs.mean(axis=0)\n",
        "\n",
        "X_train_w2v = np.array([vectorize(sentence) for sentence in X_train])\n",
        "X_test_w2v = np.array([vectorize(sentence) for sentence in X_test])\n",
        "\n",
        "# Обучение модели\n",
        "rfc = RandomForestClassifier(n_estimators=100)\n",
        "rfc.fit(X_train_w2v, y_train)\n",
        "\n",
        "# Предсказание меток для тестовых данных\n",
        "y_pred = rfc.predict(X_test_w2v)\n",
        "\n",
        "# Оценка точности модели\n",
        "accuracy_rf_w2v = round(accuracy_score(y_test, y_pred), 2)\n",
        "print(f'Accuracy: {accuracy_rf_w2v:.2f}')\n",
        "f1_rf_w2v = round(f1_score(y_test, y_pred), 2)\n",
        "precision_rf_w2v = round(precision_score(y_test, y_pred), 2)\n",
        "recall_rf_w2v = round(recall_score(y_test, y_pred), 2)\n",
        "\n",
        "# Вывод отчета о классификации и матрицы ошибок\n",
        "print(classification_report(y_test, y_pred))\n",
        "print(confusion_matrix(y_test, y_pred))"
      ],
      "metadata": {
        "colab": {
          "base_uri": "https://localhost:8080/"
        },
        "id": "GU2LhH9IqfoM",
        "outputId": "22e5f770-9421-46b3-da29-a4eecb0b6358"
      },
      "execution_count": null,
      "outputs": [
        {
          "output_type": "stream",
          "name": "stdout",
          "text": [
            "Accuracy: 0.97\n",
            "              precision    recall  f1-score   support\n",
            "\n",
            "           0       0.97      0.98      0.98       831\n",
            "           1       0.95      0.94      0.95       380\n",
            "\n",
            "    accuracy                           0.97      1211\n",
            "   macro avg       0.96      0.96      0.96      1211\n",
            "weighted avg       0.97      0.97      0.97      1211\n",
            "\n",
            "[[813  18]\n",
            " [ 22 358]]\n"
          ]
        }
      ]
    },
    {
      "cell_type": "markdown",
      "source": [
        "# SVM"
      ],
      "metadata": {
        "id": "4d-j70ZPql8L"
      }
    },
    {
      "cell_type": "markdown",
      "source": [
        "Метод опорных векторов (SVM) часто используется для задач классификации благодаря своей высокой точности. SVM строит гиперплоскость, которая максимально разделяет классы в многомерном пространстве признаков.\n",
        "\n",
        "SVM метод хорошо подходит для задач, где классы четко разделены, но может быть менее эффективен для задач с большим количеством шумовых данных или перекрывающихся классов."
      ],
      "metadata": {
        "id": "gPSSfbcUuNhd"
      }
    },
    {
      "cell_type": "code",
      "source": [
        "from sklearn.svm import SVC"
      ],
      "metadata": {
        "id": "LX34I_idqoRe"
      },
      "execution_count": null,
      "outputs": []
    },
    {
      "cell_type": "markdown",
      "source": [
        "## Bag-of-Words"
      ],
      "metadata": {
        "id": "N8F0YUjiqrIY"
      }
    },
    {
      "cell_type": "code",
      "source": [
        "# Преобразование данных в векторы\n",
        "vectorizer = CountVectorizer(stop_words=['english', 'chinese'])\n",
        "vectorizer.fit(X_train)\n",
        "X_train_count = vectorizer.transform(X_train)\n",
        "X_test_count = vectorizer.transform(X_test)\n",
        "\n",
        "# Обучение модели\n",
        "svm_classifier = SVC(kernel='linear')\n",
        "svm_classifier.fit(X_train_count, y_train)\n",
        "\n",
        "# Предсказание меток для тестовых данных\n",
        "y_pred = svm_classifier.predict(X_test_count)\n",
        "\n",
        "# Оценка точности модели\n",
        "accuracy_svm_bow = round(accuracy_score(y_test, y_pred), 2)\n",
        "print(f'Accuracy: {accuracy_svm_bow:.2f}')\n",
        "f1_svm_bow = round(f1_score(y_test, y_pred), 2)\n",
        "precision_svm_bow = round(precision_score(y_test, y_pred), 2)\n",
        "recall_svm_bow = round(recall_score(y_test, y_pred), 2)\n",
        "\n",
        "# Вывод отчета о классификации и матрицы ошибок\n",
        "print(classification_report(y_test, y_pred))\n",
        "print(confusion_matrix(y_test, y_pred))"
      ],
      "metadata": {
        "colab": {
          "base_uri": "https://localhost:8080/"
        },
        "id": "xMUJeDW3hlVj",
        "outputId": "22894e37-5c0f-4bf6-a690-568a938f4c5a"
      },
      "execution_count": null,
      "outputs": [
        {
          "output_type": "stream",
          "name": "stdout",
          "text": [
            "Accuracy: 0.96\n",
            "              precision    recall  f1-score   support\n",
            "\n",
            "           0       0.98      0.97      0.97       831\n",
            "           1       0.93      0.95      0.94       380\n",
            "\n",
            "    accuracy                           0.96      1211\n",
            "   macro avg       0.95      0.96      0.95      1211\n",
            "weighted avg       0.96      0.96      0.96      1211\n",
            "\n",
            "[[802  29]\n",
            " [ 20 360]]\n"
          ]
        }
      ]
    },
    {
      "cell_type": "markdown",
      "source": [
        "## TF-IDF"
      ],
      "metadata": {
        "id": "wzXTxi6osKHB"
      }
    },
    {
      "cell_type": "code",
      "source": [
        "# Преобразование данных в векторы TF-IDF\n",
        "tfidf_vectorizer = TfidfVectorizer(stop_words=['english', 'chinese'])\n",
        "tfidf_vectorizer.fit(X_train)\n",
        "X_train_tfidf = tfidf_vectorizer.transform(X_train)\n",
        "X_test_tfidf = tfidf_vectorizer.transform(X_test)\n",
        "\n",
        "# Обучение модели\n",
        "svm_classifier = SVC(kernel='linear')\n",
        "svm_classifier.fit(X_train_tfidf, y_train)\n",
        "\n",
        "# Предсказание меток для тестовых данных\n",
        "y_pred = svm_classifier.predict(X_test_tfidf)\n",
        "\n",
        "# Оценка точности модели\n",
        "accuracy_svm_tfidf = round(accuracy_score(y_test, y_pred), 2)\n",
        "print(f'Accuracy: {accuracy_svm_tfidf:.2f}')\n",
        "f1_svm_tfidf = round(f1_score(y_test, y_pred), 2)\n",
        "precision_svm_tfidf = round(precision_score(y_test, y_pred), 2)\n",
        "recall_svm_tfidf = round(recall_score(y_test, y_pred), 2)\n",
        "\n",
        "# Вывод отчета о классификации и матрицы ошибок\n",
        "print(classification_report(y_test, y_pred))\n",
        "print(confusion_matrix(y_test, y_pred))"
      ],
      "metadata": {
        "colab": {
          "base_uri": "https://localhost:8080/"
        },
        "id": "U2W1QGWvhyDr",
        "outputId": "f5a9d4c1-5aa7-4190-8665-0b6e522771ec"
      },
      "execution_count": null,
      "outputs": [
        {
          "output_type": "stream",
          "name": "stdout",
          "text": [
            "Accuracy: 0.96\n",
            "              precision    recall  f1-score   support\n",
            "\n",
            "           0       0.96      0.99      0.97       831\n",
            "           1       0.98      0.91      0.94       380\n",
            "\n",
            "    accuracy                           0.96      1211\n",
            "   macro avg       0.97      0.95      0.96      1211\n",
            "weighted avg       0.97      0.96      0.96      1211\n",
            "\n",
            "[[824   7]\n",
            " [ 36 344]]\n"
          ]
        }
      ]
    },
    {
      "cell_type": "markdown",
      "source": [
        "## Word Embeddings"
      ],
      "metadata": {
        "id": "9irop5I0sNuG"
      }
    },
    {
      "cell_type": "code",
      "source": [
        "# Обучение модели Word2Vec\n",
        "sentences = [sentence.split() for sentence in X_train]\n",
        "w2v_model = Word2Vec(sentences, vector_size=100, window=5, min_count=5, sg=0)\n",
        "\n",
        "# Преобразование данных в векторы\n",
        "def vectorize(sentence):\n",
        "    words = sentence.split()\n",
        "    words_vecs = [w2v_model.wv[word] for word in words if word in w2v_model.wv]\n",
        "    if len(words_vecs) == 0:\n",
        "        return np.zeros(100)\n",
        "    words_vecs = np.array(words_vecs)\n",
        "    return words_vecs.mean(axis=0)\n",
        "\n",
        "X_train_w2v = np.array([vectorize(sentence) for sentence in X_train])\n",
        "X_test_w2v = np.array([vectorize(sentence) for sentence in X_test])\n",
        "\n",
        "# Обучение модели\n",
        "svm_classifier = SVC(kernel='linear')\n",
        "svm_classifier.fit(X_train_w2v, y_train)\n",
        "\n",
        "# Предсказание меток для тестовых данных\n",
        "y_pred = svm_classifier.predict(X_test_w2v)\n",
        "\n",
        "# Оценка точности модели\n",
        "accuracy_svm_w2v = round(accuracy_score(y_test, y_pred), 2)\n",
        "print(f'Accuracy: {accuracy_svm_w2v:.2f}')\n",
        "f1_svm_w2v = round(f1_score(y_test, y_pred), 2)\n",
        "precision_svm_w2v = round(precision_score(y_test, y_pred), 2)\n",
        "recall_svm_w2v = round(recall_score(y_test, y_pred), 2)\n",
        "\n",
        "# Вывод отчета о классификации и матрицы ошибок\n",
        "print(classification_report(y_test, y_pred))\n",
        "print(confusion_matrix(y_test, y_pred))"
      ],
      "metadata": {
        "id": "wji6QBqCHE9-",
        "colab": {
          "base_uri": "https://localhost:8080/"
        },
        "outputId": "0b957cc9-715c-44e1-e503-591ab8edc9ef"
      },
      "execution_count": null,
      "outputs": [
        {
          "output_type": "stream",
          "name": "stdout",
          "text": [
            "Accuracy: 0.96\n",
            "              precision    recall  f1-score   support\n",
            "\n",
            "           0       0.96      0.98      0.97       831\n",
            "           1       0.95      0.92      0.93       380\n",
            "\n",
            "    accuracy                           0.96      1211\n",
            "   macro avg       0.96      0.95      0.95      1211\n",
            "weighted avg       0.96      0.96      0.96      1211\n",
            "\n",
            "[[812  19]\n",
            " [ 30 350]]\n"
          ]
        }
      ]
    },
    {
      "cell_type": "markdown",
      "source": [
        "# Total"
      ],
      "metadata": {
        "id": "RMWbsgSzuWJO"
      }
    },
    {
      "cell_type": "code",
      "source": [
        "data = {\n",
        "    'Model': ['Naive Bayes (BoW)', 'Naive Bayes (TF-IDF)', 'Naive Bayes (w2v)',\n",
        "              'Logistic Regression (BoW)', 'Logistic Regression (TF-IDF)', 'Logistic Regression (w2v)',\n",
        "              'Random Forest (BoW)', 'Random Forest (TF-IDF)', 'Random Forest (w2v)',\n",
        "              'SVM (BoW)', 'SVM (TF-IDF)', 'SVM (w2v)'],\n",
        "    'Accuracy': [accuracy_nb_bow, accuracy_nb_tfidf, accuracy_nb_w2v,\n",
        "                 accuracy_lr_bow, accuracy_lr_tfidf, accuracy_lr_w2v,\n",
        "                 accuracy_rf_bow, accuracy_rf_tfidf, accuracy_rf_w2v,\n",
        "                 accuracy_svm_bow, accuracy_svm_tfidf, accuracy_svm_w2v],\n",
        "    'F1-score': [f1_nb_bow, f1_nb_tfidf, f1_nb_w2v,\n",
        "                 f1_lr_bow, f1_lr_tfidf, f1_lr_w2v,\n",
        "                 f1_rf_bow, f1_rf_tfidf, f1_rf_w2v,\n",
        "                 f1_svm_bow, f1_svm_tfidf, f1_svm_w2v],\n",
        "    'Precision': [precision_nb_bow, precision_nb_tfidf, precision_nb_w2v,\n",
        "                  precision_lr_bow, precision_lr_tfidf, precision_lr_w2v,\n",
        "                  precision_rf_bow, precision_rf_tfidf, precision_rf_w2v,\n",
        "                  precision_svm_bow, precision_svm_tfidf, precision_svm_w2v],\n",
        "    'Recall': [recall_nb_bow, recall_nb_tfidf, recall_nb_w2v,\n",
        "               recall_lr_bow, recall_lr_tfidf, recall_lr_w2v,\n",
        "               recall_rf_bow, recall_rf_tfidf, recall_rf_w2v,\n",
        "               recall_svm_bow, recall_svm_tfidf, recall_svm_w2v]\n",
        "}\n",
        "\n",
        "models = pd.DataFrame(data)\n",
        "models"
      ],
      "metadata": {
        "colab": {
          "base_uri": "https://localhost:8080/",
          "height": 426
        },
        "id": "npRFsxlcsLug",
        "outputId": "98df11a5-c8c5-483b-dd8f-72f002bc94e2"
      },
      "execution_count": null,
      "outputs": [
        {
          "output_type": "execute_result",
          "data": {
            "text/plain": [
              "                           Model  Accuracy  F1-score  Precision  Recall\n",
              "0              Naive Bayes (BoW)      0.95      0.92       0.96    0.89\n",
              "1           Naive Bayes (TF-IDF)      0.91      0.84       1.00    0.73\n",
              "2              Naive Bayes (w2v)      0.77      0.44       1.00    0.28\n",
              "3      Logistic Regression (BoW)      0.97      0.95       0.94    0.96\n",
              "4   Logistic Regression (TF-IDF)      0.95      0.92       0.98    0.86\n",
              "5      Logistic Regression (w2v)      0.96      0.93       0.95    0.91\n",
              "6            Random Forest (BoW)      0.97      0.96       0.95    0.96\n",
              "7         Random Forest (TF-IDF)      0.98      0.97       0.97    0.96\n",
              "8            Random Forest (w2v)      0.97      0.95       0.95    0.94\n",
              "9                      SVM (BoW)      0.96      0.94       0.93    0.95\n",
              "10                  SVM (TF-IDF)      0.96      0.94       0.98    0.91\n",
              "11                     SVM (w2v)      0.96      0.93       0.95    0.92"
            ],
            "text/html": [
              "\n",
              "  <div id=\"df-6f477a24-3713-491f-bc11-bc759fe6a124\" class=\"colab-df-container\">\n",
              "    <div>\n",
              "<style scoped>\n",
              "    .dataframe tbody tr th:only-of-type {\n",
              "        vertical-align: middle;\n",
              "    }\n",
              "\n",
              "    .dataframe tbody tr th {\n",
              "        vertical-align: top;\n",
              "    }\n",
              "\n",
              "    .dataframe thead th {\n",
              "        text-align: right;\n",
              "    }\n",
              "</style>\n",
              "<table border=\"1\" class=\"dataframe\">\n",
              "  <thead>\n",
              "    <tr style=\"text-align: right;\">\n",
              "      <th></th>\n",
              "      <th>Model</th>\n",
              "      <th>Accuracy</th>\n",
              "      <th>F1-score</th>\n",
              "      <th>Precision</th>\n",
              "      <th>Recall</th>\n",
              "    </tr>\n",
              "  </thead>\n",
              "  <tbody>\n",
              "    <tr>\n",
              "      <th>0</th>\n",
              "      <td>Naive Bayes (BoW)</td>\n",
              "      <td>0.95</td>\n",
              "      <td>0.92</td>\n",
              "      <td>0.96</td>\n",
              "      <td>0.89</td>\n",
              "    </tr>\n",
              "    <tr>\n",
              "      <th>1</th>\n",
              "      <td>Naive Bayes (TF-IDF)</td>\n",
              "      <td>0.91</td>\n",
              "      <td>0.84</td>\n",
              "      <td>1.00</td>\n",
              "      <td>0.73</td>\n",
              "    </tr>\n",
              "    <tr>\n",
              "      <th>2</th>\n",
              "      <td>Naive Bayes (w2v)</td>\n",
              "      <td>0.77</td>\n",
              "      <td>0.44</td>\n",
              "      <td>1.00</td>\n",
              "      <td>0.28</td>\n",
              "    </tr>\n",
              "    <tr>\n",
              "      <th>3</th>\n",
              "      <td>Logistic Regression (BoW)</td>\n",
              "      <td>0.97</td>\n",
              "      <td>0.95</td>\n",
              "      <td>0.94</td>\n",
              "      <td>0.96</td>\n",
              "    </tr>\n",
              "    <tr>\n",
              "      <th>4</th>\n",
              "      <td>Logistic Regression (TF-IDF)</td>\n",
              "      <td>0.95</td>\n",
              "      <td>0.92</td>\n",
              "      <td>0.98</td>\n",
              "      <td>0.86</td>\n",
              "    </tr>\n",
              "    <tr>\n",
              "      <th>5</th>\n",
              "      <td>Logistic Regression (w2v)</td>\n",
              "      <td>0.96</td>\n",
              "      <td>0.93</td>\n",
              "      <td>0.95</td>\n",
              "      <td>0.91</td>\n",
              "    </tr>\n",
              "    <tr>\n",
              "      <th>6</th>\n",
              "      <td>Random Forest (BoW)</td>\n",
              "      <td>0.97</td>\n",
              "      <td>0.96</td>\n",
              "      <td>0.95</td>\n",
              "      <td>0.96</td>\n",
              "    </tr>\n",
              "    <tr>\n",
              "      <th>7</th>\n",
              "      <td>Random Forest (TF-IDF)</td>\n",
              "      <td>0.98</td>\n",
              "      <td>0.97</td>\n",
              "      <td>0.97</td>\n",
              "      <td>0.96</td>\n",
              "    </tr>\n",
              "    <tr>\n",
              "      <th>8</th>\n",
              "      <td>Random Forest (w2v)</td>\n",
              "      <td>0.97</td>\n",
              "      <td>0.95</td>\n",
              "      <td>0.95</td>\n",
              "      <td>0.94</td>\n",
              "    </tr>\n",
              "    <tr>\n",
              "      <th>9</th>\n",
              "      <td>SVM (BoW)</td>\n",
              "      <td>0.96</td>\n",
              "      <td>0.94</td>\n",
              "      <td>0.93</td>\n",
              "      <td>0.95</td>\n",
              "    </tr>\n",
              "    <tr>\n",
              "      <th>10</th>\n",
              "      <td>SVM (TF-IDF)</td>\n",
              "      <td>0.96</td>\n",
              "      <td>0.94</td>\n",
              "      <td>0.98</td>\n",
              "      <td>0.91</td>\n",
              "    </tr>\n",
              "    <tr>\n",
              "      <th>11</th>\n",
              "      <td>SVM (w2v)</td>\n",
              "      <td>0.96</td>\n",
              "      <td>0.93</td>\n",
              "      <td>0.95</td>\n",
              "      <td>0.92</td>\n",
              "    </tr>\n",
              "  </tbody>\n",
              "</table>\n",
              "</div>\n",
              "    <div class=\"colab-df-buttons\">\n",
              "\n",
              "  <div class=\"colab-df-container\">\n",
              "    <button class=\"colab-df-convert\" onclick=\"convertToInteractive('df-6f477a24-3713-491f-bc11-bc759fe6a124')\"\n",
              "            title=\"Convert this dataframe to an interactive table.\"\n",
              "            style=\"display:none;\">\n",
              "\n",
              "  <svg xmlns=\"http://www.w3.org/2000/svg\" height=\"24px\" viewBox=\"0 -960 960 960\">\n",
              "    <path d=\"M120-120v-720h720v720H120Zm60-500h600v-160H180v160Zm220 220h160v-160H400v160Zm0 220h160v-160H400v160ZM180-400h160v-160H180v160Zm440 0h160v-160H620v160ZM180-180h160v-160H180v160Zm440 0h160v-160H620v160Z\"/>\n",
              "  </svg>\n",
              "    </button>\n",
              "\n",
              "  <style>\n",
              "    .colab-df-container {\n",
              "      display:flex;\n",
              "      gap: 12px;\n",
              "    }\n",
              "\n",
              "    .colab-df-convert {\n",
              "      background-color: #E8F0FE;\n",
              "      border: none;\n",
              "      border-radius: 50%;\n",
              "      cursor: pointer;\n",
              "      display: none;\n",
              "      fill: #1967D2;\n",
              "      height: 32px;\n",
              "      padding: 0 0 0 0;\n",
              "      width: 32px;\n",
              "    }\n",
              "\n",
              "    .colab-df-convert:hover {\n",
              "      background-color: #E2EBFA;\n",
              "      box-shadow: 0px 1px 2px rgba(60, 64, 67, 0.3), 0px 1px 3px 1px rgba(60, 64, 67, 0.15);\n",
              "      fill: #174EA6;\n",
              "    }\n",
              "\n",
              "    .colab-df-buttons div {\n",
              "      margin-bottom: 4px;\n",
              "    }\n",
              "\n",
              "    [theme=dark] .colab-df-convert {\n",
              "      background-color: #3B4455;\n",
              "      fill: #D2E3FC;\n",
              "    }\n",
              "\n",
              "    [theme=dark] .colab-df-convert:hover {\n",
              "      background-color: #434B5C;\n",
              "      box-shadow: 0px 1px 3px 1px rgba(0, 0, 0, 0.15);\n",
              "      filter: drop-shadow(0px 1px 2px rgba(0, 0, 0, 0.3));\n",
              "      fill: #FFFFFF;\n",
              "    }\n",
              "  </style>\n",
              "\n",
              "    <script>\n",
              "      const buttonEl =\n",
              "        document.querySelector('#df-6f477a24-3713-491f-bc11-bc759fe6a124 button.colab-df-convert');\n",
              "      buttonEl.style.display =\n",
              "        google.colab.kernel.accessAllowed ? 'block' : 'none';\n",
              "\n",
              "      async function convertToInteractive(key) {\n",
              "        const element = document.querySelector('#df-6f477a24-3713-491f-bc11-bc759fe6a124');\n",
              "        const dataTable =\n",
              "          await google.colab.kernel.invokeFunction('convertToInteractive',\n",
              "                                                    [key], {});\n",
              "        if (!dataTable) return;\n",
              "\n",
              "        const docLinkHtml = 'Like what you see? Visit the ' +\n",
              "          '<a target=\"_blank\" href=https://colab.research.google.com/notebooks/data_table.ipynb>data table notebook</a>'\n",
              "          + ' to learn more about interactive tables.';\n",
              "        element.innerHTML = '';\n",
              "        dataTable['output_type'] = 'display_data';\n",
              "        await google.colab.output.renderOutput(dataTable, element);\n",
              "        const docLink = document.createElement('div');\n",
              "        docLink.innerHTML = docLinkHtml;\n",
              "        element.appendChild(docLink);\n",
              "      }\n",
              "    </script>\n",
              "  </div>\n",
              "\n",
              "\n",
              "<div id=\"df-5ff33be5-d032-4fbd-ace4-d9a1d85766f3\">\n",
              "  <button class=\"colab-df-quickchart\" onclick=\"quickchart('df-5ff33be5-d032-4fbd-ace4-d9a1d85766f3')\"\n",
              "            title=\"Suggest charts\"\n",
              "            style=\"display:none;\">\n",
              "\n",
              "<svg xmlns=\"http://www.w3.org/2000/svg\" height=\"24px\"viewBox=\"0 0 24 24\"\n",
              "     width=\"24px\">\n",
              "    <g>\n",
              "        <path d=\"M19 3H5c-1.1 0-2 .9-2 2v14c0 1.1.9 2 2 2h14c1.1 0 2-.9 2-2V5c0-1.1-.9-2-2-2zM9 17H7v-7h2v7zm4 0h-2V7h2v10zm4 0h-2v-4h2v4z\"/>\n",
              "    </g>\n",
              "</svg>\n",
              "  </button>\n",
              "\n",
              "<style>\n",
              "  .colab-df-quickchart {\n",
              "      --bg-color: #E8F0FE;\n",
              "      --fill-color: #1967D2;\n",
              "      --hover-bg-color: #E2EBFA;\n",
              "      --hover-fill-color: #174EA6;\n",
              "      --disabled-fill-color: #AAA;\n",
              "      --disabled-bg-color: #DDD;\n",
              "  }\n",
              "\n",
              "  [theme=dark] .colab-df-quickchart {\n",
              "      --bg-color: #3B4455;\n",
              "      --fill-color: #D2E3FC;\n",
              "      --hover-bg-color: #434B5C;\n",
              "      --hover-fill-color: #FFFFFF;\n",
              "      --disabled-bg-color: #3B4455;\n",
              "      --disabled-fill-color: #666;\n",
              "  }\n",
              "\n",
              "  .colab-df-quickchart {\n",
              "    background-color: var(--bg-color);\n",
              "    border: none;\n",
              "    border-radius: 50%;\n",
              "    cursor: pointer;\n",
              "    display: none;\n",
              "    fill: var(--fill-color);\n",
              "    height: 32px;\n",
              "    padding: 0;\n",
              "    width: 32px;\n",
              "  }\n",
              "\n",
              "  .colab-df-quickchart:hover {\n",
              "    background-color: var(--hover-bg-color);\n",
              "    box-shadow: 0 1px 2px rgba(60, 64, 67, 0.3), 0 1px 3px 1px rgba(60, 64, 67, 0.15);\n",
              "    fill: var(--button-hover-fill-color);\n",
              "  }\n",
              "\n",
              "  .colab-df-quickchart-complete:disabled,\n",
              "  .colab-df-quickchart-complete:disabled:hover {\n",
              "    background-color: var(--disabled-bg-color);\n",
              "    fill: var(--disabled-fill-color);\n",
              "    box-shadow: none;\n",
              "  }\n",
              "\n",
              "  .colab-df-spinner {\n",
              "    border: 2px solid var(--fill-color);\n",
              "    border-color: transparent;\n",
              "    border-bottom-color: var(--fill-color);\n",
              "    animation:\n",
              "      spin 1s steps(1) infinite;\n",
              "  }\n",
              "\n",
              "  @keyframes spin {\n",
              "    0% {\n",
              "      border-color: transparent;\n",
              "      border-bottom-color: var(--fill-color);\n",
              "      border-left-color: var(--fill-color);\n",
              "    }\n",
              "    20% {\n",
              "      border-color: transparent;\n",
              "      border-left-color: var(--fill-color);\n",
              "      border-top-color: var(--fill-color);\n",
              "    }\n",
              "    30% {\n",
              "      border-color: transparent;\n",
              "      border-left-color: var(--fill-color);\n",
              "      border-top-color: var(--fill-color);\n",
              "      border-right-color: var(--fill-color);\n",
              "    }\n",
              "    40% {\n",
              "      border-color: transparent;\n",
              "      border-right-color: var(--fill-color);\n",
              "      border-top-color: var(--fill-color);\n",
              "    }\n",
              "    60% {\n",
              "      border-color: transparent;\n",
              "      border-right-color: var(--fill-color);\n",
              "    }\n",
              "    80% {\n",
              "      border-color: transparent;\n",
              "      border-right-color: var(--fill-color);\n",
              "      border-bottom-color: var(--fill-color);\n",
              "    }\n",
              "    90% {\n",
              "      border-color: transparent;\n",
              "      border-bottom-color: var(--fill-color);\n",
              "    }\n",
              "  }\n",
              "</style>\n",
              "\n",
              "  <script>\n",
              "    async function quickchart(key) {\n",
              "      const quickchartButtonEl =\n",
              "        document.querySelector('#' + key + ' button');\n",
              "      quickchartButtonEl.disabled = true;  // To prevent multiple clicks.\n",
              "      quickchartButtonEl.classList.add('colab-df-spinner');\n",
              "      try {\n",
              "        const charts = await google.colab.kernel.invokeFunction(\n",
              "            'suggestCharts', [key], {});\n",
              "      } catch (error) {\n",
              "        console.error('Error during call to suggestCharts:', error);\n",
              "      }\n",
              "      quickchartButtonEl.classList.remove('colab-df-spinner');\n",
              "      quickchartButtonEl.classList.add('colab-df-quickchart-complete');\n",
              "    }\n",
              "    (() => {\n",
              "      let quickchartButtonEl =\n",
              "        document.querySelector('#df-5ff33be5-d032-4fbd-ace4-d9a1d85766f3 button');\n",
              "      quickchartButtonEl.style.display =\n",
              "        google.colab.kernel.accessAllowed ? 'block' : 'none';\n",
              "    })();\n",
              "  </script>\n",
              "</div>\n",
              "    </div>\n",
              "  </div>\n"
            ],
            "application/vnd.google.colaboratory.intrinsic+json": {
              "type": "dataframe",
              "variable_name": "models",
              "summary": "{\n  \"name\": \"models\",\n  \"rows\": 12,\n  \"fields\": [\n    {\n      \"column\": \"Model\",\n      \"properties\": {\n        \"dtype\": \"string\",\n        \"num_unique_values\": 12,\n        \"samples\": [\n          \"SVM (TF-IDF)\",\n          \"SVM (BoW)\",\n          \"Naive Bayes (BoW)\"\n        ],\n        \"semantic_type\": \"\",\n        \"description\": \"\"\n      }\n    },\n    {\n      \"column\": \"Accuracy\",\n      \"properties\": {\n        \"dtype\": \"number\",\n        \"std\": 0.057068539334892567,\n        \"min\": 0.77,\n        \"max\": 0.98,\n        \"num_unique_values\": 6,\n        \"samples\": [\n          0.95,\n          0.91,\n          0.98\n        ],\n        \"semantic_type\": \"\",\n        \"description\": \"\"\n      }\n    },\n    {\n      \"column\": \"F1-score\",\n      \"properties\": {\n        \"dtype\": \"number\",\n        \"std\": 0.1456932227370757,\n        \"min\": 0.44,\n        \"max\": 0.97,\n        \"num_unique_values\": 8,\n        \"samples\": [\n          0.84,\n          0.96,\n          0.92\n        ],\n        \"semantic_type\": \"\",\n        \"description\": \"\"\n      }\n    },\n    {\n      \"column\": \"Precision\",\n      \"properties\": {\n        \"dtype\": \"number\",\n        \"std\": 0.022696949467968495,\n        \"min\": 0.93,\n        \"max\": 1.0,\n        \"num_unique_values\": 7,\n        \"samples\": [\n          0.96,\n          1.0,\n          0.97\n        ],\n        \"semantic_type\": \"\",\n        \"description\": \"\"\n      }\n    },\n    {\n      \"column\": \"Recall\",\n      \"properties\": {\n        \"dtype\": \"number\",\n        \"std\": 0.1923755008657114,\n        \"min\": 0.28,\n        \"max\": 0.96,\n        \"num_unique_values\": 9,\n        \"samples\": [\n          0.95,\n          0.73,\n          0.91\n        ],\n        \"semantic_type\": \"\",\n        \"description\": \"\"\n      }\n    }\n  ]\n}"
            }
          },
          "metadata": {},
          "execution_count": 112
        }
      ]
    }
  ]
}