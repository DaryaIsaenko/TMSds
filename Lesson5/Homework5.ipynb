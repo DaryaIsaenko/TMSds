{
  "nbformat": 4,
  "nbformat_minor": 0,
  "metadata": {
    "colab": {
      "provenance": []
    },
    "kernelspec": {
      "name": "python3",
      "display_name": "Python 3"
    },
    "language_info": {
      "name": "python"
    }
  },
  "cells": [
    {
      "cell_type": "markdown",
      "source": [
        "1. Напишите функцию для разделения строки и преобразования ее в список слов. Пример \"Robin Singh\" ==> [\"Robin\", \"Singh\"]"
      ],
      "metadata": {
        "id": "lxuSWou8KST3"
      }
    },
    {
      "cell_type": "code",
      "execution_count": 1,
      "metadata": {
        "colab": {
          "base_uri": "https://localhost:8080/"
        },
        "id": "BL8U4TqCKCeI",
        "outputId": "99cbd580-23f0-45b0-9e76-3628cba9429a"
      },
      "outputs": [
        {
          "output_type": "execute_result",
          "data": {
            "text/plain": [
              "['Robin', 'Singh']"
            ]
          },
          "metadata": {},
          "execution_count": 1
        }
      ],
      "source": [
        "# 1\n",
        "def word_list(s: str) -> list:\n",
        "  words = s.split()\n",
        "  return words\n",
        "\n",
        "s = 'Robin Singh'\n",
        "word_list(s)"
      ]
    },
    {
      "cell_type": "markdown",
      "source": [
        "2. Натан любит кататься на велосипеде. Поскольку Натан знает, как важно избегать обезвоживания, он выпивает 0,5 литра воды за час езды на велосипеде. Вам дано время в часах, и вам нужно вернуть количество литров, которое выпьет Натан, округленное до наименьшего значения. Пример time = 3 ----> litres = 1"
      ],
      "metadata": {
        "id": "s8dTrIonKjBm"
      }
    },
    {
      "cell_type": "code",
      "source": [
        "# 2\n",
        "from math import floor\n",
        "\n",
        "def water_liters(time: int) -> int:\n",
        "  hour_liter = 0.5\n",
        "  liters = floor(time * hour_liter)\n",
        "  return liters\n",
        "\n",
        "time = 3\n",
        "water_liters(time)"
      ],
      "metadata": {
        "colab": {
          "base_uri": "https://localhost:8080/"
        },
        "id": "TGjlWu_MKoHN",
        "outputId": "a5b3626a-f186-48f6-af0b-8301810d8c6b"
      },
      "execution_count": 2,
      "outputs": [
        {
          "output_type": "execute_result",
          "data": {
            "text/plain": [
              "1"
            ]
          },
          "metadata": {},
          "execution_count": 2
        }
      ]
    },
    {
      "cell_type": "markdown",
      "source": [
        "3. Создайте функцию, которая возвращает список целых чисел от n до 1, где n>0. Пример: n=5-->[5,4,3,2,1]"
      ],
      "metadata": {
        "id": "dp0lClYrKsIK"
      }
    },
    {
      "cell_type": "code",
      "source": [
        "# 3\n",
        "def number_list(n: int) -> list:\n",
        "  if n <= 0:\n",
        "    print('Wrong number: n <= 0')\n",
        "  else:\n",
        "    numbers = []\n",
        "    for i in range(n, 0, -1):\n",
        "      numbers.append(i)\n",
        "    return numbers\n",
        "\n",
        "n = 10\n",
        "number_list(n)"
      ],
      "metadata": {
        "colab": {
          "base_uri": "https://localhost:8080/"
        },
        "id": "ijQT5EteK-tE",
        "outputId": "5ef2ad37-aac6-46db-b260-923885c0ad1a"
      },
      "execution_count": 3,
      "outputs": [
        {
          "output_type": "execute_result",
          "data": {
            "text/plain": [
              "[10, 9, 8, 7, 6, 5, 4, 3, 2, 1]"
            ]
          },
          "metadata": {},
          "execution_count": 3
        }
      ]
    },
    {
      "cell_type": "markdown",
      "source": [
        "4. Учитывая год, верните столетие, в котором он находится. Пример 1705 --> 18 1900 --> 19 1601 --> 17"
      ],
      "metadata": {
        "id": "AmOC-qHOLGaJ"
      }
    },
    {
      "cell_type": "code",
      "source": [
        "# 4\n",
        "def century(year: int) -> int:\n",
        "  if year % 100 > 0:\n",
        "    century = year // 100 + 1\n",
        "  else:\n",
        "    century = year // 100\n",
        "  return century\n",
        "\n",
        "year = 1845\n",
        "century(year)"
      ],
      "metadata": {
        "colab": {
          "base_uri": "https://localhost:8080/"
        },
        "id": "mEQoEwxXLDc3",
        "outputId": "9d94d227-6746-49aa-87e1-434f875c72fe"
      },
      "execution_count": 4,
      "outputs": [
        {
          "output_type": "execute_result",
          "data": {
            "text/plain": [
              "19"
            ]
          },
          "metadata": {},
          "execution_count": 4
        }
      ]
    },
    {
      "cell_type": "markdown",
      "source": [
        "5. Учитывая случайное неотрицательное число, вам необходимо вернуть цифры этого числа в массиве в обратном порядке. 35231 => [1,3,2,5,3]"
      ],
      "metadata": {
        "id": "g8s3tfO0LPrq"
      }
    },
    {
      "cell_type": "code",
      "source": [
        "# 5\n",
        "def reverse_numbers(number: int) -> list:\n",
        "  if number < 0:\n",
        "    print('Wrong number. Enter a non-negative number.')\n",
        "  else:\n",
        "    number_str = str(number)\n",
        "    reverse_number = number_str[::-1]\n",
        "    reverse_number = list(map(int, reverse_number))\n",
        "    return reverse_number\n",
        "\n",
        "number = 35231\n",
        "reverse_numbers(number)"
      ],
      "metadata": {
        "colab": {
          "base_uri": "https://localhost:8080/"
        },
        "id": "zZ2o8bf8LVIl",
        "outputId": "b05f13fa-1578-46ed-b50e-c36c09fb70e0"
      },
      "execution_count": 5,
      "outputs": [
        {
          "output_type": "execute_result",
          "data": {
            "text/plain": [
              "[1, 3, 2, 5, 3]"
            ]
          },
          "metadata": {},
          "execution_count": 5
        }
      ]
    },
    {
      "cell_type": "markdown",
      "source": [
        "6. Получить квадратные матрицы порядка n (через список как на занятии), элементами которых являются заданные действительные числа 1, 2, ..., n*n, расположенные в ней по схемам, которые приведены на рисунках\n",
        "\n",
        "![image.png](data:image/png;base64,iVBORw0KGgoAAAANSUhEUgAAAbAAAAC9CAYAAADSpyhAAAAgAElEQVR4Ae2dCZAU1f3HuZRjQYFF5aY8AJEjBA9CrIAgeKAgAqVguMJWJBiDEanCEHQN6EKExHig67EiQRACrAQQIl5gOATkVuTQBZTllDNEjo38/vV9/htn983xeqZ7p49vV3XNzJs3Pa8//aY/8+4ywo0ESIAESIAEfEigjA/TzCSTAAmQAAmQgFBgzAQkQAIkQAK+JECB+fKyMdEkQAIkQAIUGPMACZAACZCALwnEFdi5c+fkf//7nxQVFcnZs2e5k0Go88D333/vyx85E00CQSUQV2CQ1uHDh2XHjh2ybds27mQQ6jxw8uTJoN4HeF4k4EsCcQW2f/9+efPNN6V79+4yatQoycvLk6lTp3Ing9DkgSlTpkhubq4MHTpUPvvsM1/+yJloEggqgbgC2717t+Tk5EhmZqaMGDFCFi9eLCtWrOBOBqHJA8uWLZP8/Hzp0KGDrFy5stTuA6i+P3PmjMyYMUOys7O5k0Eo88Brr70m69ati/m7MxbYpEmT5OjRozEPxDdIIIgE0AZcUFAgnTt3LnWB/ec//5GePXtKmTJluJNBKPNAu3btVM1frHsLBRaLDMNJQER1Ykq3wMqVKycZGRlSp04d7mQQ+DxQu3ZtVetXoUIFocB4GyaBFAh4oQRWt25dycrKksLCQu5kEPg8sH37dpk9e7Y0bdqUAkvh3sWPkoAnSmANGjSQhx56iFeDBEJBAFXnS5YskRYtWlBgobjiPEnXCHihBEaBuXZ5eWAPEqDAPHhRmCR/EqDA/HndmGr/EqDA/HvtmHKPEaDAPHZBmJzAE6DAAn+JeYKlRYACKy3S/B4S+IEABcacQAIOEaDAHALJw5CAIQEKzBAUo5FAIgIUWCJCfJ8EnCVAgTnLk0cLMQEKLMQXn6eeFgIUWFqw80uDSIACC+JV5Tl5mQAF5uWrw7T5igAF5qvLxcQGgAAFFoCLyFPwBgEKzBvXgakIDwEKLDzXmmfqMgEKzGXAPDwJlCBAgZUAwpckkCwBCixZcvwcCSRHgAJLjhs/RQIaAQpMQ8IAEnCVAAXmKl4ePEwEKLAwXW2eqxcIUGBeuApMQyAIUGCBuIw8CR8RoMB8dLGYVG8ToMC8fX2YuuARoMCCd015RmkiQIGlCTy/NrQEKLDQXnqeuNMEKDCnifJ4JBCfAAUWnw/fJQFjAhSYMSpGJAFHCFBgjmDkQUhAhAJjLiCB0iVAgZUub35bgAlQYAG+uDw1TxKgwDx5WZgoPxKgwPx41cKb5tOnT8v27dvlv//9r28hUGC+vXRMuNcIUGBeuyJMTzwCBw4ckEcffVQ+/fRTOXr0qHz33XfxonvyPQrMk5eFifIjAQrMj1ctvGnetm2b1KlTR2666SZ5+OGHZd68eb6DQYH57pIxwV4lQIF59cowXdEIbN26VapVqyYXXXSRNGjQQK699lq59957ZfLkyVJYWBjtI54Lo8A8d0mYIL8SoMD8euXCmW5LYGXKlBFrr1Spktx4443yu9/9Tt544w3ZvHmzp+FQYJ6+PEycnwhQYH66WkxrNIFZIsNjq1atZMSIEbJw4UL57LPPBPEPHTrkKXAUmKcuBxPjZwIUmJ+vXvjSnkhglsyqVq0qQ4YMkeHDh6t2shMnTgjE8f3336cdGgWW9kvABASFAAUWlCsZjvMwFVjZsmUlIyNDILI777xTJkyYIC+++KJAZOneQisw3GxQHJ4zZ44cPHjQE/8m7GSGs2fPypYtW2TVqlVqBohz587Z+TjjukCAAnMBKg/pGgFTgVklMTxmZmZKkyZNpFmzZnLbbbfJn//8Z9mwYYNraUx04NAK7MyZM7J+/Xq55ZZbZP78+fLtt98mYmX7/SNHjijJQDZOC2bv3r3y3HPPySOPPKLqpvEdTm9ff/217N6929cDHZ1mEu94FFg8OnzPawSSEVikzPC8efPmMmDAAHn22Wdl2bJlcurUqVI9zdAKDIP23n//fSlfvryMHTtWjUh3kvzx48flgw8+kMcff1z9QwFoJzf0Dho4cKDq+rpgwQJHByFCtuCDXkjImCtWrFACdlrCTvLwwrGCLjAMdkWtBfdgMFi5cqWqGiwppWRe165dW92P3nrrLVmzZo3643vs2DHXf5YUWPnykp2drUoxTtFG4yaq9n7zm99IjRo15Pe//71g0KCTjZ6WwNq0aSNz5851TGCQFEpzn3/+uXTp0kUNdEQDLoSMGzS32ASCLrBPPvlE/vnPf8qsWbO4B4AB/pyi23wywor3GbSTTZw4Uf2BRzsZSmVu3TsoMBcEhrnF/vSnPwn+lZQrV04uueQSmTlzpqBK0anNTYEh06HHUcOGDVX6UU2Ql5enpptxKv1BPE7QBTZlyhTp3LmzagdBWwh3fzOoXr264/KC2CDFiy++WPDn+q9//auq6UI/Azc2CsxBgaH0gpsYfujt27eXChUqqAyCasqf/exn8ve//111P3XiQrolMGS0f/zjH9KiRQupWLGiSj96H2FwI6pES6NawAk+6ThG0AX24YcfSlZWlsobyB/c/c2gcePG6g9qvNJUsu/VqlVLunXrJvn5+ao6ERMHu7FRYA4KDBcJPQN79+6t/p1GXvwLLrhA7rvvPlmyZIkjvQbdEBhuwGvXrpVevXoVqxu3utHi5oX6bcTjphMIusDQcWjx4sVqqiFMN8Td3wzGjRvnaBUiapvq168vXbt2ldGjR6umjV27dqkmCf3X4kwIBeaQwFD6wuzOOTk50qhRo6hF8yuuuEL1GtyxY4cUFRWldAWdFhjSX1BQoIr8NWvWjPrPDP+qnnzySdXhBfG5FScQdIEVP1u+8jsBJ3oh4k965cqV1VyKqHXCpMDoVIY/O6WxUWAOCQy99tDIDXmhtBVZ+op8fvXVV8v48eNVVVwqnTqcFhgaWl999VVB+iLTW/L5lVdeqRpo/bj0gts/KArMbcI8vpMEUhUY7nNWWxfazNFxjd3onbxCcY4V2Y3eiV6IWFNn0KBB59uNSt74rddo4MSsz8uXL09pJLvTAsNgRPQ2vPDCC+MKDO166GWEqiRuxQlQYMV58JW3CaQiMMgL9zFUQ65evVp18MLY2tKumWEJzIESGMbF5ObmSr169QTtRZasoj3iffxrQQMn/rEkOwDZKYGhFIjxPVjY7vLLL4+bdut8Lr30UunXr5989dVXgkzL7QcCFBhzgp8IJCMw/PZvvfVWNZ0UOvXs3LkzrRMdUGApCgxtWehpc/vtt0dtN7Ju+pGPaOzEGjxo6ISIkvnX4pTA0PEEM5GglyF6S0amM9ZzSBiywwBw9FpMJv1++qGbppUCMyXFeF4gYCow3BewXhhqXlBbhYUvMUtPqu34TjCgwFIUGAYoo3ceGjJj3fBjhaMb8vPPP686f9i9mE4IDPL68ssvVdUnxqzFSme0cHSxR3sZBrZiGi5KTFTvTHSEwVgpzHJQWhvY44fcs2dPdaN56KGHSuur+T0+JpBIYLinoU0fKzZjyrpFixbJ/v37PXXGFFiSAkPVG6rPMJklRBTtJm8SdscddygJ2J0vMVWB4aa3Z88eeemll9SAa5O0loyDf2adOnVS7WGsSqTAPHVnY2ISEoglMKtzxnXXXScjR45UQ2e8+vumwJIUGDqBoPGyXbt2cXsdlrzpl3yNqkQs442pm+wUyVMVGKq7li5dKi1btkzYcaNkmiNfV6lSRS16t3HjxoQ/mKBHYBVi0K9wsM4vmsBQs3L99dernsbomIb2ccjLqzUsFFgSAkPpC3XAmEwX00RF3tDtPkd7GNqTMH4CU02Zdq1PRWD4DnT5Hzp0qKr6TNTxJNE5YXwbxoc5OVWWH28VFJgfr1p40xwpsMsuu0wNQP7LX/6iJlvwyyoUFFgSAoO80OsQo87jjflKdOO33rfak1Cdh2o9k387qQgMHS+QUTGmy0pDKo8QIAYxTp8+XaXdJP1BvG1QYEG8qsE9J/Qixjynd911l5q7FQOQv/nmG1/NtEOB2RQYqvkwBgoNmyg9pXLjj/wsxl+1bt1a9fAxmW8wGYFBLEg/GmORaSO/P9XnmBgUx0RVaGkPZvTKLYYC88qVYDpMCOCPLHoVvvfee6o3sclnvBaHArMhMAgAU6RgSW0ssZ3qTb/k51GSefDBB1X1XqL2sGQEhmMi/eg1iWmhSn5/qq/r1Kmjlo5B9QNu5mHbKLCwXXGeb7oJUGA2BIaSBZZJqVu3bsIBy8nKoFq1aqrnDybBjLclI7CTJ0/KM888o3pNOll6tM4VvRLRHf/tt9+Ww4cPx0t+IN+jwAJ5WXlSHiZAgdkQGGZqv+eee4wH/Fo3druPmKIF48PQ2SJWe5JdgaEn0fbt29WAZTdKj9Y5YqqpG264QUkM66KFaaPAwnS1ea5eIECBGQgMVW8YrPvHP/5RmjRp4njVm3Xztx5RCrvttttk4cKFqj0pmsTsCAwihLwef/xxtUK09T1uPaIkhh6a6KYfLe1eyPhupIECc4Mqj0kCsQlQYAYCw5iv9evXq3WymjVrJk2bNk24o4cfutjjZo62Ibw2+ZwVB1M7jRo1So3DiNa13o7AMOMGZNKlSxe55pprEqYDkr7qqqsEC1micwnay6x0mT7efPPNqqdmmEphFFjsGw3ewZyhmzZt8vTA2PhnwHe9RoACMxAY2o4ggJdfflmtl4VlshPtaCvDhL0YqNy/f38ZM2ZMws9EHhNtVVgwEAMJUxUYJILZ5iOPH+85uthjXBe62KJNC7OFxIsf6z20hWFYQFg2Cky/0si7uMlgCiKs9D148GC14CtqNLiRQKoEKDADgeFHiFIMYJ04ccJox6KVkAAGCObl5anFIk0/a8WDOPHd0arh7JTAcAy0gVnHTfSIbvzoRAJxYb7DJ554wvizkcdGyTVRb8pUM7CXPk+B6VcDeemFF15QM9ZgoVSs2IAVyykwnRVD7BOgwAwEZh+ryL59+1R3e1QfYoAvxlw4udkRmN3vhfBwg8G4LpTCsOYPt8QEKLAfGWG4BvI9lt5AtTumHEOba2ZmJgX2IyY+S5EABUaBaVmIAtOQGAWEXWCYkBol97lz56qlgjDYv2RHIQrMKCsxkiEBCowC07IKBaYhMQoIq8BQ1Y1lZDCjw/jx4wUdeGINlKfAjLISIxkSoMAoMC2rUGAaEqOAMAkMeQTtwpjAGWufob0XU6ElGiBPgRllJUYyJECBUWBaVqHANCRGAWESGHq2QlxYPPMnP/mJ6m1rMrE1BWaUlRjJkAAFRoFpWYUC05AYBYRBYIWFhWoB1mHDhqlZXbAiQ6VKlbS2rpJtX9ZrCswoKzGSIQEKjALTsgoFpiExCgiqwDAEY+fOnZKfn68G12OWmGTnA6XAjLISIxkSoMAoMC2rUGAaEqOAoAkMNwesGfXuu+9KTk6OdOzYUTCWyypNJfNIgRllJUYyJECBUWBaVqHANCRGAUEQGK691Tlj+fLlar2oVq1apSStSNHVqFFDjS9Ed/vIQe9eeI5ZbzDdFXd7DI4fPy4YQpGOjQKjwLR8R4FpSIwCgiAw3BAgrgceeEBatmxp3DkjUlLxnmNAM4SIqdYmTpzoqX3kyJFqvtNevXrx0QaDp59+Wi1ka/QjcTgSBUaBaVmKAtOQGAX4XWCYfeX999+X+++/X03mXLFiRcdKXpbU0M0ek0RjcmtMGu2lvVGjRmqmEFRzcjdn8Otf/1o2btxo9BtxOhIFRoFpeYoC05AYBfhdYKjGw2zxmEQapZAOHTqoVQgs+TjxiPXisEoDVlvATB3x9k6dOskvf/lLtTQPlufh7k0GmOsVkzWnY6PAKDAt31FgGhKjAL8LLPIkFy1aJNOmTZOxY8eqZXiwjI6d7vKxZIfSFxY8xcoOmCsx3j5jxgy19Aqkyt27DDDva7o2CowC0/IeBaYhMQoIksAiTxgTUWPJHKwUjl6IqYiMvRAjyfJ5qgQoMApMy0MUmIbEKCCoAsN5oXoR1URTp05VM8zHKmElCqfAjLISIxkSoMAoMC2rUGAaEqOAoAos8uQPHDggq1evViLr16+ftG3bVnV4SCQu630KLJImn6dKgAKjwLQ8RIFpSIwCwiAwC4S1Svlbb72lutyjwwfatsqXLx+35yIFZhHkoxMEKDAKTMtHFJiGxCggTAKLBLJ27VrV4SM3N1fuvvtuNSs9Bixbpa7IRwoskhyfp0qAAqPAtDxEgWlIjALCKrCScGbOnCndu3dX3eUzMjKkbNmy52VGgZWkxdepEKDAKDAt/1BgGhKjAArsB0xYagXTMX300UeSlZVVrNciBWaUlRjJkAAFRoFpWYUC05AYBVBgxTGh5+LmzZvlnXfekeHDh0ufPn2kR48e0rt3b8GsH9xIIFUCFBgFpuUhCkxDYhRAgcXGhKmGUCKbNWuWmv8QcuNGAqkSoMAoMC0PUWAaEqMACiwxJsxcvmXLlrTNXp44hYzhJwIUGAWm5VcKTENiFECBGWFiJBJwjAAFRoFpmYkC05AYBVBgRpgYiQQcI0CBUWBaZqLANCRGARSYESZGIgHHCFBgFJiWmSgwDYlRAAVmhImRSMAxAhQYBaZlJgpMQ2IUQIEZYWIkEnCMAAVGgWmZiQLTkBgFUGBGmBiJBBwjQIFRYFpmosA0JEYBFJgRJkYiAccIUGAUmJaZKDANiVEABWaEiZFIwDECFBgFpmUmCkxDYhRAgRlhYiSPEDh27Ji8+eabsm7dOsFzP24UGAWm5VsKTENiFECBGWFiJI8QKCgoUGu4DRs2TLCu26ZNm+TIkSOC379fNgqMAtPyKgWmITEKoMCMMDGSRwhs3bpVqlWrppa6adiwoQwcOFDmz58ve/fuFawoUFRU5JGUxk4GBUaBabmDAtOQGAVQYEaYGMkjBCIFhpW0q1SpIvXq1VNruU2bNk2++eYbj6Q0djIoMApMyx0UmIbEKIACM8LESB4hECkwa9XscuXKCVbTbtWqldx8881y3333ydixY2XVqlWCiZi9tlFgFJiWJykwDYlRAAVmhImRPEIgmsAskVmPKJU1bdpU+vbtq5bBwZI4+/fv98gZiFBgFJiWGSkwDYlRAAVmhImRPELARGCWyPDYqFEjJbLc3FxVItu3b5+cPn06rWdDgVFgWgakwDQkRgEUmBEmRvIIAbsCs2SGKsbOnTvL5MmT5YsvvlA9F9HpIx0bBUaBafmOAtOQGAVQYEaYGMkjBJIVWNmyZaVixYqqraxDhw6CbvizZ89Oy1lRYBSYlvEoMA2JUQAFZoSJkTxCIFmBWSUxPKIbfv369aV169bSo0cPeeSRR2TBggWqK35pnCYFRoFp+YwC05AYBQRdYJixYc6cOarqCNVH3P3NYNy4cVKpUiU1DixSSsk+Rw9GyKxr164yevRomTt3ruzatUvOnj1r9PtJJhIFRoFp+YYC05AYBQRdYHl5eepfdosWLYS7/xk0btxYIJ1khRXvc7Vq1ZJu3brJ22+/LSdOnDD6/SQTiQKjwLR8Q4FpSIwCgi6w6dOny6233iqZmZncA8CgevXqrsgLpbqaNWtK27Zt5bnnnpPDhw8b/X6SiUSBUWBavqHANCRGAUEXGHqaYUDrrFmzuAeAwbPPPutoFaJVIrvzzjvV3IoYL4bSF+4nbm0UGAWm5S0KTENiFBB0gQECbhiHDh3iHgAGK1eulIyMDEdKYbVr11ZzKWJS4DVr1sjBgweNfjOpRqLAKDAtD1FgGhKjgDAIzAgEI/mCgBO9EJs3by4DBgwQlOaWLVsmp06dKtVzp8AoMC3DUWAaEqMACswIEyN5hECyAkOprUmTJmp/7LHHZMOGDWk7IwqMAtMyHwWmITEKoMCMMDGSRwjYFRg6Z1StWlXatGkjEyZMUPuOHTvSejYUGAWmZUAKTENiFECBGWFiJI8QsCswDFQePny4YC5EdM7A7uYYLxNMFBgFpuUTCkxDYhRAgRlhYiSPEDARGNYH69Onj9rnzZsn+IyX1gmjwCgw7edEgWlIjAIoMCNMjOQRAvEEhvXAMM/hkCFDBEuoYP/22289kvIfk0GBUWA/5ob/f0aBaUiMAigwI0yM5BECJQWG9i2rc8aYMWMEqzIvXbrUI6mNngwKjALTcgYFpiExCqDAjDAxkkcIWAKrXLmy6pxxww03nO+cUVBQ4JFUxk8GBUaBaTmEAtOQGAVQYEaYGMkjBCyB9e7dW3XOwFyXVueMoqIij6QyfjIoMApMyyEUmIbEKIACM8LESB4hUFhYKIMGDZJFixapzhl47beNAqPAtDxLgWlIjAIoMCNMjOQRApjb8uOPP1YrKnskSbaTQYFRYFqmocA0JEYBFJgRJkYiAccIUGAUmJaZKDANiVEABWaEiZFIwDECFBgFpmUmCkxDYhRAgRlhYiQScIwABUaBaZmJAtOQGAVQYIkxHT9+XLZs2ZL2KYgSp5Qx/ECAAqPAtHxKgWlIjAIosNiYNm7cKK+//rpkZ2fLxIkTVXft2LH5DgmYEaDAKDAtp1BgGhKjAAqsOCaMKdq8ebO88847apzRNddcI5mZmYJxR16clqh46vnKDwQoMApMy6cUmIbEKIAC+wETumdj1WbMn5eVlVVs2XoKzCgrMZIhAQqMAtOyCgWmITEKoMB+wDRz5kzp3r27XHLJJWrJ+rJly55ftp4CM8pKjGRIgAKjwLSsQoFpSIwCwiywnTt3qnWi7r77bmndurXUqFHjvLTKlClz/jkFZpSVGMmQAAVGgWlZhQLTkBgFhFFg69atk9dee02GDh0qmAy2fPny52UVKS7rOQVmlJUYyZAABUaBaVmFAtOQGAWERWDHjh2TTZs2yfz582XYsGHStGnTuNKy5IVHCswoKzGSIQEKjALTsgoFpiExCgi6wNA54+DBg/Lee+/JwIEDpUKFCsbisiRGgRllJUYyJECBUWBaVqHANCRGAUEXGBY47Nq1q9SqVUuqVKliW14sgRllI0ayQYACo8C07EKBaUiMAoIosC+//FImTZqkehVimfnq1asnJS6WwIyyECPZJECBUWBalqHANCRGAUES2Keffiovv/yyDBkyRK677jqJ7ApvySiZx5JViEePHhX0YOTuXwZHjhwx+n24EYkCo8C0fEWBaUiMAvwusFOnTsmuXbtk3rx58tvf/lauuuqqlEpb0QRXrVo1+fnPfy6ojsT3oAfjU089xd3HDBYuXCiY4zIdGwVGgWn5jgLTkBgF+F1g+/btkylTpqg2rsqVK0u5cuUcFxikhuNecMEFcuGFF3IPAAN06MFcl+nYKDAKTMt3FJiGxCjA7wJD+g8cOCCzZs2SHj16yGWXXea4wDBOrGbNmnL99ddLu3btuAeAwR/+8AcKzOgOUSLSmTNn1HgUzLeGCULxozPdMdXNjTfeqH6gV199tXTu3Nnosz179pTx48er7sS40cfa8G92woQJUqdOHZk+fbqKHy3usmXLZPTo0UbfHXlunTp1kgYNGsjFF18sbdu2lW7duhkf45VXXhE0zsfaKLBYZOKH+11gOLuioiI1j+HatWtl8uTJai5DJ6sSL7roIunYsaOg2mn58uXcA8Dgiy++YBVi/FtD9HfxY9uxY4cSQKNGjVS1BP7hme5WFQkaqPHc5HPNmjWTsWPHCgZznjt3LnrCRMRUYCh64x8M5o3DuBqTNCAO0ms1rOO5SfpRZdO4cWOBwPbu3Rsz7RRYTDRx3wiCwCJPEDPGr1ixQnXmeOKJJ1RPxJYtW6oqxmjtWyZhJTtxRH4fn5OAXQK+r0JEKezrr78WlIzw4zD5ESUbJyMjQ+6//3755JNPEnI2Fdjp06dlyZIlqgRVsWJFV9OPsTuY8gezKMSTLwWW8PJGjRA0gZU8yXfffVet5fWrX/1Krr32WiUyu4OZKbCSVPk6FQK+FxhOHjdcVNO1b98+qdkBTIWGH+2cOXOMeJsKDAc7fPiwLFiwQFCKtHtDME07Gs1RFYR/1CdPnox7DhRYXDwx3wy6wKwTRzsZehDee++9csUVV0jVqlWN8y0FZlHkoxMEAiMwnMjTTz8tWDTP9KZuN96LL74oe/bsMeJuR2C48WGKnr/97W+qis9uukzio+rzpZdeUrKEoOJtFFg8OrHfC4vAcJ7fffedWpRy8eLF8uCDDxp3uafAYucfvmOfQCAEhuow7Fj9deTIkY5XJWLsCjp9YHAnqixNNjsCQ9rPnj2rBnMOGDBAtYeZSMk0DmZPwL/lr776yij9FJjJFdbjhEVgkWeOtuAtW7ZIfn6+PProo/LTn/5UrQEWK29SYJH0+DxVAoEQmAUBAzE//PBD6devn2OlMHSYaNKkifqBoqrPdLMjMBwTEoM4MMP3XXfdJRiHE+smYCccVZJdunSRGTNmKEniexJtFFgiQtHfD6PALBK4kXz++ecydepUGTdunPTv3191la9fv77qYGTlWQrMIsZHJwgESmAAAsmgfh5d4ytVqpSyBOrVq6em08FIc9ygTDe7ArOOixm/c3Nz1aKA1o8+lceGDRuqG4qd6V4oMOtq2HsMs8BKksI6Yahyf/jhh1XbNIZ84E8ZBVaSFF+nQiBwAkMJA/J4/vnn5fLLLy/278+uCFD6wgqzGOeAm7qdLVmB4Tu2bdsm2dnZasZvq6u83bQjPkpfKI1+9NFHdpKuzhVdqFESbN68uRKgrQOENDIFpl941IqsWrVKhg8fLm3atFGdPvr27avaz/TYDCEBewQCKTCMD0OJCe0+GPWfzM0fn0EPK4x/wY+wNAWGdrbVq1fL4MGDky5FQr5YaHD27Nly4sQJW7mCJTBbuM5HpsDOozj/BH8okZ8xaS/y9Kuvvio5OTlpG/h6PmF8EggCgRMYrorVnvTxxx9Lr169VDdfuxJDxwd0CNm6das6nknbUWSOSKUEhu9Cld+//vUvVQJKZnwYZjx48skn1UBvu/KlwCKvpPlzCiw+K1SPF+xzwqUAAAXaSURBVBYWqllg8CeTGwmkSiCQAgMUSABdfV9//XX5xS9+YbsUhqmaMDbL7s3fuiCpCAzHwM3w0KFDai0mrMNkZ3wY5HvLLbeoXpO4adjdKDC7xH6IT4Elx42fIoFkCQRWYBYQzPmHKgsMEjYphUEUtWvXVjMOxJsv0Dp+rMdUBYbjQiQYdIyGcDSCm6YfbQ0Qt92qQ+tcKDCLhL1HCsweL8YmgVQJBF5guBlv2LBBNSKblGJq1KghWB4AHSnw2WQ3JwRmffe///1v6dOnj1p6IpHEMKciprtC6TPZ9FNgFnl7jxSYPV6MTQKpEgi8wFCViGq0pUuXqtkCErUnXXnllYIZ4tEJxG67V+TFcFJg6ESC8TXW7PmxJIaOG2jz++CDD5S8kk0/BRZ5Jc2fU2DmrBiTBJwgEHiBARJuyBgftmjRIjW+CvMCRpMAZmofNWqU6jGVaiOzkwKDiLDkOqbKwvIpsbrWYxYEjL2xM+YrWiaiwKJRSRxGgSVmxBgk4CSBUAgMwHBTRndeLF0SbX0jTBeFajqsg4S4qW5OCgxpwVRTGByKeefQw7CkxFA9OmLECEcWlqPAkrv6FFhy3PgpEkiWQGgEZgHCUiho46pVq1axUhhWiMUMGLgJJVv1Zn0HHp0WGI6Jdi205910001KYlYpEut8If0oYSbT6zAy3XhOgZUkYvaaAjPjxFgk4BSB0AkMcpo7d65afwuLQEICWOfrsccek127djnF1RWBIe3oWThlyhQ1qwHavFASw9LvaCPbv3+/I+mnwJLDSIElx42fIoFkCYRSYJgmadKkSVK3bl0lMCyGiY4PqbZ7RV4EN0pgEBjkgq71mPkbM4WgTQxjvtDl33Sm/Mh0RntOgUWjkjiMAkvMiDFIwEkCoRMY4EFUWFoE8yVi0O+0adPUelxOgnVDYJHpQ1vdAw88oEqS6GaP6kUnqj7xHRRYJGnz5xSYOSvGJAEnCIRSYACHmw2qDMeMGaMecdN2ckOvRywgifkIsegf5oJzcoOwMEkvVoiGkJ2SF9IIFljnCZ1aOnbsKG+88YaTSQ/ssSiwwF5anphHCYRWYLgeuOGgTQmPTm/W2mSYRQOlvdOnTzv9FeqYEJnTG2SI9D/zzDMyfvx41fvR6e8I4vEosCBeVZ6TlwmEWmBuXxirzcrJ0pHbaY48PkpiTpdMI48ftOcUWNCuKM/H6wQoMBevEMRl7S5+jWuH9nPaXYMS58AUWBw4fIsEXCBAgbkAlYcMJwEKLJzXnWedPgIUWPrY85sDRoACC9gF5el4ngAF5vlLxAT6hQAF5pcrxXQGhQAFFpQryfNIOwEKLO2XgAkIGQEKLGQXnKfrHgEKzD22PDIJRCNAgUWjwjASSIIABZYENH6EBFIgQIGlAI8fJYFIAl4QGJbaadu2rWRnZ3Mng8DnASyPNWjQILn00kulXbt2kpeXF/mTLPa8TLFXJV7s3r1bcnJyJDMzU02U6/TUSSW+ji9JwHME0i2we+65R7C0DncyCGMeaN++vUyePDnmfSGhwMaNG6dMOHHiRCkoKFCrIGNOQO5kEIY8cPDgQVm/fr106tRJVqxYEfOH5PQbGHCOKcUwbVmrVq24k0Eo80D//v0lPz8/5s8rrsD27NkjL7zwglpY8fbbb1eLRmZlZQl3MghLHhg8eLD07dtXrdW2fPnymD8kp9+AwDDlF2o9sAoCdzIIYx7AMlnx5oaNKzBM/rpz507B0h748a5evVrWrFnDnQxCkweQ57Hi99KlS1Wtg9Oi4vFIgASSJxBXYMkflp8kARIgARIgAXcJUGDu8uXRSYAESIAEXCJAgbkEloclARIgARJwlwAF5i5fHp0ESIAESMAlAhSYS2B5WBIgARIgAXcJUGDu8uXRSYAESIAEXCJAgbkEloclARIgARJwlwAF5i5fHp0ESIAESMAlAhSYS2B5WBIgARIgAXcJUGDu8uXRSYAESIAEXCJAgbkEloclARIgARJwl8D/AcxOZ7k1I2dJAAAAAElFTkSuQmCC)"
      ],
      "metadata": {
        "id": "6m6Y5bYbLYdC"
      }
    },
    {
      "cell_type": "code",
      "source": [
        "# 6\n",
        "def matrix(n: int) -> list:\n",
        "  counter = 10\n",
        "\n",
        "  matrix_right_left = []\n",
        "  for i in range(n):\n",
        "    temp = []\n",
        "    for j in range(n):\n",
        "      temp.append(counter)\n",
        "      counter += 1\n",
        "    if i % 2 == 0:\n",
        "      matrix_right_left.append(temp)\n",
        "    else:\n",
        "      matrix_right_left.append(temp[::-1])\n",
        "\n",
        "  matrix_down_up = []\n",
        "  for i in range(n):\n",
        "    temp = []\n",
        "    for j in range(n):\n",
        "      temp.append(0)\n",
        "    matrix_down_up.append(temp)\n",
        "  for i in range(n):\n",
        "    for j in range(n):\n",
        "      matrix_down_up[j][i] = matrix_right_left[i][j]\n",
        "\n",
        "  print(f'First matrix: {matrix_down_up}')\n",
        "  print(f'Second matrix: {matrix_right_left}')\n",
        "\n",
        "\n",
        "n = 5\n",
        "matrix(n)"
      ],
      "metadata": {
        "colab": {
          "base_uri": "https://localhost:8080/"
        },
        "id": "N-Q9bA2cMnWt",
        "outputId": "79c457a6-3598-4986-f1f3-51dcc8abbf59"
      },
      "execution_count": 6,
      "outputs": [
        {
          "output_type": "stream",
          "name": "stdout",
          "text": [
            "First matrix: [[10, 19, 20, 29, 30], [11, 18, 21, 28, 31], [12, 17, 22, 27, 32], [13, 16, 23, 26, 33], [14, 15, 24, 25, 34]]\n",
            "Second matrix: [[10, 11, 12, 13, 14], [19, 18, 17, 16, 15], [20, 21, 22, 23, 24], [29, 28, 27, 26, 25], [30, 31, 32, 33, 34]]\n"
          ]
        }
      ]
    }
  ]
}