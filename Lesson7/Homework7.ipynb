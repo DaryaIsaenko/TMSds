{
  "nbformat": 4,
  "nbformat_minor": 0,
  "metadata": {
    "colab": {
      "provenance": []
    },
    "kernelspec": {
      "name": "python3",
      "display_name": "Python 3"
    },
    "language_info": {
      "name": "python"
    }
  },
  "cells": [
    {
      "cell_type": "markdown",
      "source": [
        "1. Создать класс Money для работы с денежными суммами. Число должно быть представлено двумя полями: для рублей и для копеек. Копейки при выводе на экран должна быть отделена от целой части запятой. Реализовать сложение, вычитание, деление сумм, деление суммы на дробное число, умножение на дробное число и операции сравнения.\n"
      ],
      "metadata": {
        "id": "u0sr6S9W_FV6"
      }
    },
    {
      "cell_type": "code",
      "source": [
        "# 1\n",
        "class Money:\n",
        "\n",
        "  def __init__(self, ruble, penny):\n",
        "    self.ruble = ruble\n",
        "    self.penny = penny\n",
        "\n",
        "  def __add__(self, other):\n",
        "    ruble = ((self.ruble * 100 + self.penny) + (other.ruble * 100 + other.penny)) // 100\n",
        "    penny = ((self.ruble * 100 + self.penny) + (other.ruble * 100 + other.penny)) % 100\n",
        "    return ruble, penny\n",
        "\n",
        "  def __sub__(self, other):\n",
        "    sub_money = (self.ruble * 100 + self.penny) - (other.ruble * 100 + other.penny)\n",
        "    if sub_money < 0:\n",
        "      penny = abs(sub_money) % 100 * -1\n",
        "      ruble = abs(sub_money) // 100 * -1\n",
        "    else:\n",
        "      penny = sub_money % 100\n",
        "      ruble = sub_money // 100\n",
        "    return ruble, penny\n",
        "\n",
        "  def __div__(self, other):\n",
        "    div_money = (self.ruble + self.penny / 100) / (other.ruble + other.penny / 100)\n",
        "    return div_money\n",
        "\n",
        "  def div_sum_fraction(self, number: float):\n",
        "    div_sum_fraction = (self.ruble + self.penny / 100) / number\n",
        "    return div_sum_fraction\n",
        "\n",
        "  def mul_sum_fraction(self, number: float):\n",
        "    mul_sum_fraction = (self.ruble + self.penny / 100) * number\n",
        "    return mul_sum_fraction\n",
        "\n",
        "\n",
        "  # операции сравнения\n",
        "  def __eg__(self, other):\n",
        "    return self.ruble + self.penny / 100 == other.ruble + other.penny / 100\n",
        "\n",
        "  def __lt__(self, other):\n",
        "    return self.ruble + self.penny / 100 < other.ruble + other.penny / 100\n",
        "\n",
        "  def __le__(self, other):\n",
        "    return self.ruble + self.penny / 100 <= other.ruble + other.penny / 100\n",
        "\n",
        "  def __gt__(self, other):\n",
        "    return self.ruble + self.penny / 100 > other.ruble + other.penny / 100\n",
        "\n",
        "  def __ge__(self, other):\n",
        "    return self.ruble + self.penny / 100 >= other.ruble + other.penny / 100\n",
        "\n",
        "  def __ne__(self, other):\n",
        "    return self.ruble + self.penny / 100 != other.ruble + other.penny / 100\n",
        "\n",
        "\n",
        "\n",
        "m1 = Money(2, 87)\n",
        "m2 = Money(2, 60)\n",
        "m3 = Money(34, 18)\n",
        "m4 = Money(42, 32)\n",
        "m5 = Money(2, 60)\n",
        "\n",
        "print(m1 + m2)\n",
        "print(m4 - m3)\n",
        "print(m3 - m4)\n",
        "print(m4.__div__(m2))\n",
        "print(m3.div_sum_fraction(1.2))\n",
        "print(m3.mul_sum_fraction(1.2))\n",
        "\n",
        "print(m2.__eg__(m5))\n",
        "print(m1 < m2)\n",
        "print(m1 <= m3)\n",
        "print(m4 > m3)\n",
        "print(m1 >= m2)\n",
        "print(m1 != m2)"
      ],
      "metadata": {
        "colab": {
          "base_uri": "https://localhost:8080/"
        },
        "id": "_m0Pq215-4jQ",
        "outputId": "b14f95e4-503a-4ef3-ea21-eeb68ccd5d4c"
      },
      "execution_count": 13,
      "outputs": [
        {
          "output_type": "stream",
          "name": "stdout",
          "text": [
            "(5, 47)\n",
            "(8, 14)\n",
            "(-8, -14)\n",
            "16.276923076923076\n",
            "28.483333333333334\n",
            "41.016\n",
            "True\n",
            "False\n",
            "True\n",
            "True\n",
            "True\n",
            "True\n"
          ]
        }
      ]
    },
    {
      "cell_type": "markdown",
      "source": [
        "2. Создать класс матрица и реализовать алгоритмы математических операций над матрицами (сложение друг с другом, умножение на скалярную величину)."
      ],
      "metadata": {
        "id": "9PrFOs5N_KAY"
      }
    },
    {
      "cell_type": "code",
      "source": [
        "# 2\n",
        "class Matrix:\n",
        "\n",
        "  def __init__(self, column=1, row=1):\n",
        "    self.column = column\n",
        "    self.row = row\n",
        "    self.matrix = []\n",
        "\n",
        "  def create_matrix(self, step=1, position=1):\n",
        "    for row in range(self.row):\n",
        "      temp = []\n",
        "      for col in range(self.column):\n",
        "        temp.append(position)\n",
        "        position += step\n",
        "      self.matrix.append(temp)\n",
        "    return self.matrix\n",
        "\n",
        "  def __add__(self, other):\n",
        "    if len(self.matrix) != len(other.matrix) or len(self.matrix[0]) != len(other.matrix[0]):\n",
        "      return 'The matrices must have the same number of rows and columns.'\n",
        "    result_matrix = []\n",
        "    for i in range(len(self.matrix)):\n",
        "      rows = []\n",
        "      for j in range(len(self.matrix[0])):\n",
        "        rows.append(self.matrix[i][j] + other.matrix[i][j])\n",
        "      result_matrix.append(rows)\n",
        "    return result_matrix\n",
        "\n",
        "  def mul_by_number(self, number):\n",
        "    result_matrix = []\n",
        "    for i in range(len(self.matrix)):\n",
        "      rows = []\n",
        "      for j in range(len(self.matrix[0])):\n",
        "        rows.append(self.matrix[i][j] * number)\n",
        "      result_matrix.append(rows)\n",
        "    return result_matrix\n",
        "\n",
        "\n",
        "\n",
        "matrix1 = Matrix(5, 5)\n",
        "print(f'Matrix1: {matrix1.create_matrix()}')\n",
        "\n",
        "matrix2 = Matrix(5, 5)\n",
        "print(f'Matrix2: {matrix2.create_matrix(step=5)}')\n",
        "\n",
        "print(f'Sum: {matrix1 + matrix2}')\n",
        "print(f'Multiplication: {matrix1.mul_by_number(2)}')"
      ],
      "metadata": {
        "colab": {
          "base_uri": "https://localhost:8080/"
        },
        "id": "Otxv_mpu-6in",
        "outputId": "39edf710-a794-4761-f3d4-d94c97e61c22"
      },
      "execution_count": 14,
      "outputs": [
        {
          "output_type": "stream",
          "name": "stdout",
          "text": [
            "Matrix1: [[1, 2, 3, 4, 5], [6, 7, 8, 9, 10], [11, 12, 13, 14, 15], [16, 17, 18, 19, 20], [21, 22, 23, 24, 25]]\n",
            "Matrix2: [[1, 6, 11, 16, 21], [26, 31, 36, 41, 46], [51, 56, 61, 66, 71], [76, 81, 86, 91, 96], [101, 106, 111, 116, 121]]\n",
            "Sum: [[2, 8, 14, 20, 26], [32, 38, 44, 50, 56], [62, 68, 74, 80, 86], [92, 98, 104, 110, 116], [122, 128, 134, 140, 146]]\n",
            "Multiplication: [[2, 4, 6, 8, 10], [12, 14, 16, 18, 20], [22, 24, 26, 28, 30], [32, 34, 36, 38, 40], [42, 44, 46, 48, 50]]\n"
          ]
        }
      ]
    },
    {
      "cell_type": "markdown",
      "source": [
        "3. Задание со звездочкой: необходимо реализовать набор операций над одномерными и двумерными структурами. Каждой структуре необходимо выделить свой класс. При описании классов использовать принципы ООП."
      ],
      "metadata": {
        "id": "VzoeBtH9_Np4"
      }
    },
    {
      "cell_type": "code",
      "source": [
        "# 3\n",
        "class One_dim_array():\n",
        "\n",
        "  def __init__(self, column):\n",
        "    self.column = column\n",
        "    self.array = []\n",
        "\n",
        "  def create_array(self, step=1, position=1):\n",
        "    for col in range(self.column):\n",
        "      self.array.append(position)\n",
        "      position += step\n",
        "    return self.array\n",
        "\n",
        "  def __add__(self, other):\n",
        "    if self.column != other.column:\n",
        "      return 'The arrays must have the same number of columns.'\n",
        "    result_array = []\n",
        "    for i in range(self.column):\n",
        "      result_array.append(self.array[i] + other.array[i])\n",
        "    return result_array\n",
        "\n",
        "  def __sub__(self, other):\n",
        "    if self.column != other.column:\n",
        "      return 'The arrays must have the same number of columns.'\n",
        "    result_array = []\n",
        "    for i in range(self.column):\n",
        "      result_array.append(self.array[i] - other.array[i])\n",
        "    return result_array\n",
        "\n",
        "  def __mul__(self, other):\n",
        "    if self.column != other.column:\n",
        "      return 'The arrays must have the same number of columns.'\n",
        "    result_array = []\n",
        "    for i in range(self.column):\n",
        "      result_array.append(self.array[i] * other.array[i])\n",
        "    return result_array\n",
        "\n",
        "  def max_element(self):\n",
        "    return max(self.array)\n",
        "\n",
        "  def min_element(self):\n",
        "    return min(self.array)\n",
        "\n",
        "  def add_element(self, element):\n",
        "    self.array.append(element)\n",
        "    return self.array\n",
        "\n",
        "\n",
        "\n",
        "one_arr1 = One_dim_array(5)\n",
        "print(f'Array1: {one_arr1.create_array()}')\n",
        "\n",
        "one_arr2 = One_dim_array(5)\n",
        "print(f'Array2: {one_arr2.create_array(step=3, position=10)}')\n",
        "\n",
        "one_arr3 = One_dim_array(10)\n",
        "print(f'Array3: {one_arr3.create_array(step=15, position=10)}')\n",
        "\n",
        "print(one_arr1 + one_arr2)\n",
        "print(one_arr1 + one_arr3)\n",
        "print(one_arr1 - one_arr2)\n",
        "print(one_arr1 * one_arr2)\n",
        "print(f'Max element = {one_arr3.max_element()}')\n",
        "print(f'Min element = {one_arr3.min_element()}')\n",
        "print(one_arr1.add_element(56))\n",
        "print(f'Max element = {one_arr1.max_element()}')"
      ],
      "metadata": {
        "colab": {
          "base_uri": "https://localhost:8080/"
        },
        "id": "ndTxNJxy-8j3",
        "outputId": "ee2aa3b4-869c-473d-f7b3-8a62fec6660e"
      },
      "execution_count": 18,
      "outputs": [
        {
          "output_type": "stream",
          "name": "stdout",
          "text": [
            "Array1: [1, 2, 3, 4, 5]\n",
            "Array2: [10, 13, 16, 19, 22]\n",
            "Array3: [10, 25, 40, 55, 70, 85, 100, 115, 130, 145]\n",
            "[11, 15, 19, 23, 27]\n",
            "The arrays must have the same number of columns.\n",
            "[-9, -11, -13, -15, -17]\n",
            "[10, 26, 48, 76, 110]\n",
            "Max element = 145\n",
            "Min element = 10\n",
            "[1, 2, 3, 4, 5, 56]\n",
            "Max element = 56\n"
          ]
        }
      ]
    },
    {
      "cell_type": "code",
      "source": [
        "class Two_dim_array():\n",
        "\n",
        "  def __init__(self, column=1, row=1):\n",
        "    self.column = column\n",
        "    self.row = row\n",
        "    self.array = []\n",
        "\n",
        "  def create_array(self, step=1, position=1):\n",
        "    for row in range(self.row):\n",
        "      rows = []\n",
        "      for col in range(self.column):\n",
        "        rows.append(position)\n",
        "        position += step\n",
        "      self.array.append(rows)\n",
        "    return self.array\n",
        "\n",
        "  def __add__(self, other):\n",
        "    if len(self.array) != len(other.array) or len(self.array[0]) != len(other.array[0]):\n",
        "      return 'The arrays must have the same number of rows and columns.'\n",
        "    result_array = []\n",
        "    for i in range(len(self.array)):\n",
        "      rows = []\n",
        "      for j in range(len(self.array[0])):\n",
        "        rows.append(self.array[i][j] + other.array[i][j])\n",
        "      result_array.append(rows)\n",
        "    return result_array\n",
        "\n",
        "  def __sub__(self, other):\n",
        "    if len(self.array) != len(other.array) or len(self.array[0]) != len(other.array[0]):\n",
        "      return 'The arrays must have the same number of rows and columns.'\n",
        "    result_array = []\n",
        "    for i in range(len(self.array)):\n",
        "      rows = []\n",
        "      for j in range(len(self.array[0])):\n",
        "        rows.append(self.array[i][j] - other.array[i][j])\n",
        "      result_array.append(rows)\n",
        "    return result_array\n",
        "\n",
        "  def __mul__(self, other):\n",
        "    if len(self.array) != len(other.array) or len(self.array[0]) != len(other.array[0]):\n",
        "      return 'The arrays must have the same number of rows and columns.'\n",
        "    result_array = []\n",
        "    for i in range(len(self.array)):\n",
        "      rows = []\n",
        "      for j in range(len(self.array[0])):\n",
        "        rows.append(self.array[i][j] * other.array[i][j])\n",
        "      result_array.append(rows)\n",
        "    return result_array\n",
        "\n",
        "\n",
        "\n",
        "two_arr1 = Two_dim_array(4, 4)\n",
        "print(f'Array1: {two_arr1.create_array()}')\n",
        "\n",
        "two_arr2 = Two_dim_array(4, 4)\n",
        "print(f'Array2: {two_arr2.create_array(step=15, position=10)}')\n",
        "\n",
        "two_arr3 = Two_dim_array(3, 2)\n",
        "print(f'Array3: {two_arr3.create_array()}')\n",
        "\n",
        "print(two_arr1 + two_arr2)\n",
        "print(two_arr1 + two_arr3)\n",
        "print(two_arr1 - two_arr2)\n",
        "print(two_arr1 * two_arr2)"
      ],
      "metadata": {
        "colab": {
          "base_uri": "https://localhost:8080/"
        },
        "id": "IymR82AB--V_",
        "outputId": "5125541d-1f8a-4bd1-8129-56dadc412634"
      },
      "execution_count": 16,
      "outputs": [
        {
          "output_type": "stream",
          "name": "stdout",
          "text": [
            "Array1: [[1, 2, 3, 4], [5, 6, 7, 8], [9, 10, 11, 12], [13, 14, 15, 16]]\n",
            "Array2: [[10, 25, 40, 55], [70, 85, 100, 115], [130, 145, 160, 175], [190, 205, 220, 235]]\n",
            "Array3: [[1, 2, 3], [4, 5, 6]]\n",
            "[[11, 27, 43, 59], [75, 91, 107, 123], [139, 155, 171, 187], [203, 219, 235, 251]]\n",
            "The arrays must have the same number of rows and columns.\n",
            "[[-9, -23, -37, -51], [-65, -79, -93, -107], [-121, -135, -149, -163], [-177, -191, -205, -219]]\n",
            "[[10, 50, 120, 220], [350, 510, 700, 920], [1170, 1450, 1760, 2100], [2470, 2870, 3300, 3760]]\n"
          ]
        }
      ]
    }
  ]
}