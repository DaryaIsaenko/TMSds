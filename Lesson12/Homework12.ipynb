{
  "nbformat": 4,
  "nbformat_minor": 0,
  "metadata": {
    "colab": {
      "provenance": []
    },
    "kernelspec": {
      "name": "python3",
      "display_name": "Python 3"
    },
    "language_info": {
      "name": "python"
    }
  },
  "cells": [
    {
      "cell_type": "code",
      "execution_count": null,
      "metadata": {
        "id": "yPEh9ZEUDBpD"
      },
      "outputs": [],
      "source": [
        "import numpy as np\n",
        "from scipy.special import perm, comb, factorial"
      ]
    },
    {
      "cell_type": "markdown",
      "source": [
        "# 1. Комбинаторика"
      ],
      "metadata": {
        "id": "DV_GRyNug5tP"
      }
    },
    {
      "cell_type": "markdown",
      "source": [
        "***Задача 1.*** В группе 30 студентов. Необходимо выбрать старосту, заместителя старосты и профорга. Сколько существует способов это сделать?"
      ],
      "metadata": {
        "id": "-2cVfj-5Gpkn"
      }
    },
    {
      "cell_type": "code",
      "source": [
        "k = np.array(3)\n",
        "n = np.array(30)\n",
        "perm(n, k)"
      ],
      "metadata": {
        "colab": {
          "base_uri": "https://localhost:8080/"
        },
        "id": "zM05Gfc7DXxp",
        "outputId": "3fd69c47-9111-4a10-afc7-25b27631389b"
      },
      "execution_count": null,
      "outputs": [
        {
          "output_type": "execute_result",
          "data": {
            "text/plain": [
              "24360.0"
            ]
          },
          "metadata": {},
          "execution_count": 8
        }
      ]
    },
    {
      "cell_type": "markdown",
      "source": [
        "***Задача 2.*** Два почтальона должны разнести 10 писем по 10 адресам. Сколькими способами они могут распределить работу?"
      ],
      "metadata": {
        "id": "jnvPBCechLaV"
      }
    },
    {
      "cell_type": "code",
      "source": [
        "k = np.array(10)\n",
        "n = np.array(2)\n",
        "n**k"
      ],
      "metadata": {
        "colab": {
          "base_uri": "https://localhost:8080/"
        },
        "id": "Iwroa-fuELB1",
        "outputId": "f18dd460-b6b1-4a0a-df68-ecee4f368f26"
      },
      "execution_count": null,
      "outputs": [
        {
          "output_type": "execute_result",
          "data": {
            "text/plain": [
              "1024"
            ]
          },
          "metadata": {},
          "execution_count": 14
        }
      ]
    },
    {
      "cell_type": "markdown",
      "source": [
        "***Задача 3.*** В ящике 100 деталей, из них 30 – деталей 1-го сорта, 50 – 2-го, остальные – 3-го. Сколько существует способов извлечения из ящика одной детали 1-го или 2-го сорта?"
      ],
      "metadata": {
        "id": "FzYKNefzhUgW"
      }
    },
    {
      "cell_type": "code",
      "source": [
        "n1 = np.array(30)\n",
        "n2 = np.array(50)\n",
        "n1 + n2"
      ],
      "metadata": {
        "id": "Rycv98b4E2VH",
        "colab": {
          "base_uri": "https://localhost:8080/"
        },
        "outputId": "1c5aa4fe-bd68-4c4d-c2c9-241b65926277"
      },
      "execution_count": null,
      "outputs": [
        {
          "output_type": "execute_result",
          "data": {
            "text/plain": [
              "80"
            ]
          },
          "metadata": {},
          "execution_count": 2
        }
      ]
    },
    {
      "cell_type": "markdown",
      "source": [
        "***Задача 5.*** Порядок выступления 7 участников конкурса определяется жребием. Сколько различных вариантов жеребьевки при этом возможно?"
      ],
      "metadata": {
        "id": "7Q4VLeBkhaZ1"
      }
    },
    {
      "cell_type": "code",
      "source": [
        "n = 7\n",
        "factorial(n, exact=True)"
      ],
      "metadata": {
        "colab": {
          "base_uri": "https://localhost:8080/"
        },
        "id": "wTne9mO7FDcI",
        "outputId": "ed6370fb-ed87-48e7-8f79-d4a211cde8a4"
      },
      "execution_count": null,
      "outputs": [
        {
          "output_type": "execute_result",
          "data": {
            "text/plain": [
              "5040"
            ]
          },
          "metadata": {},
          "execution_count": 34
        }
      ]
    },
    {
      "cell_type": "markdown",
      "source": [
        "***Задача 6.*** В конкурсе по 5 номинациям участвуют 10 кинофильмов. Сколько существует вариантов распределения призов, если по всем номинациям установлены различные премии?"
      ],
      "metadata": {
        "id": "a6VNy5wzhxB9"
      }
    },
    {
      "cell_type": "code",
      "source": [
        "k = np.array(5)\n",
        "n = np.array(10)\n",
        "n**k"
      ],
      "metadata": {
        "colab": {
          "base_uri": "https://localhost:8080/"
        },
        "id": "RwA6AxV8Fc5G",
        "outputId": "2dff5347-93de-4112-9706-55d162d0c355"
      },
      "execution_count": null,
      "outputs": [
        {
          "output_type": "execute_result",
          "data": {
            "text/plain": [
              "100000"
            ]
          },
          "metadata": {},
          "execution_count": 23
        }
      ]
    },
    {
      "cell_type": "markdown",
      "source": [
        "***Задача 7.*** В шахматном турнире участвуют 16 человек. Сколько партий должно быть сыграно в турнире, если между любыми двумя участниками должна быть сыграна одна партия?"
      ],
      "metadata": {
        "id": "ZSdls5Tfh4Ld"
      }
    },
    {
      "cell_type": "code",
      "source": [
        "k = np.array(2)\n",
        "n = np.array(16)\n",
        "comb(n, k, exact=True, repetition=False)"
      ],
      "metadata": {
        "colab": {
          "base_uri": "https://localhost:8080/"
        },
        "id": "m3Le7ma8Fxb8",
        "outputId": "f4f7a578-5dbe-435d-b815-3a5444333897"
      },
      "execution_count": null,
      "outputs": [
        {
          "output_type": "execute_result",
          "data": {
            "text/plain": [
              "120"
            ]
          },
          "metadata": {},
          "execution_count": 28
        }
      ]
    },
    {
      "cell_type": "markdown",
      "source": [
        "***Задача 8.*** В условиях задачи 6 определить, сколько существует вариантов распределения призов, если по всем номинациям установлены одинаковые призы?"
      ],
      "metadata": {
        "id": "VP6hLOeniBCk"
      }
    },
    {
      "cell_type": "code",
      "source": [
        "k = np.array(5)\n",
        "n = np.array(10)\n",
        "comb(n, k, exact=True, repetition=True)"
      ],
      "metadata": {
        "id": "9uZkbd4mFy39",
        "colab": {
          "base_uri": "https://localhost:8080/"
        },
        "outputId": "303012fa-6503-473b-9211-861f2937b7ad"
      },
      "execution_count": null,
      "outputs": [
        {
          "output_type": "execute_result",
          "data": {
            "text/plain": [
              "2002"
            ]
          },
          "metadata": {},
          "execution_count": 11
        }
      ]
    },
    {
      "cell_type": "markdown",
      "source": [
        "***Задача 9.*** Садовник должен в течении трех дней посадить 6 деревьев. Сколькими способами он может распределить по дням работу, если будет сажать не менее одного дерева в день?"
      ],
      "metadata": {
        "id": "NP2fdhNgiDtt"
      }
    },
    {
      "cell_type": "code",
      "source": [],
      "metadata": {
        "id": "4fjqx6uZF0q3"
      },
      "execution_count": null,
      "outputs": []
    },
    {
      "cell_type": "markdown",
      "source": [
        "***Задача 10.*** Сколько существует четырехзначных чисел (возможно, начинающихся с нуля), сумма цифр которых равна 5?"
      ],
      "metadata": {
        "id": "uujcv8ADiIiE"
      }
    },
    {
      "cell_type": "code",
      "source": [],
      "metadata": {
        "id": "weCHjfi5F2Oz"
      },
      "execution_count": null,
      "outputs": []
    },
    {
      "cell_type": "markdown",
      "source": [
        "***Задача 11.*** Сколькими способами можно разбить группу из 25 студентов на три подгруппы А, В и С по 6, 9 и 10 человек соответственно?"
      ],
      "metadata": {
        "id": "hiHngUPCiNJE"
      }
    },
    {
      "cell_type": "code",
      "source": [
        "n = np.array(25)\n",
        "a = np.array(6)\n",
        "b = np.array(9)\n",
        "c = np.array(10)\n",
        "round(factorial(n) / (factorial(a) * factorial(b) * factorial(c)))"
      ],
      "metadata": {
        "id": "DwV93SC_F3bn",
        "colab": {
          "base_uri": "https://localhost:8080/"
        },
        "outputId": "3a0223dc-bea2-4b29-e219-47c86c66574f"
      },
      "execution_count": null,
      "outputs": [
        {
          "output_type": "execute_result",
          "data": {
            "text/plain": [
              "16360143800"
            ]
          },
          "metadata": {},
          "execution_count": 42
        }
      ]
    },
    {
      "cell_type": "markdown",
      "source": [
        "***Задача 12.*** Сколько существует семизначных чисел, состоящих из цифр 4, 5 и 6, в которых цифра 4 повторяется 3 раза, а цифры 5 и 6 – по 2 раза?"
      ],
      "metadata": {
        "id": "WRvmevCuiRbl"
      }
    },
    {
      "cell_type": "code",
      "source": [
        "n = np.array(7)\n",
        "n1 = np.array(3)\n",
        "n2 = np.array(2)\n",
        "n3 = np.array(2)\n",
        "factorial(n) / (factorial(n1) * factorial(n2) * factorial(n3))"
      ],
      "metadata": {
        "id": "TW3_kqxnF4YX",
        "colab": {
          "base_uri": "https://localhost:8080/"
        },
        "outputId": "6b6bc4d6-1096-48a8-e56f-ebe76f196e85"
      },
      "execution_count": null,
      "outputs": [
        {
          "output_type": "execute_result",
          "data": {
            "text/plain": [
              "210.0"
            ]
          },
          "metadata": {},
          "execution_count": 17
        }
      ]
    },
    {
      "cell_type": "markdown",
      "source": [
        "# 2. Классическая вероятностная модель. Геометрическая вероятность"
      ],
      "metadata": {
        "id": "xM7Q0-BPg_We"
      }
    },
    {
      "cell_type": "markdown",
      "source": [
        "***Задача 1.*** В ящике 5 апельсинов и 4 яблока. Наудачу выбираются 3 фрукта. Какова вероятность, что все три фрукта – апельсины?"
      ],
      "metadata": {
        "id": "pmJ8x13JiVZN"
      }
    },
    {
      "cell_type": "code",
      "source": [
        "k = np.array(3)\n",
        "n_orange = np.array(5) # благоприятствующие исходы\n",
        "n_all = np.array(9) # всего исходов\n",
        "c1 = comb(n_orange, k, exact=True, repetition=False)\n",
        "c2 = comb(n_all, k, exact=True, repetition=False)\n",
        "p = c1 / c2\n",
        "round(p, 2)"
      ],
      "metadata": {
        "colab": {
          "base_uri": "https://localhost:8080/"
        },
        "id": "fNabI9xlhFUd",
        "outputId": "afa60d35-4a8e-4e4c-b5bf-8952d16e7ac9"
      },
      "execution_count": null,
      "outputs": [
        {
          "output_type": "execute_result",
          "data": {
            "text/plain": [
              "0.12"
            ]
          },
          "metadata": {},
          "execution_count": 43
        }
      ]
    },
    {
      "cell_type": "markdown",
      "source": [
        "***Задача 2.*** Преподаватель предлагает каждому из трех студентов задумать любое число от 1 до 10. Считая, что выбор каждым из студентов любого числа из заданных равновозможен, найти вероятность того, что у кого-то из них задуманные числа совпадут."
      ],
      "metadata": {
        "id": "r6KVD1dqiZXN"
      }
    },
    {
      "cell_type": "code",
      "source": [
        "k = np.array(3)\n",
        "n = np.array(10)\n",
        "c_all = n**k # всего исходов\n",
        "\n",
        "k1 = np.array(1)\n",
        "n1 = np.array(10)\n",
        "n2 = np.array(9)\n",
        "n3 = np.array(8)\n",
        "c_diff = comb(n1, k1) * comb(n2, k1) * comb(n3, k1) # исходы, когда студенты задумали разные числа\n",
        "\n",
        "p = (c_all - c_diff) / c_all\n",
        "p"
      ],
      "metadata": {
        "colab": {
          "base_uri": "https://localhost:8080/"
        },
        "id": "pLgLgh8zpog0",
        "outputId": "e2264330-3875-41e4-cd13-d0676f585e9b"
      },
      "execution_count": null,
      "outputs": [
        {
          "output_type": "execute_result",
          "data": {
            "text/plain": [
              "0.28"
            ]
          },
          "metadata": {},
          "execution_count": 29
        }
      ]
    },
    {
      "cell_type": "markdown",
      "source": [
        "***Задача 3.*** Найти вероятность того, что в 8-значном числе ровно 4 цифры совпадают, а остальные различны."
      ],
      "metadata": {
        "id": "VVe2waZwie_E"
      }
    },
    {
      "cell_type": "code",
      "source": [],
      "metadata": {
        "id": "cMhM7XQ7hE1N"
      },
      "execution_count": null,
      "outputs": []
    },
    {
      "cell_type": "markdown",
      "source": [
        "***Задача 4.*** Шесть клиентов случайным образом обращаются в 5 фирм. Найти вероятность того, что хотя бы в одну фирму никто не обратится."
      ],
      "metadata": {
        "id": "qFNLcSOwinUF"
      }
    },
    {
      "cell_type": "code",
      "source": [],
      "metadata": {
        "id": "ATRNf_MGhFjs"
      },
      "execution_count": null,
      "outputs": []
    },
    {
      "cell_type": "markdown",
      "source": [
        "# 3. Основные формулы теории вероятностей"
      ],
      "metadata": {
        "id": "wddx1__OhF8o"
      }
    },
    {
      "cell_type": "markdown",
      "source": [
        "***Задача 1.*** В ящике 10 красных и 5 синих пуговиц. Вынимаются наудачу две пуговицы. Какова вероятность, что пуговицы будут одноцветными?"
      ],
      "metadata": {
        "id": "IObWZ5hgixVF"
      }
    },
    {
      "cell_type": "code",
      "source": [
        "k = np.array(2)\n",
        "n_all = np.array(15)\n",
        "n_red = np.array(10)\n",
        "n_blue = np.array(5)\n",
        "p_red = comb(n_red, k, exact=True, repetition=False)\n",
        "p_blue = comb(n_blue, k, exact=True, repetition=False)\n",
        "p_all = comb(n_all, k, exact=True, repetition=False)\n",
        "p = (p_red + p_blue) / p_all\n",
        "round(p, 2)"
      ],
      "metadata": {
        "colab": {
          "base_uri": "https://localhost:8080/"
        },
        "id": "3PJJdhXVhJRW",
        "outputId": "692e2d29-3f1e-4eb0-abd8-3ddd5049edf7"
      },
      "execution_count": null,
      "outputs": [
        {
          "output_type": "execute_result",
          "data": {
            "text/plain": [
              "0.52"
            ]
          },
          "metadata": {},
          "execution_count": 46
        }
      ]
    },
    {
      "cell_type": "markdown",
      "source": [
        "***Задача 2.*** Среди сотрудников фирмы 28% знают английский язык, 30% – немецкий, 42% – французский; английский и немецкий – 8%, английский и французский – 10%, немецкий и французский – 5%, все три языка – 3%. Найти вероятность того, что случайно выбранный сотрудник фирмы: а) знает английский или немецкий; б) знает английский, немецкий или французский; в) не знает ни один из перечисленных языков."
      ],
      "metadata": {
        "id": "RndmQ9gNi0xU"
      }
    },
    {
      "cell_type": "code",
      "source": [
        "eng = np.array(0.28)\n",
        "ger = np.array(0.3)\n",
        "fr = np.array(0.42)\n",
        "eng_ger = np.array(0.08)\n",
        "eng_fr = np.array(0.1)\n",
        "ger_fr = np.array(0.05)\n",
        "eng_ger_fr = np.array(0.03)\n",
        "p_eng_ger = eng + ger - eng_ger\n",
        "p_eng_ger_fr = eng + ger + fr - (eng_ger + eng_fr + ger_fr) + eng_ger_fr\n",
        "p_no_eng_ger_fr = 1 - p_eng_ger_fr\n",
        "print(f'{round(p_eng_ger, 2)} - know english or german')\n",
        "print(f'{p_eng_ger_fr} - know english or german or french')\n",
        "print(f\"{round(p_no_eng_ger_fr, 2)} - don't know english or german or french\")"
      ],
      "metadata": {
        "colab": {
          "base_uri": "https://localhost:8080/"
        },
        "id": "z-AmvnnIhJPG",
        "outputId": "34f75dde-fbb6-4e46-b963-096ce7666c57"
      },
      "execution_count": null,
      "outputs": [
        {
          "output_type": "stream",
          "name": "stdout",
          "text": [
            "0.5 - know english or german\n",
            "0.8 - know english or german or french\n",
            "0.2 - don't know english or german or french\n"
          ]
        }
      ]
    },
    {
      "cell_type": "markdown",
      "source": [
        "***Задача 3.*** В семье – двое детей. Какова вероятность, что старший ребенок – мальчик, если известно, что в семье есть дети обоего пола?"
      ],
      "metadata": {
        "id": "So8zLFc6i4xN"
      }
    },
    {
      "cell_type": "code",
      "source": [
        "# boy-girl, girl-boy\n",
        "p = 1 / 2\n",
        "p"
      ],
      "metadata": {
        "colab": {
          "base_uri": "https://localhost:8080/"
        },
        "id": "WNdUfJGYhJMU",
        "outputId": "74ad0fd0-6a77-4efc-9bbb-00a59a02b985"
      },
      "execution_count": null,
      "outputs": [
        {
          "output_type": "execute_result",
          "data": {
            "text/plain": [
              "0.5"
            ]
          },
          "metadata": {},
          "execution_count": 31
        }
      ]
    }
  ]
}