{
  "cells": [
    {
      "cell_type": "code",
      "source": [
        "!pip install deeplake"
      ],
      "metadata": {
        "collapsed": true,
        "id": "ww_OWgcDXQKr"
      },
      "id": "ww_OWgcDXQKr",
      "execution_count": null,
      "outputs": []
    },
    {
      "cell_type": "code",
      "execution_count": 47,
      "id": "initial_id",
      "metadata": {
        "ExecuteTime": {
          "end_time": "2024-06-14T16:11:22.190309Z",
          "start_time": "2024-06-14T16:11:09.255374Z"
        },
        "collapsed": true,
        "id": "initial_id"
      },
      "outputs": [],
      "source": [
        "import tensorflow as tf\n",
        "from tensorflow.keras.layers import Input, Dense, Flatten, Reshape, Dropout\n",
        "from tensorflow.keras.models import Model\n",
        "import deeplake\n",
        "import numpy as np\n",
        "from sklearn.model_selection import train_test_split\n",
        "from tensorflow.keras.optimizers import Adam"
      ]
    },
    {
      "cell_type": "code",
      "execution_count": 95,
      "id": "6281ef0b882fc7",
      "metadata": {
        "ExecuteTime": {
          "end_time": "2024-06-14T16:34:03.714679Z",
          "start_time": "2024-06-14T16:33:57.963170Z"
        },
        "colab": {
          "base_uri": "https://localhost:8080/"
        },
        "id": "6281ef0b882fc7",
        "outputId": "ceea99d1-2f0b-4177-9925-0cad196e7bac"
      },
      "outputs": [
        {
          "output_type": "stream",
          "name": "stderr",
          "text": [
            "\r\r"
          ]
        },
        {
          "output_type": "stream",
          "name": "stdout",
          "text": [
            "Opening dataset in read-only mode as you don't have write permissions.\n"
          ]
        },
        {
          "output_type": "stream",
          "name": "stderr",
          "text": [
            "\\"
          ]
        },
        {
          "output_type": "stream",
          "name": "stdout",
          "text": [
            "This dataset can be visualized in Jupyter Notebook by ds.visualize() or at https://app.activeloop.ai/activeloop/mnist-train\n",
            "\n"
          ]
        },
        {
          "output_type": "stream",
          "name": "stderr",
          "text": [
            "|"
          ]
        },
        {
          "output_type": "stream",
          "name": "stdout",
          "text": [
            "hub://activeloop/mnist-train loaded successfully.\n",
            "\n"
          ]
        },
        {
          "output_type": "stream",
          "name": "stderr",
          "text": [
            "\r \r\r\r"
          ]
        }
      ],
      "source": [
        "ds = deeplake.load(\"hub://activeloop/mnist-train\")"
      ]
    },
    {
      "cell_type": "code",
      "execution_count": 96,
      "id": "c0df6bf9a1c9fa0f",
      "metadata": {
        "ExecuteTime": {
          "end_time": "2024-06-14T16:13:21.918782Z",
          "start_time": "2024-06-14T16:13:20.125201Z"
        },
        "id": "c0df6bf9a1c9fa0f"
      },
      "outputs": [],
      "source": [
        "labels = np.array(ds['labels'])\n",
        "images = np.array(ds['images'])"
      ]
    },
    {
      "cell_type": "code",
      "execution_count": 97,
      "id": "7691f584e8731074",
      "metadata": {
        "ExecuteTime": {
          "end_time": "2024-06-14T16:19:47.638938Z",
          "start_time": "2024-06-14T16:19:47.574965Z"
        },
        "id": "7691f584e8731074"
      },
      "outputs": [],
      "source": [
        "# Разбиение данных на тренировочный и тестовый наборы\n",
        "mnist_train_X, mnist_test_X, mnist_train_y, mnist_test_y = train_test_split(images, labels, test_size=0.2, random_state=42)"
      ]
    },
    {
      "cell_type": "code",
      "execution_count": 98,
      "id": "492eee1d94d7fb7e",
      "metadata": {
        "ExecuteTime": {
          "end_time": "2024-06-14T16:21:05.481583Z",
          "start_time": "2024-06-14T16:21:05.241843Z"
        },
        "id": "492eee1d94d7fb7e"
      },
      "outputs": [],
      "source": [
        "mnist_train_X = mnist_train_X / 255\n",
        "mnist_test_X = mnist_test_X / 255"
      ]
    },
    {
      "cell_type": "code",
      "execution_count": 99,
      "id": "391f130fb0a8b4a6",
      "metadata": {
        "ExecuteTime": {
          "end_time": "2024-06-14T16:56:15.069394Z",
          "start_time": "2024-06-14T16:56:14.747491Z"
        },
        "id": "391f130fb0a8b4a6"
      },
      "outputs": [],
      "source": [
        "fashion_mnist = tf.keras.datasets.fashion_mnist\n",
        "(train_images, train_labels), (test_images, test_labels) = fashion_mnist.load_data()\n",
        "\n",
        "filtered_train_images = train_images[train_labels < 5]\n",
        "filtered_test_images = test_images[test_labels < 5]\n",
        "filtered_train_labels = train_labels[train_labels < 5]\n",
        "filtered_test_labels = test_labels[test_labels < 5]"
      ]
    },
    {
      "cell_type": "code",
      "execution_count": 100,
      "id": "94192557b7dd4c0c",
      "metadata": {
        "ExecuteTime": {
          "end_time": "2024-06-14T16:57:19.432126Z",
          "start_time": "2024-06-14T16:57:19.264599Z"
        },
        "id": "94192557b7dd4c0c"
      },
      "outputs": [],
      "source": [
        "fashion_train_X = filtered_train_images / 255\n",
        "fashion_test_X = filtered_test_images / 255"
      ]
    },
    {
      "cell_type": "code",
      "execution_count": 101,
      "id": "a2cf59906dd224f2",
      "metadata": {
        "ExecuteTime": {
          "end_time": "2024-06-14T16:22:22.812619Z",
          "start_time": "2024-06-14T16:22:22.808097Z"
        },
        "id": "a2cf59906dd224f2"
      },
      "outputs": [],
      "source": [
        "import tensorflow as tf\n",
        "from tensorflow.keras.layers import Input, Conv2D, MaxPooling2D, UpSampling2D\n",
        "from tensorflow.keras.models import Model"
      ]
    },
    {
      "cell_type": "markdown",
      "id": "129fdcf2a73add12",
      "metadata": {
        "id": "129fdcf2a73add12"
      },
      "source": [
        "# Задание 1\n",
        "Обучиться на mnist цифрах и перенести модель, дообучить на mnist одежда (5 классов)"
      ]
    },
    {
      "cell_type": "code",
      "execution_count": 102,
      "id": "1dee547aea15b9bc",
      "metadata": {
        "ExecuteTime": {
          "end_time": "2024-06-14T17:37:02.304343Z",
          "start_time": "2024-06-14T17:37:02.140113Z"
        },
        "id": "1dee547aea15b9bc"
      },
      "outputs": [],
      "source": [
        "# Архитектура сверточного автоэнкодера\n",
        "input_img = Input(shape=(28, 28, 1))  # MNIST - черно-белые изображения\n",
        "\n",
        "# Энкодер\n",
        "x = Conv2D(32, (3, 3), activation='relu', padding='same')(input_img)\n",
        "x = MaxPooling2D((2, 2), padding='same')(x)\n",
        "x = Conv2D(64, (3, 3), activation='relu', padding='same')(x)\n",
        "encoded = MaxPooling2D((2, 2), padding='same')(x)\n",
        "\n",
        "# Декодер\n",
        "x = Conv2D(64, (3, 3), activation='relu', padding='same')(encoded)\n",
        "x = UpSampling2D((2, 2))(x)\n",
        "x = Conv2D(32, (3, 3), activation='relu', padding='same')(x)\n",
        "x = UpSampling2D((2, 2))(x)\n",
        "decoded = Conv2D(1, (3, 3), activation='sigmoid', padding='same')(x)\n",
        "flattened = Flatten()(decoded)\n",
        "out = Dense(10, activation='softmax')(flattened)\n",
        "\n",
        "optimizer = Adam(learning_rate=0.001)\n",
        "# Сборка автоэнкодера\n",
        "autoencoder = Model(input_img, out)\n",
        "autoencoder.compile(optimizer=optimizer, loss='categorical_crossentropy', metrics=['accuracy'])\n",
        "\n",
        "# Предполагается, что mnist_train и mnist_test имеют размерность (num_samples, 28, 28)\n",
        "# Мы просто изменяем размерность данных для соответствия форме (num_samples, 28, 28, 1)\n",
        "mnist_train = mnist_train_X.reshape(-1, 28, 28, 1)\n",
        "mnist_test = mnist_test_X.reshape(-1, 28, 28, 1)"
      ]
    },
    {
      "cell_type": "code",
      "execution_count": 103,
      "id": "ba88d2f07d699ac8",
      "metadata": {
        "ExecuteTime": {
          "end_time": "2024-06-14T17:37:03.250873Z",
          "start_time": "2024-06-14T17:37:03.243622Z"
        },
        "id": "ba88d2f07d699ac8"
      },
      "outputs": [],
      "source": [
        "mnist_train_y = tf.keras.utils.to_categorical(mnist_train_y, 10)\n",
        "mnist_test_y = tf.keras.utils.to_categorical(mnist_test_y, 10)"
      ]
    },
    {
      "cell_type": "code",
      "execution_count": 104,
      "id": "c33cba37eacdfa5",
      "metadata": {
        "ExecuteTime": {
          "end_time": "2024-06-14T17:39:42.503605Z",
          "start_time": "2024-06-14T17:37:04.125233Z"
        },
        "colab": {
          "base_uri": "https://localhost:8080/"
        },
        "id": "c33cba37eacdfa5",
        "outputId": "e85a6922-4c23-4637-be68-d0c6a2a8b3ec"
      },
      "outputs": [
        {
          "output_type": "stream",
          "name": "stdout",
          "text": [
            "Epoch 1/50\n",
            "10/10 [==============================] - 14s 1s/step - loss: 2.4111 - accuracy: 0.1110 - val_loss: 2.2791 - val_accuracy: 0.1093\n",
            "Epoch 2/50\n",
            "10/10 [==============================] - 13s 1s/step - loss: 2.2555 - accuracy: 0.1150 - val_loss: 2.1977 - val_accuracy: 0.2035\n",
            "Epoch 3/50\n",
            "10/10 [==============================] - 9s 1s/step - loss: 2.1503 - accuracy: 0.2550 - val_loss: 2.0609 - val_accuracy: 0.2653\n",
            "Epoch 4/50\n",
            "10/10 [==============================] - 10s 1s/step - loss: 1.9496 - accuracy: 0.3680 - val_loss: 1.7317 - val_accuracy: 0.4968\n",
            "Epoch 5/50\n",
            "10/10 [==============================] - 10s 1s/step - loss: 1.5506 - accuracy: 0.5780 - val_loss: 1.2920 - val_accuracy: 0.6786\n",
            "Epoch 6/50\n",
            "10/10 [==============================] - 10s 1s/step - loss: 1.1502 - accuracy: 0.7040 - val_loss: 0.9797 - val_accuracy: 0.7690\n",
            "Epoch 7/50\n",
            "10/10 [==============================] - 13s 1s/step - loss: 0.8908 - accuracy: 0.7770 - val_loss: 0.7367 - val_accuracy: 0.7982\n",
            "Epoch 8/50\n",
            "10/10 [==============================] - 13s 1s/step - loss: 0.6891 - accuracy: 0.8150 - val_loss: 0.6301 - val_accuracy: 0.8342\n",
            "Epoch 9/50\n",
            "10/10 [==============================] - 9s 956ms/step - loss: 0.5561 - accuracy: 0.8460 - val_loss: 0.5201 - val_accuracy: 0.8592\n",
            "Epoch 10/50\n",
            "10/10 [==============================] - 11s 1s/step - loss: 0.4708 - accuracy: 0.8700 - val_loss: 0.4469 - val_accuracy: 0.8810\n",
            "Epoch 11/50\n",
            "10/10 [==============================] - 11s 1s/step - loss: 0.4024 - accuracy: 0.8870 - val_loss: 0.4087 - val_accuracy: 0.8857\n",
            "Epoch 12/50\n",
            "10/10 [==============================] - 13s 1s/step - loss: 0.3627 - accuracy: 0.9020 - val_loss: 0.3733 - val_accuracy: 0.8978\n",
            "Epoch 13/50\n",
            "10/10 [==============================] - 9s 1s/step - loss: 0.3160 - accuracy: 0.9190 - val_loss: 0.3488 - val_accuracy: 0.9029\n",
            "Epoch 14/50\n",
            "10/10 [==============================] - 14s 1s/step - loss: 0.2754 - accuracy: 0.9340 - val_loss: 0.3332 - val_accuracy: 0.9064\n",
            "Epoch 15/50\n",
            "10/10 [==============================] - 14s 1s/step - loss: 0.2633 - accuracy: 0.9350 - val_loss: 0.3112 - val_accuracy: 0.9122\n",
            "Epoch 16/50\n",
            "10/10 [==============================] - 14s 1s/step - loss: 0.2483 - accuracy: 0.9430 - val_loss: 0.3029 - val_accuracy: 0.9177\n",
            "Epoch 17/50\n",
            "10/10 [==============================] - 10s 1s/step - loss: 0.2303 - accuracy: 0.9410 - val_loss: 0.3070 - val_accuracy: 0.9132\n",
            "Epoch 18/50\n",
            "10/10 [==============================] - 13s 1s/step - loss: 0.2068 - accuracy: 0.9500 - val_loss: 0.2676 - val_accuracy: 0.9239\n",
            "Epoch 19/50\n",
            "10/10 [==============================] - 10s 1s/step - loss: 0.1867 - accuracy: 0.9620 - val_loss: 0.2681 - val_accuracy: 0.9220\n",
            "Epoch 20/50\n",
            "10/10 [==============================] - 9s 956ms/step - loss: 0.1713 - accuracy: 0.9580 - val_loss: 0.2550 - val_accuracy: 0.9254\n",
            "Epoch 21/50\n",
            "10/10 [==============================] - 14s 2s/step - loss: 0.1628 - accuracy: 0.9630 - val_loss: 0.2348 - val_accuracy: 0.9333\n",
            "Epoch 22/50\n",
            "10/10 [==============================] - 10s 1s/step - loss: 0.1390 - accuracy: 0.9750 - val_loss: 0.2397 - val_accuracy: 0.9336\n",
            "Epoch 23/50\n",
            "10/10 [==============================] - 13s 1s/step - loss: 0.1329 - accuracy: 0.9770 - val_loss: 0.2232 - val_accuracy: 0.9351\n",
            "Epoch 24/50\n",
            "10/10 [==============================] - 13s 1s/step - loss: 0.1161 - accuracy: 0.9820 - val_loss: 0.2213 - val_accuracy: 0.9362\n",
            "Epoch 25/50\n",
            "10/10 [==============================] - 10s 1s/step - loss: 0.1105 - accuracy: 0.9830 - val_loss: 0.2224 - val_accuracy: 0.9361\n",
            "Epoch 26/50\n",
            "10/10 [==============================] - 9s 959ms/step - loss: 0.1126 - accuracy: 0.9830 - val_loss: 0.2161 - val_accuracy: 0.9380\n",
            "Epoch 27/50\n",
            "10/10 [==============================] - 10s 1s/step - loss: 0.1075 - accuracy: 0.9810 - val_loss: 0.2253 - val_accuracy: 0.9346\n",
            "Epoch 28/50\n",
            "10/10 [==============================] - 10s 1s/step - loss: 0.1061 - accuracy: 0.9800 - val_loss: 0.2117 - val_accuracy: 0.9377\n",
            "Epoch 29/50\n",
            "10/10 [==============================] - 13s 1s/step - loss: 0.0932 - accuracy: 0.9870 - val_loss: 0.2005 - val_accuracy: 0.9434\n",
            "Epoch 30/50\n",
            "10/10 [==============================] - 13s 1s/step - loss: 0.0857 - accuracy: 0.9840 - val_loss: 0.2135 - val_accuracy: 0.9367\n",
            "Epoch 31/50\n",
            "10/10 [==============================] - 9s 969ms/step - loss: 0.0819 - accuracy: 0.9870 - val_loss: 0.2111 - val_accuracy: 0.9375\n",
            "Epoch 32/50\n",
            "10/10 [==============================] - 14s 1s/step - loss: 0.0778 - accuracy: 0.9880 - val_loss: 0.2244 - val_accuracy: 0.9325\n",
            "Epoch 33/50\n",
            "10/10 [==============================] - 14s 1s/step - loss: 0.0775 - accuracy: 0.9880 - val_loss: 0.2090 - val_accuracy: 0.9356\n",
            "Epoch 34/50\n",
            "10/10 [==============================] - 10s 1s/step - loss: 0.0717 - accuracy: 0.9900 - val_loss: 0.1918 - val_accuracy: 0.9429\n",
            "Epoch 35/50\n",
            "10/10 [==============================] - 13s 1s/step - loss: 0.0630 - accuracy: 0.9940 - val_loss: 0.2002 - val_accuracy: 0.9391\n",
            "Epoch 36/50\n",
            "10/10 [==============================] - 11s 1s/step - loss: 0.0603 - accuracy: 0.9950 - val_loss: 0.1858 - val_accuracy: 0.9447\n",
            "Epoch 37/50\n",
            "10/10 [==============================] - 13s 1s/step - loss: 0.0595 - accuracy: 0.9900 - val_loss: 0.2173 - val_accuracy: 0.9376\n",
            "Epoch 38/50\n",
            "10/10 [==============================] - 13s 1s/step - loss: 0.0631 - accuracy: 0.9930 - val_loss: 0.1840 - val_accuracy: 0.9463\n",
            "Epoch 39/50\n",
            "10/10 [==============================] - 9s 989ms/step - loss: 0.0543 - accuracy: 0.9920 - val_loss: 0.1905 - val_accuracy: 0.9422\n",
            "Epoch 40/50\n",
            "10/10 [==============================] - 14s 1s/step - loss: 0.0472 - accuracy: 0.9960 - val_loss: 0.1806 - val_accuracy: 0.9457\n",
            "Epoch 41/50\n",
            "10/10 [==============================] - 10s 1s/step - loss: 0.0431 - accuracy: 0.9960 - val_loss: 0.1776 - val_accuracy: 0.9473\n",
            "Epoch 42/50\n",
            "10/10 [==============================] - 10s 1s/step - loss: 0.0405 - accuracy: 0.9970 - val_loss: 0.1797 - val_accuracy: 0.9473\n",
            "Epoch 43/50\n",
            "10/10 [==============================] - 13s 1s/step - loss: 0.0407 - accuracy: 0.9980 - val_loss: 0.1884 - val_accuracy: 0.9453\n",
            "Epoch 44/50\n",
            "10/10 [==============================] - 13s 1s/step - loss: 0.0406 - accuracy: 0.9980 - val_loss: 0.1790 - val_accuracy: 0.9471\n",
            "Epoch 45/50\n",
            "10/10 [==============================] - 13s 1s/step - loss: 0.0345 - accuracy: 0.9980 - val_loss: 0.1748 - val_accuracy: 0.9475\n",
            "Epoch 46/50\n",
            "10/10 [==============================] - 9s 992ms/step - loss: 0.0318 - accuracy: 0.9990 - val_loss: 0.1742 - val_accuracy: 0.9481\n",
            "Epoch 47/50\n",
            "10/10 [==============================] - 10s 1s/step - loss: 0.0308 - accuracy: 0.9990 - val_loss: 0.1729 - val_accuracy: 0.9478\n",
            "Epoch 48/50\n",
            "10/10 [==============================] - 11s 1s/step - loss: 0.0272 - accuracy: 1.0000 - val_loss: 0.1717 - val_accuracy: 0.9483\n",
            "Epoch 49/50\n",
            "10/10 [==============================] - 10s 1s/step - loss: 0.0254 - accuracy: 0.9990 - val_loss: 0.1703 - val_accuracy: 0.9487\n",
            "Epoch 50/50\n",
            "10/10 [==============================] - 13s 1s/step - loss: 0.0241 - accuracy: 1.0000 - val_loss: 0.1679 - val_accuracy: 0.9493\n"
          ]
        },
        {
          "output_type": "execute_result",
          "data": {
            "text/plain": [
              "<keras.src.callbacks.History at 0x7c1f7fa92f80>"
            ]
          },
          "metadata": {},
          "execution_count": 104
        }
      ],
      "source": [
        "autoencoder.fit(mnist_train[:1000], mnist_train_y[:1000],\n",
        "                epochs=50,\n",
        "                batch_size=100,\n",
        "                validation_data=(mnist_test, mnist_test_y))"
      ]
    },
    {
      "cell_type": "code",
      "execution_count": 105,
      "id": "66651d041bd487d3",
      "metadata": {
        "ExecuteTime": {
          "end_time": "2024-06-14T17:39:57.771051Z",
          "start_time": "2024-06-14T17:39:52.479631Z"
        },
        "colab": {
          "base_uri": "https://localhost:8080/"
        },
        "id": "66651d041bd487d3",
        "outputId": "d143faf1-af04-41cf-dc74-6e976353b94a"
      },
      "outputs": [
        {
          "output_type": "stream",
          "name": "stdout",
          "text": [
            "375/375 [==============================] - 9s 25ms/step\n"
          ]
        }
      ],
      "source": [
        "predicted_labels = autoencoder.predict(mnist_test)"
      ]
    },
    {
      "cell_type": "code",
      "execution_count": 107,
      "id": "dfa6598168a25b70",
      "metadata": {
        "ExecuteTime": {
          "end_time": "2024-06-14T17:43:32.720102Z",
          "start_time": "2024-06-14T17:43:32.685002Z"
        },
        "colab": {
          "base_uri": "https://localhost:8080/"
        },
        "id": "dfa6598168a25b70",
        "outputId": "50521e51-2a17-46c6-8ce4-eac4ec023428"
      },
      "outputs": [
        {
          "output_type": "stream",
          "name": "stdout",
          "text": [
            "              precision    recall  f1-score   support\n",
            "\n",
            "           0       0.95      0.98      0.97      1175\n",
            "           1       0.98      0.98      0.98      1322\n",
            "           2       0.96      0.95      0.95      1174\n",
            "           3       0.95      0.93      0.94      1219\n",
            "           4       0.96      0.95      0.95      1176\n",
            "           5       0.95      0.93      0.94      1104\n",
            "           6       0.95      0.97      0.96      1177\n",
            "           7       0.93      0.97      0.95      1299\n",
            "           8       0.92      0.93      0.93      1160\n",
            "           9       0.94      0.90      0.92      1194\n",
            "\n",
            "    accuracy                           0.95     12000\n",
            "   macro avg       0.95      0.95      0.95     12000\n",
            "weighted avg       0.95      0.95      0.95     12000\n",
            "\n"
          ]
        }
      ],
      "source": [
        "from sklearn.metrics import classification_report\n",
        "\n",
        "prediction_y = np.argmax(predicted_labels, axis=-1)\n",
        "mnist_test_y_1 = np.argmax(mnist_test_y, axis=-1)\n",
        "# Получаем отчет о классификации\n",
        "report = classification_report(mnist_test_y_1, prediction_y)\n",
        "print(report)"
      ]
    },
    {
      "cell_type": "code",
      "execution_count": 108,
      "id": "c435e2e07879a4e6",
      "metadata": {
        "ExecuteTime": {
          "end_time": "2024-06-14T17:50:46.171820Z",
          "start_time": "2024-06-14T17:49:41.172260Z"
        },
        "colab": {
          "base_uri": "https://localhost:8080/"
        },
        "id": "c435e2e07879a4e6",
        "outputId": "89975169-f5e0-488b-cbc7-aa3b42962d6e"
      },
      "outputs": [
        {
          "output_type": "stream",
          "name": "stdout",
          "text": [
            "Epoch 1/50\n",
            "10/10 [==============================] - 7s 662ms/step - loss: 0.9770 - accuracy: 0.5980 - val_loss: 0.6820 - val_accuracy: 0.7360\n",
            "Epoch 2/50\n",
            "10/10 [==============================] - 6s 629ms/step - loss: 0.5418 - accuracy: 0.7910 - val_loss: 0.5697 - val_accuracy: 0.7836\n",
            "Epoch 3/50\n",
            "10/10 [==============================] - 3s 357ms/step - loss: 0.4694 - accuracy: 0.8230 - val_loss: 0.5383 - val_accuracy: 0.7990\n",
            "Epoch 4/50\n",
            "10/10 [==============================] - 3s 358ms/step - loss: 0.4170 - accuracy: 0.8480 - val_loss: 0.5167 - val_accuracy: 0.8082\n",
            "Epoch 5/50\n",
            "10/10 [==============================] - 4s 389ms/step - loss: 0.3912 - accuracy: 0.8430 - val_loss: 0.5302 - val_accuracy: 0.7968\n",
            "Epoch 6/50\n",
            "10/10 [==============================] - 6s 676ms/step - loss: 0.3687 - accuracy: 0.8530 - val_loss: 0.5366 - val_accuracy: 0.7960\n",
            "Epoch 7/50\n",
            "10/10 [==============================] - 6s 632ms/step - loss: 0.3606 - accuracy: 0.8550 - val_loss: 0.5132 - val_accuracy: 0.8040\n",
            "Epoch 8/50\n",
            "10/10 [==============================] - 6s 630ms/step - loss: 0.3346 - accuracy: 0.8680 - val_loss: 0.4888 - val_accuracy: 0.8200\n",
            "Epoch 9/50\n",
            "10/10 [==============================] - 3s 357ms/step - loss: 0.3256 - accuracy: 0.8690 - val_loss: 0.4945 - val_accuracy: 0.8160\n",
            "Epoch 10/50\n",
            "10/10 [==============================] - 3s 357ms/step - loss: 0.3159 - accuracy: 0.8760 - val_loss: 0.4928 - val_accuracy: 0.8160\n",
            "Epoch 11/50\n",
            "10/10 [==============================] - 6s 631ms/step - loss: 0.3214 - accuracy: 0.8710 - val_loss: 0.4896 - val_accuracy: 0.8192\n",
            "Epoch 12/50\n",
            "10/10 [==============================] - 6s 630ms/step - loss: 0.2871 - accuracy: 0.8840 - val_loss: 0.4891 - val_accuracy: 0.8214\n",
            "Epoch 13/50\n",
            "10/10 [==============================] - 3s 363ms/step - loss: 0.2694 - accuracy: 0.9040 - val_loss: 0.4878 - val_accuracy: 0.8228\n",
            "Epoch 14/50\n",
            "10/10 [==============================] - 5s 563ms/step - loss: 0.2636 - accuracy: 0.8960 - val_loss: 0.4799 - val_accuracy: 0.8240\n",
            "Epoch 15/50\n",
            "10/10 [==============================] - 3s 380ms/step - loss: 0.2541 - accuracy: 0.9060 - val_loss: 0.4995 - val_accuracy: 0.8186\n",
            "Epoch 16/50\n",
            "10/10 [==============================] - 3s 358ms/step - loss: 0.2525 - accuracy: 0.9110 - val_loss: 0.4870 - val_accuracy: 0.8240\n",
            "Epoch 17/50\n",
            "10/10 [==============================] - 6s 631ms/step - loss: 0.2438 - accuracy: 0.9100 - val_loss: 0.4851 - val_accuracy: 0.8230\n",
            "Epoch 18/50\n",
            "10/10 [==============================] - 3s 361ms/step - loss: 0.2279 - accuracy: 0.9210 - val_loss: 0.4827 - val_accuracy: 0.8266\n",
            "Epoch 19/50\n",
            "10/10 [==============================] - 3s 362ms/step - loss: 0.2191 - accuracy: 0.9250 - val_loss: 0.5028 - val_accuracy: 0.8180\n",
            "Epoch 20/50\n",
            "10/10 [==============================] - 6s 635ms/step - loss: 0.2177 - accuracy: 0.9230 - val_loss: 0.4819 - val_accuracy: 0.8292\n",
            "Epoch 21/50\n",
            "10/10 [==============================] - 3s 362ms/step - loss: 0.2110 - accuracy: 0.9240 - val_loss: 0.5359 - val_accuracy: 0.8076\n",
            "Epoch 22/50\n",
            "10/10 [==============================] - 3s 361ms/step - loss: 0.2189 - accuracy: 0.9160 - val_loss: 0.5034 - val_accuracy: 0.8228\n",
            "Epoch 23/50\n",
            "10/10 [==============================] - 6s 630ms/step - loss: 0.2111 - accuracy: 0.9240 - val_loss: 0.5002 - val_accuracy: 0.8266\n",
            "Epoch 24/50\n",
            "10/10 [==============================] - 3s 364ms/step - loss: 0.1940 - accuracy: 0.9340 - val_loss: 0.4939 - val_accuracy: 0.8282\n",
            "Epoch 25/50\n",
            "10/10 [==============================] - 3s 359ms/step - loss: 0.1883 - accuracy: 0.9370 - val_loss: 0.5040 - val_accuracy: 0.8272\n",
            "Epoch 26/50\n",
            "10/10 [==============================] - 4s 418ms/step - loss: 0.1754 - accuracy: 0.9420 - val_loss: 0.4960 - val_accuracy: 0.8312\n",
            "Epoch 27/50\n",
            "10/10 [==============================] - 6s 677ms/step - loss: 0.1705 - accuracy: 0.9450 - val_loss: 0.5060 - val_accuracy: 0.8218\n",
            "Epoch 28/50\n",
            "10/10 [==============================] - 3s 359ms/step - loss: 0.1776 - accuracy: 0.9410 - val_loss: 0.5005 - val_accuracy: 0.8322\n",
            "Epoch 29/50\n",
            "10/10 [==============================] - 3s 356ms/step - loss: 0.1725 - accuracy: 0.9370 - val_loss: 0.5230 - val_accuracy: 0.8272\n",
            "Epoch 30/50\n",
            "10/10 [==============================] - 5s 557ms/step - loss: 0.1608 - accuracy: 0.9420 - val_loss: 0.5058 - val_accuracy: 0.8258\n",
            "Epoch 31/50\n",
            "10/10 [==============================] - 6s 630ms/step - loss: 0.1641 - accuracy: 0.9470 - val_loss: 0.5091 - val_accuracy: 0.8314\n",
            "Epoch 32/50\n",
            "10/10 [==============================] - 3s 361ms/step - loss: 0.1540 - accuracy: 0.9490 - val_loss: 0.5725 - val_accuracy: 0.8054\n",
            "Epoch 33/50\n",
            "10/10 [==============================] - 5s 568ms/step - loss: 0.1657 - accuracy: 0.9350 - val_loss: 0.5449 - val_accuracy: 0.8176\n",
            "Epoch 34/50\n",
            "10/10 [==============================] - 6s 629ms/step - loss: 0.1556 - accuracy: 0.9490 - val_loss: 0.5248 - val_accuracy: 0.8254\n",
            "Epoch 35/50\n",
            "10/10 [==============================] - 3s 357ms/step - loss: 0.1473 - accuracy: 0.9530 - val_loss: 0.5219 - val_accuracy: 0.8284\n",
            "Epoch 36/50\n",
            "10/10 [==============================] - 5s 544ms/step - loss: 0.1352 - accuracy: 0.9630 - val_loss: 0.5222 - val_accuracy: 0.8292\n",
            "Epoch 37/50\n",
            "10/10 [==============================] - 3s 356ms/step - loss: 0.1269 - accuracy: 0.9650 - val_loss: 0.5245 - val_accuracy: 0.8310\n",
            "Epoch 38/50\n",
            "10/10 [==============================] - 6s 632ms/step - loss: 0.1216 - accuracy: 0.9700 - val_loss: 0.5308 - val_accuracy: 0.8266\n",
            "Epoch 39/50\n",
            "10/10 [==============================] - 5s 565ms/step - loss: 0.1169 - accuracy: 0.9680 - val_loss: 0.5401 - val_accuracy: 0.8264\n",
            "Epoch 40/50\n",
            "10/10 [==============================] - 3s 358ms/step - loss: 0.1176 - accuracy: 0.9710 - val_loss: 0.5276 - val_accuracy: 0.8354\n",
            "Epoch 41/50\n",
            "10/10 [==============================] - 6s 630ms/step - loss: 0.1066 - accuracy: 0.9730 - val_loss: 0.5433 - val_accuracy: 0.8258\n",
            "Epoch 42/50\n",
            "10/10 [==============================] - 6s 652ms/step - loss: 0.1096 - accuracy: 0.9700 - val_loss: 0.5496 - val_accuracy: 0.8220\n",
            "Epoch 43/50\n",
            "10/10 [==============================] - 3s 358ms/step - loss: 0.1008 - accuracy: 0.9760 - val_loss: 0.5470 - val_accuracy: 0.8312\n",
            "Epoch 44/50\n",
            "10/10 [==============================] - 3s 360ms/step - loss: 0.1135 - accuracy: 0.9670 - val_loss: 0.5434 - val_accuracy: 0.8314\n",
            "Epoch 45/50\n",
            "10/10 [==============================] - 4s 463ms/step - loss: 0.1046 - accuracy: 0.9750 - val_loss: 0.5657 - val_accuracy: 0.8196\n",
            "Epoch 46/50\n",
            "10/10 [==============================] - 6s 674ms/step - loss: 0.0963 - accuracy: 0.9770 - val_loss: 0.5465 - val_accuracy: 0.8360\n",
            "Epoch 47/50\n",
            "10/10 [==============================] - 6s 632ms/step - loss: 0.0880 - accuracy: 0.9820 - val_loss: 0.5558 - val_accuracy: 0.8284\n",
            "Epoch 48/50\n",
            "10/10 [==============================] - 5s 542ms/step - loss: 0.0878 - accuracy: 0.9840 - val_loss: 0.5563 - val_accuracy: 0.8374\n",
            "Epoch 49/50\n",
            "10/10 [==============================] - 6s 629ms/step - loss: 0.0877 - accuracy: 0.9780 - val_loss: 0.5657 - val_accuracy: 0.8318\n",
            "Epoch 50/50\n",
            "10/10 [==============================] - 3s 366ms/step - loss: 0.0846 - accuracy: 0.9840 - val_loss: 0.5589 - val_accuracy: 0.8350\n",
            "157/157 [==============================] - 5s 32ms/step\n"
          ]
        }
      ],
      "source": [
        "new_autoencoder_fashion = Model(input_img, autoencoder.layers[-1].output)\n",
        "for layer in new_autoencoder_fashion.layers:\n",
        "    layer.trainable = False\n",
        "\n",
        "x = Dense(128, activation='relu')(flattened)\n",
        "predictions = Dense(5, activation='softmax')(x)\n",
        "\n",
        "fashion_model_from_numbers = Model(input_img, predictions)\n",
        "fashion_model_from_numbers.compile(optimizer='adam', loss='sparse_categorical_crossentropy', metrics=['accuracy'])\n",
        "fashion_model_from_numbers.fit(fashion_train_X[:1000], filtered_train_labels[:1000],\n",
        "                               epochs=50,\n",
        "                               batch_size=100,\n",
        "                               validation_data=(fashion_test_X, filtered_test_labels))\n",
        "\n",
        "# Предсказание\n",
        "predictions_from_numbers = fashion_model_from_numbers.predict(fashion_test_X)"
      ]
    },
    {
      "cell_type": "code",
      "execution_count": 109,
      "id": "7516a8561e984291",
      "metadata": {
        "ExecuteTime": {
          "end_time": "2024-06-14T17:53:52.680427Z",
          "start_time": "2024-06-14T17:53:52.653626Z"
        },
        "colab": {
          "base_uri": "https://localhost:8080/"
        },
        "id": "7516a8561e984291",
        "outputId": "28db3425-3964-4062-c6a7-27648fea3b61"
      },
      "outputs": [
        {
          "output_type": "stream",
          "name": "stdout",
          "text": [
            "              precision    recall  f1-score   support\n",
            "\n",
            "           0       0.91      0.88      0.90      1000\n",
            "           1       0.94      0.94      0.94      1000\n",
            "           2       0.77      0.72      0.74      1000\n",
            "           3       0.83      0.84      0.84      1000\n",
            "           4       0.73      0.80      0.76      1000\n",
            "\n",
            "    accuracy                           0.83      5000\n",
            "   macro avg       0.84      0.83      0.84      5000\n",
            "weighted avg       0.84      0.83      0.84      5000\n",
            "\n"
          ]
        }
      ],
      "source": [
        "prediction_fashion_y = np.argmax(predictions_from_numbers, axis=-1)\n",
        "# Получаем отчет о классификации\n",
        "report = classification_report(filtered_test_labels, prediction_fashion_y)\n",
        "print(report)"
      ]
    },
    {
      "cell_type": "code",
      "execution_count": 110,
      "id": "1c1a43cb9945a35f",
      "metadata": {
        "ExecuteTime": {
          "end_time": "2024-06-14T17:54:41.373981Z",
          "start_time": "2024-06-14T17:54:41.060158Z"
        },
        "colab": {
          "base_uri": "https://localhost:8080/",
          "height": 807
        },
        "id": "1c1a43cb9945a35f",
        "outputId": "062bc4f8-6343-49d9-dc3d-8da50a354592"
      },
      "outputs": [
        {
          "output_type": "display_data",
          "data": {
            "text/plain": [
              "<Figure size 1000x1000 with 2 Axes>"
            ],
            "image/png": "[encoded data removed]"
          },
          "metadata": {}
        }
      ],
      "source": [
        "import numpy as np\n",
        "from sklearn.metrics import confusion_matrix, ConfusionMatrixDisplay\n",
        "import matplotlib.pyplot as plt\n",
        "\n",
        "# Вычисляем confusion matrix\n",
        "cm = confusion_matrix(filtered_test_labels, prediction_fashion_y)\n",
        "\n",
        "# Визуализируем confusion matrix\n",
        "fig, ax = plt.subplots(figsize=(10, 10))\n",
        "ConfusionMatrixDisplay(cm, display_labels=[0, 1, 2, 3, 4]).plot(ax=ax)\n",
        "plt.show()"
      ]
    },
    {
      "cell_type": "markdown",
      "source": [
        "# Задание 2\n",
        "Обучиться на мнист цифры с self target и перенести на одежду (5 классов)\n",
        "\n"
      ],
      "metadata": {
        "id": "2VC17CIgYO1i"
      },
      "id": "2VC17CIgYO1i"
    },
    {
      "cell_type": "code",
      "execution_count": 79,
      "id": "97a5f85946ce3410",
      "metadata": {
        "ExecuteTime": {
          "end_time": "2024-06-14T16:25:01.570117Z",
          "start_time": "2024-06-14T16:25:01.493815Z"
        },
        "id": "97a5f85946ce3410"
      },
      "outputs": [],
      "source": [
        "# ЗАДАНИЕ 2\n",
        "\n",
        "# Архитектура сверточного автоэнкодера\n",
        "input_img = Input(shape=(28, 28, 1))  # MNIST - черно-белые изображения\n",
        "\n",
        "# Энкодер\n",
        "x = Conv2D(32, (3, 3), activation='relu', padding='same')(input_img)\n",
        "x = MaxPooling2D((2, 2), padding='same')(x)\n",
        "x = Conv2D(64, (3, 3), activation='relu', padding='same')(x)\n",
        "encoded = MaxPooling2D((2, 2), padding='same')(x)\n",
        "\n",
        "# Декодер\n",
        "x = Conv2D(64, (3, 3), activation='relu', padding='same')(encoded)\n",
        "x = UpSampling2D((2, 2))(x)\n",
        "x = Conv2D(32, (3, 3), activation='relu', padding='same')(x)\n",
        "x = UpSampling2D((2, 2))(x)\n",
        "decoded = Conv2D(1, (3, 3), activation='sigmoid', padding='same')(x)\n",
        "\n",
        "optimizer = Adam(learning_rate=0.01)\n",
        "# Сборка автоэнкодера\n",
        "autoencoder = Model(input_img, decoded)\n",
        "autoencoder.compile(optimizer=optimizer, loss='binary_crossentropy')\n",
        "\n",
        "# Предполагается, что mnist_train и mnist_test имеют размерность (num_samples, 28, 28)\n",
        "# Мы просто изменяем размерность данных для соответствия форме (num_samples, 28, 28, 1)\n",
        "mnist_train = mnist_train_X.reshape(-1, 28, 28, 1)\n",
        "mnist_test = mnist_test_X.reshape(-1, 28, 28, 1)"
      ]
    },
    {
      "cell_type": "code",
      "execution_count": 86,
      "id": "765e2c871f1c1c1",
      "metadata": {
        "ExecuteTime": {
          "end_time": "2024-06-14T16:27:39.350318Z",
          "start_time": "2024-06-14T16:25:03.235072Z"
        },
        "colab": {
          "base_uri": "https://localhost:8080/"
        },
        "id": "765e2c871f1c1c1",
        "outputId": "469d2e9c-cd0e-44db-b72d-5d4d971293a3"
      },
      "outputs": [
        {
          "output_type": "stream",
          "name": "stdout",
          "text": [
            "Epoch 1/100\n",
            "4/4 [==============================] - 14s 4s/step - loss: 0.0856 - val_loss: 0.0848\n",
            "Epoch 2/100\n",
            "4/4 [==============================] - 13s 4s/step - loss: 0.0852 - val_loss: 0.0845\n",
            "Epoch 3/100\n",
            "4/4 [==============================] - 13s 4s/step - loss: 0.0849 - val_loss: 0.0842\n",
            "Epoch 4/100\n",
            "4/4 [==============================] - 13s 4s/step - loss: 0.0846 - val_loss: 0.0839\n",
            "Epoch 5/100\n",
            "4/4 [==============================] - 13s 4s/step - loss: 0.0843 - val_loss: 0.0838\n",
            "Epoch 6/100\n",
            "4/4 [==============================] - 13s 4s/step - loss: 0.0870 - val_loss: 0.1042\n",
            "Epoch 7/100\n",
            "4/4 [==============================] - 9s 3s/step - loss: 0.1065 - val_loss: 0.0903\n",
            "Epoch 8/100\n",
            "4/4 [==============================] - 10s 3s/step - loss: 0.0962 - val_loss: 0.0900\n",
            "Epoch 9/100\n",
            "4/4 [==============================] - 10s 3s/step - loss: 0.0926 - val_loss: 0.0965\n",
            "Epoch 10/100\n",
            "4/4 [==============================] - 13s 4s/step - loss: 0.0917 - val_loss: 0.0864\n",
            "Epoch 11/100\n",
            "4/4 [==============================] - 13s 4s/step - loss: 0.0879 - val_loss: 0.0872\n",
            "Epoch 12/100\n",
            "4/4 [==============================] - 13s 4s/step - loss: 0.0865 - val_loss: 0.0862\n",
            "Epoch 13/100\n",
            "4/4 [==============================] - 10s 3s/step - loss: 0.0855 - val_loss: 0.0851\n",
            "Epoch 14/100\n",
            "4/4 [==============================] - 9s 3s/step - loss: 0.0849 - val_loss: 0.0851\n",
            "Epoch 15/100\n",
            "4/4 [==============================] - 10s 3s/step - loss: 0.0844 - val_loss: 0.0839\n",
            "Epoch 16/100\n",
            "4/4 [==============================] - 13s 4s/step - loss: 0.0837 - val_loss: 0.0832\n",
            "Epoch 17/100\n",
            "4/4 [==============================] - 13s 4s/step - loss: 0.0832 - val_loss: 0.0827\n",
            "Epoch 18/100\n",
            "4/4 [==============================] - 13s 4s/step - loss: 0.0829 - val_loss: 0.0822\n",
            "Epoch 19/100\n",
            "4/4 [==============================] - 9s 3s/step - loss: 0.0826 - val_loss: 0.0819\n",
            "Epoch 20/100\n",
            "4/4 [==============================] - 10s 3s/step - loss: 0.0823 - val_loss: 0.0819\n",
            "Epoch 21/100\n",
            "4/4 [==============================] - 10s 3s/step - loss: 0.0821 - val_loss: 0.0815\n",
            "Epoch 22/100\n",
            "4/4 [==============================] - 13s 4s/step - loss: 0.0819 - val_loss: 0.0814\n",
            "Epoch 23/100\n",
            "4/4 [==============================] - 13s 4s/step - loss: 0.0817 - val_loss: 0.0812\n",
            "Epoch 24/100\n",
            "4/4 [==============================] - 13s 4s/step - loss: 0.0815 - val_loss: 0.0812\n",
            "Epoch 25/100\n",
            "4/4 [==============================] - 9s 3s/step - loss: 0.0814 - val_loss: 0.0809\n",
            "Epoch 26/100\n",
            "4/4 [==============================] - 10s 3s/step - loss: 0.0812 - val_loss: 0.0807\n",
            "Epoch 27/100\n",
            "4/4 [==============================] - 10s 3s/step - loss: 0.0810 - val_loss: 0.0806\n",
            "Epoch 28/100\n",
            "4/4 [==============================] - 13s 4s/step - loss: 0.0809 - val_loss: 0.0806\n",
            "Epoch 29/100\n",
            "4/4 [==============================] - 13s 4s/step - loss: 0.0807 - val_loss: 0.0804\n",
            "Epoch 30/100\n",
            "4/4 [==============================] - 13s 4s/step - loss: 0.0806 - val_loss: 0.0802\n",
            "Epoch 31/100\n",
            "4/4 [==============================] - 9s 3s/step - loss: 0.0805 - val_loss: 0.0802\n",
            "Epoch 32/100\n",
            "4/4 [==============================] - 14s 4s/step - loss: 0.0804 - val_loss: 0.0805\n",
            "Epoch 33/100\n",
            "4/4 [==============================] - 10s 3s/step - loss: 0.0805 - val_loss: 0.0804\n",
            "Epoch 34/100\n",
            "4/4 [==============================] - 10s 3s/step - loss: 0.0803 - val_loss: 0.0799\n",
            "Epoch 35/100\n",
            "4/4 [==============================] - 13s 4s/step - loss: 0.0800 - val_loss: 0.0796\n",
            "Epoch 36/100\n",
            "4/4 [==============================] - 13s 4s/step - loss: 0.0798 - val_loss: 0.0797\n",
            "Epoch 37/100\n",
            "4/4 [==============================] - 13s 4s/step - loss: 0.0797 - val_loss: 0.0794\n",
            "Epoch 38/100\n",
            "4/4 [==============================] - 9s 3s/step - loss: 0.0795 - val_loss: 0.0794\n",
            "Epoch 39/100\n",
            "4/4 [==============================] - 9s 3s/step - loss: 0.0798 - val_loss: 0.0794\n",
            "Epoch 40/100\n",
            "4/4 [==============================] - 10s 3s/step - loss: 0.0794 - val_loss: 0.0793\n",
            "Epoch 41/100\n",
            "4/4 [==============================] - 13s 4s/step - loss: 0.0793 - val_loss: 0.0793\n",
            "Epoch 42/100\n",
            "4/4 [==============================] - 13s 4s/step - loss: 0.0792 - val_loss: 0.0793\n",
            "Epoch 43/100\n",
            "4/4 [==============================] - 9s 3s/step - loss: 0.0800 - val_loss: 0.0788\n",
            "Epoch 44/100\n",
            "4/4 [==============================] - 10s 3s/step - loss: 0.0804 - val_loss: 0.0797\n",
            "Epoch 45/100\n",
            "4/4 [==============================] - 13s 4s/step - loss: 0.0795 - val_loss: 0.0790\n",
            "Epoch 46/100\n",
            "4/4 [==============================] - 10s 3s/step - loss: 0.0792 - val_loss: 0.0787\n",
            "Epoch 47/100\n",
            "4/4 [==============================] - 8s 3s/step - loss: 0.0793 - val_loss: 0.0786\n",
            "Epoch 48/100\n",
            "4/4 [==============================] - 10s 3s/step - loss: 0.0792 - val_loss: 0.0785\n",
            "Epoch 49/100\n",
            "4/4 [==============================] - 10s 3s/step - loss: 0.0793 - val_loss: 0.0785\n",
            "Epoch 50/100\n",
            "4/4 [==============================] - 8s 3s/step - loss: 0.0789 - val_loss: 0.0783\n",
            "Epoch 51/100\n",
            "4/4 [==============================] - 10s 3s/step - loss: 0.0788 - val_loss: 0.0783\n",
            "Epoch 52/100\n",
            "4/4 [==============================] - 10s 3s/step - loss: 0.0787 - val_loss: 0.0781\n",
            "Epoch 53/100\n",
            "4/4 [==============================] - 13s 4s/step - loss: 0.0785 - val_loss: 0.0781\n",
            "Epoch 54/100\n",
            "4/4 [==============================] - 13s 4s/step - loss: 0.0783 - val_loss: 0.0781\n",
            "Epoch 55/100\n",
            "4/4 [==============================] - 13s 4s/step - loss: 0.0781 - val_loss: 0.0779\n",
            "Epoch 56/100\n",
            "4/4 [==============================] - 12s 4s/step - loss: 0.0781 - val_loss: 0.0781\n",
            "Epoch 57/100\n",
            "4/4 [==============================] - 13s 4s/step - loss: 0.0780 - val_loss: 0.0782\n",
            "Epoch 58/100\n",
            "4/4 [==============================] - 13s 4s/step - loss: 0.0781 - val_loss: 0.0777\n",
            "Epoch 59/100\n",
            "4/4 [==============================] - 9s 3s/step - loss: 0.0777 - val_loss: 0.0776\n",
            "Epoch 60/100\n",
            "4/4 [==============================] - 10s 3s/step - loss: 0.0776 - val_loss: 0.0776\n",
            "Epoch 61/100\n",
            "4/4 [==============================] - 10s 3s/step - loss: 0.0776 - val_loss: 0.0775\n",
            "Epoch 62/100\n",
            "4/4 [==============================] - 13s 4s/step - loss: 0.0777 - val_loss: 0.0778\n",
            "Epoch 63/100\n",
            "4/4 [==============================] - 13s 4s/step - loss: 0.0775 - val_loss: 0.0776\n",
            "Epoch 64/100\n",
            "4/4 [==============================] - 13s 4s/step - loss: 0.0774 - val_loss: 0.0773\n",
            "Epoch 65/100\n",
            "4/4 [==============================] - 13s 4s/step - loss: 0.0773 - val_loss: 0.0776\n",
            "Epoch 66/100\n",
            "4/4 [==============================] - 13s 4s/step - loss: 0.0775 - val_loss: 0.0772\n",
            "Epoch 67/100\n",
            "4/4 [==============================] - 9s 3s/step - loss: 0.0772 - val_loss: 0.0774\n",
            "Epoch 68/100\n",
            "4/4 [==============================] - 10s 3s/step - loss: 0.0773 - val_loss: 0.0773\n",
            "Epoch 69/100\n",
            "4/4 [==============================] - 10s 3s/step - loss: 0.0771 - val_loss: 0.0769\n",
            "Epoch 70/100\n",
            "4/4 [==============================] - 13s 4s/step - loss: 0.0769 - val_loss: 0.0769\n",
            "Epoch 71/100\n",
            "4/4 [==============================] - 13s 4s/step - loss: 0.0770 - val_loss: 0.0778\n",
            "Epoch 72/100\n",
            "4/4 [==============================] - 9s 3s/step - loss: 0.0788 - val_loss: 0.0814\n",
            "Epoch 73/100\n",
            "4/4 [==============================] - 10s 3s/step - loss: 0.0790 - val_loss: 0.0790\n",
            "Epoch 74/100\n",
            "4/4 [==============================] - 10s 3s/step - loss: 0.0780 - val_loss: 0.0778\n",
            "Epoch 75/100\n",
            "4/4 [==============================] - 10s 3s/step - loss: 0.0774 - val_loss: 0.0770\n",
            "Epoch 76/100\n",
            "4/4 [==============================] - 9s 3s/step - loss: 0.0770 - val_loss: 0.0769\n",
            "Epoch 77/100\n",
            "4/4 [==============================] - 10s 3s/step - loss: 0.0768 - val_loss: 0.0770\n",
            "Epoch 78/100\n",
            "4/4 [==============================] - 10s 3s/step - loss: 0.0766 - val_loss: 0.0769\n",
            "Epoch 79/100\n",
            "4/4 [==============================] - 9s 3s/step - loss: 0.0766 - val_loss: 0.0764\n",
            "Epoch 80/100\n",
            "4/4 [==============================] - 10s 3s/step - loss: 0.0763 - val_loss: 0.0763\n",
            "Epoch 81/100\n",
            "4/4 [==============================] - 10s 3s/step - loss: 0.0763 - val_loss: 0.0762\n",
            "Epoch 82/100\n",
            "4/4 [==============================] - 8s 3s/step - loss: 0.0762 - val_loss: 0.0765\n",
            "Epoch 83/100\n",
            "4/4 [==============================] - 10s 3s/step - loss: 0.0765 - val_loss: 0.0764\n",
            "Epoch 84/100\n",
            "4/4 [==============================] - 13s 4s/step - loss: 0.0762 - val_loss: 0.0761\n",
            "Epoch 85/100\n",
            "4/4 [==============================] - 10s 3s/step - loss: 0.0760 - val_loss: 0.0762\n",
            "Epoch 86/100\n",
            "4/4 [==============================] - 9s 3s/step - loss: 0.0762 - val_loss: 0.0761\n",
            "Epoch 87/100\n",
            "4/4 [==============================] - 11s 3s/step - loss: 0.0759 - val_loss: 0.0759\n",
            "Epoch 88/100\n",
            "4/4 [==============================] - 13s 4s/step - loss: 0.0762 - val_loss: 0.0769\n",
            "Epoch 89/100\n",
            "4/4 [==============================] - 13s 4s/step - loss: 0.0764 - val_loss: 0.0759\n",
            "Epoch 90/100\n",
            "4/4 [==============================] - 9s 3s/step - loss: 0.0758 - val_loss: 0.0760\n",
            "Epoch 91/100\n",
            "4/4 [==============================] - 10s 3s/step - loss: 0.0760 - val_loss: 0.0762\n",
            "Epoch 92/100\n",
            "4/4 [==============================] - 10s 3s/step - loss: 0.0761 - val_loss: 0.0761\n",
            "Epoch 93/100\n",
            "4/4 [==============================] - 9s 3s/step - loss: 0.0758 - val_loss: 0.0757\n",
            "Epoch 94/100\n",
            "4/4 [==============================] - 9s 3s/step - loss: 0.0756 - val_loss: 0.0756\n",
            "Epoch 95/100\n",
            "4/4 [==============================] - 10s 3s/step - loss: 0.0755 - val_loss: 0.0756\n",
            "Epoch 96/100\n",
            "4/4 [==============================] - 13s 4s/step - loss: 0.0755 - val_loss: 0.0756\n",
            "Epoch 97/100\n",
            "4/4 [==============================] - 13s 4s/step - loss: 0.0763 - val_loss: 0.0814\n",
            "Epoch 98/100\n",
            "4/4 [==============================] - 13s 4s/step - loss: 0.0836 - val_loss: 0.0785\n",
            "Epoch 99/100\n",
            "4/4 [==============================] - 13s 4s/step - loss: 0.0795 - val_loss: 0.0778\n",
            "Epoch 100/100\n",
            "4/4 [==============================] - 13s 4s/step - loss: 0.0779 - val_loss: 0.0779\n"
          ]
        },
        {
          "output_type": "execute_result",
          "data": {
            "text/plain": [
              "<keras.src.callbacks.History at 0x7c1f780c9cf0>"
            ]
          },
          "metadata": {},
          "execution_count": 86
        }
      ],
      "source": [
        "# Обучение автоэнкодера\n",
        "autoencoder.fit(mnist_train[:1000], mnist_train[:1000],\n",
        "                epochs=100,\n",
        "                batch_size=256,\n",
        "                validation_data=(mnist_test, mnist_test))"
      ]
    },
    {
      "cell_type": "code",
      "execution_count": 87,
      "id": "983de4a03c293940",
      "metadata": {
        "ExecuteTime": {
          "end_time": "2024-06-14T16:31:02.914375Z",
          "start_time": "2024-06-14T16:30:56.317226Z"
        },
        "colab": {
          "base_uri": "https://localhost:8080/",
          "height": 353
        },
        "id": "983de4a03c293940",
        "outputId": "a5f996c5-5603-4e1d-b7de-27f26a1382a5"
      },
      "outputs": [
        {
          "output_type": "stream",
          "name": "stdout",
          "text": [
            "375/375 [==============================] - 9s 24ms/step\n"
          ]
        },
        {
          "output_type": "display_data",
          "data": {
            "text/plain": [
              "<Figure size 2000x400 with 20 Axes>"
            ],
            "image/png": "[encoded data removed]"
          },
          "metadata": {}
        }
      ],
      "source": [
        "import numpy as np\n",
        "import matplotlib.pyplot as plt\n",
        "\n",
        "# Предсказание на тестовом наборе данных\n",
        "decoded_imgs = autoencoder.predict(mnist_test)\n",
        "\n",
        "n = 10  # количество изображений для отображения\n",
        "plt.figure(figsize=(20, 4))\n",
        "\n",
        "for i in range(n):\n",
        "    # Отображение оригинальных изображений\n",
        "    ax = plt.subplot(2, n, i + 1)\n",
        "    plt.imshow(mnist_test[i].reshape(28, 28))\n",
        "    plt.gray()\n",
        "    ax.get_xaxis().set_visible(False)\n",
        "    ax.get_yaxis().set_visible(False)\n",
        "\n",
        "    # Отображение восстановленных изображений\n",
        "    ax = plt.subplot(2, n, i + 1 + n)\n",
        "    plt.imshow(decoded_imgs[i].reshape(28, 28))\n",
        "    plt.gray()\n",
        "    ax.get_xaxis().set_visible(False)"
      ]
    },
    {
      "cell_type": "code",
      "execution_count": 88,
      "id": "9f128955d7c65188",
      "metadata": {
        "ExecuteTime": {
          "end_time": "2024-06-14T17:01:16.206333Z",
          "start_time": "2024-06-14T17:00:41.119960Z"
        },
        "colab": {
          "base_uri": "https://localhost:8080/"
        },
        "id": "9f128955d7c65188",
        "outputId": "73bc6ec8-f4df-4a9c-ac7f-f033ae72ceb4"
      },
      "outputs": [
        {
          "output_type": "stream",
          "name": "stdout",
          "text": [
            "Epoch 1/50\n",
            "4/4 [==============================] - 3s 570ms/step - loss: 1.4487 - accuracy: 0.3900 - val_loss: 1.1662 - val_accuracy: 0.6486\n",
            "Epoch 2/50\n",
            "4/4 [==============================] - 2s 479ms/step - loss: 1.0621 - accuracy: 0.6530 - val_loss: 0.9411 - val_accuracy: 0.6660\n",
            "Epoch 3/50\n",
            "4/4 [==============================] - 2s 500ms/step - loss: 0.8644 - accuracy: 0.6860 - val_loss: 0.8062 - val_accuracy: 0.7368\n",
            "Epoch 4/50\n",
            "4/4 [==============================] - 2s 499ms/step - loss: 0.7518 - accuracy: 0.7710 - val_loss: 0.7295 - val_accuracy: 0.7540\n",
            "Epoch 5/50\n",
            "4/4 [==============================] - 2s 503ms/step - loss: 0.6758 - accuracy: 0.7950 - val_loss: 0.6780 - val_accuracy: 0.7574\n",
            "Epoch 6/50\n",
            "4/4 [==============================] - 3s 981ms/step - loss: 0.6194 - accuracy: 0.8080 - val_loss: 0.6390 - val_accuracy: 0.7706\n",
            "Epoch 7/50\n",
            "4/4 [==============================] - 2s 485ms/step - loss: 0.5791 - accuracy: 0.8120 - val_loss: 0.6028 - val_accuracy: 0.7872\n",
            "Epoch 8/50\n",
            "4/4 [==============================] - 2s 507ms/step - loss: 0.5431 - accuracy: 0.8210 - val_loss: 0.5777 - val_accuracy: 0.7856\n",
            "Epoch 9/50\n",
            "4/4 [==============================] - 2s 503ms/step - loss: 0.5123 - accuracy: 0.8290 - val_loss: 0.5495 - val_accuracy: 0.8028\n",
            "Epoch 10/50\n",
            "4/4 [==============================] - 2s 498ms/step - loss: 0.4892 - accuracy: 0.8410 - val_loss: 0.5324 - val_accuracy: 0.8044\n",
            "Epoch 11/50\n",
            "4/4 [==============================] - 2s 504ms/step - loss: 0.4624 - accuracy: 0.8450 - val_loss: 0.5124 - val_accuracy: 0.8176\n",
            "Epoch 12/50\n",
            "4/4 [==============================] - 2s 498ms/step - loss: 0.4411 - accuracy: 0.8580 - val_loss: 0.4989 - val_accuracy: 0.8152\n",
            "Epoch 13/50\n",
            "4/4 [==============================] - 3s 927ms/step - loss: 0.4234 - accuracy: 0.8600 - val_loss: 0.4826 - val_accuracy: 0.8234\n",
            "Epoch 14/50\n",
            "4/4 [==============================] - 2s 638ms/step - loss: 0.4057 - accuracy: 0.8690 - val_loss: 0.4720 - val_accuracy: 0.8304\n",
            "Epoch 15/50\n",
            "4/4 [==============================] - 2s 502ms/step - loss: 0.3918 - accuracy: 0.8730 - val_loss: 0.4629 - val_accuracy: 0.8300\n",
            "Epoch 16/50\n",
            "4/4 [==============================] - 2s 502ms/step - loss: 0.3785 - accuracy: 0.8790 - val_loss: 0.4513 - val_accuracy: 0.8366\n",
            "Epoch 17/50\n",
            "4/4 [==============================] - 2s 499ms/step - loss: 0.3688 - accuracy: 0.8790 - val_loss: 0.4446 - val_accuracy: 0.8382\n",
            "Epoch 18/50\n",
            "4/4 [==============================] - 2s 504ms/step - loss: 0.3646 - accuracy: 0.8750 - val_loss: 0.4361 - val_accuracy: 0.8410\n",
            "Epoch 19/50\n",
            "4/4 [==============================] - 2s 498ms/step - loss: 0.3555 - accuracy: 0.8770 - val_loss: 0.4294 - val_accuracy: 0.8430\n",
            "Epoch 20/50\n",
            "4/4 [==============================] - 2s 506ms/step - loss: 0.3446 - accuracy: 0.8850 - val_loss: 0.4270 - val_accuracy: 0.8414\n",
            "Epoch 21/50\n",
            "4/4 [==============================] - 3s 984ms/step - loss: 0.3335 - accuracy: 0.8890 - val_loss: 0.4206 - val_accuracy: 0.8458\n",
            "Epoch 22/50\n",
            "4/4 [==============================] - 2s 497ms/step - loss: 0.3239 - accuracy: 0.8980 - val_loss: 0.4207 - val_accuracy: 0.8448\n",
            "Epoch 23/50\n",
            "4/4 [==============================] - 1s 466ms/step - loss: 0.3191 - accuracy: 0.8920 - val_loss: 0.4103 - val_accuracy: 0.8486\n",
            "Epoch 24/50\n",
            "4/4 [==============================] - 2s 504ms/step - loss: 0.3113 - accuracy: 0.8920 - val_loss: 0.4133 - val_accuracy: 0.8454\n",
            "Epoch 25/50\n",
            "4/4 [==============================] - 1s 474ms/step - loss: 0.3020 - accuracy: 0.9020 - val_loss: 0.4025 - val_accuracy: 0.8540\n",
            "Epoch 26/50\n",
            "4/4 [==============================] - 2s 498ms/step - loss: 0.2964 - accuracy: 0.8960 - val_loss: 0.4027 - val_accuracy: 0.8490\n",
            "Epoch 27/50\n",
            "4/4 [==============================] - 2s 506ms/step - loss: 0.2905 - accuracy: 0.9030 - val_loss: 0.3989 - val_accuracy: 0.8510\n",
            "Epoch 28/50\n",
            "4/4 [==============================] - 3s 926ms/step - loss: 0.2861 - accuracy: 0.9040 - val_loss: 0.3945 - val_accuracy: 0.8538\n",
            "Epoch 29/50\n",
            "4/4 [==============================] - 2s 640ms/step - loss: 0.2805 - accuracy: 0.9070 - val_loss: 0.3934 - val_accuracy: 0.8530\n",
            "Epoch 30/50\n",
            "4/4 [==============================] - 2s 499ms/step - loss: 0.2740 - accuracy: 0.9090 - val_loss: 0.3904 - val_accuracy: 0.8548\n",
            "Epoch 31/50\n",
            "4/4 [==============================] - 2s 500ms/step - loss: 0.2697 - accuracy: 0.9110 - val_loss: 0.3904 - val_accuracy: 0.8542\n",
            "Epoch 32/50\n",
            "4/4 [==============================] - 1s 469ms/step - loss: 0.2663 - accuracy: 0.9120 - val_loss: 0.3840 - val_accuracy: 0.8600\n",
            "Epoch 33/50\n",
            "4/4 [==============================] - 2s 502ms/step - loss: 0.2613 - accuracy: 0.9110 - val_loss: 0.3865 - val_accuracy: 0.8572\n",
            "Epoch 34/50\n",
            "4/4 [==============================] - 2s 502ms/step - loss: 0.2578 - accuracy: 0.9140 - val_loss: 0.3819 - val_accuracy: 0.8608\n",
            "Epoch 35/50\n",
            "4/4 [==============================] - 2s 499ms/step - loss: 0.2532 - accuracy: 0.9200 - val_loss: 0.3805 - val_accuracy: 0.8630\n",
            "Epoch 36/50\n",
            "4/4 [==============================] - 3s 974ms/step - loss: 0.2476 - accuracy: 0.9200 - val_loss: 0.3817 - val_accuracy: 0.8586\n",
            "Epoch 37/50\n",
            "4/4 [==============================] - 2s 500ms/step - loss: 0.2438 - accuracy: 0.9230 - val_loss: 0.3794 - val_accuracy: 0.8604\n",
            "Epoch 38/50\n",
            "4/4 [==============================] - 2s 499ms/step - loss: 0.2442 - accuracy: 0.9230 - val_loss: 0.3811 - val_accuracy: 0.8590\n",
            "Epoch 39/50\n",
            "4/4 [==============================] - 2s 498ms/step - loss: 0.2392 - accuracy: 0.9200 - val_loss: 0.3781 - val_accuracy: 0.8632\n",
            "Epoch 40/50\n",
            "4/4 [==============================] - 2s 498ms/step - loss: 0.2344 - accuracy: 0.9270 - val_loss: 0.3783 - val_accuracy: 0.8614\n",
            "Epoch 41/50\n",
            "4/4 [==============================] - 1s 459ms/step - loss: 0.2322 - accuracy: 0.9240 - val_loss: 0.3734 - val_accuracy: 0.8668\n",
            "Epoch 42/50\n",
            "4/4 [==============================] - 2s 500ms/step - loss: 0.2268 - accuracy: 0.9270 - val_loss: 0.3773 - val_accuracy: 0.8610\n",
            "Epoch 43/50\n",
            "4/4 [==============================] - 2s 645ms/step - loss: 0.2245 - accuracy: 0.9290 - val_loss: 0.3728 - val_accuracy: 0.8674\n",
            "Epoch 44/50\n",
            "4/4 [==============================] - 3s 980ms/step - loss: 0.2198 - accuracy: 0.9300 - val_loss: 0.3726 - val_accuracy: 0.8684\n",
            "Epoch 45/50\n",
            "4/4 [==============================] - 2s 504ms/step - loss: 0.2170 - accuracy: 0.9340 - val_loss: 0.3702 - val_accuracy: 0.8690\n",
            "Epoch 46/50\n",
            "4/4 [==============================] - 1s 458ms/step - loss: 0.2138 - accuracy: 0.9310 - val_loss: 0.3752 - val_accuracy: 0.8632\n",
            "Epoch 47/50\n",
            "4/4 [==============================] - 2s 501ms/step - loss: 0.2110 - accuracy: 0.9350 - val_loss: 0.3725 - val_accuracy: 0.8668\n",
            "Epoch 48/50\n",
            "4/4 [==============================] - 2s 501ms/step - loss: 0.2074 - accuracy: 0.9350 - val_loss: 0.3698 - val_accuracy: 0.8708\n",
            "Epoch 49/50\n",
            "4/4 [==============================] - 2s 503ms/step - loss: 0.2057 - accuracy: 0.9370 - val_loss: 0.3695 - val_accuracy: 0.8702\n",
            "Epoch 50/50\n",
            "4/4 [==============================] - 2s 505ms/step - loss: 0.2025 - accuracy: 0.9380 - val_loss: 0.3718 - val_accuracy: 0.8684\n",
            "157/157 [==============================] - 2s 11ms/step\n"
          ]
        }
      ],
      "source": [
        "new_autoencoder = Model(input_img, decoded)\n",
        "for layer in new_autoencoder.layers:\n",
        "    layer.trainable = False\n",
        "\n",
        "flattened = Flatten()(encoded)\n",
        "x = Dense(128, activation='relu')(flattened)\n",
        "predictions = Dense(5, activation='softmax')(x)\n",
        "\n",
        "fashion_model = Model(input_img, predictions)\n",
        "fashion_model.compile(optimizer='adam', loss='sparse_categorical_crossentropy', metrics=['accuracy'])\n",
        "fashion_model.fit(fashion_train_X[:1000], filtered_train_labels[:1000],\n",
        "                  epochs=50,\n",
        "                  batch_size=256,\n",
        "                  validation_data=(fashion_test_X, filtered_test_labels))\n",
        "\n",
        "# Предсказание\n",
        "predictions = fashion_model.predict(fashion_test_X)"
      ]
    },
    {
      "cell_type": "code",
      "execution_count": 89,
      "id": "ba01b6f52d4b860c",
      "metadata": {
        "ExecuteTime": {
          "end_time": "2024-06-14T17:02:07.927513Z",
          "start_time": "2024-06-14T17:02:07.637765Z"
        },
        "colab": {
          "base_uri": "https://localhost:8080/",
          "height": 815
        },
        "id": "ba01b6f52d4b860c",
        "outputId": "33894f82-1851-49c5-81e8-9f83df47b338"
      },
      "outputs": [
        {
          "output_type": "display_data",
          "data": {
            "text/plain": [
              "<Figure size 1000x1000 with 2 Axes>"
            ],
            "image/png": "[encoded data removed]"
          },
          "metadata": {}
        }
      ],
      "source": [
        "import numpy as np\n",
        "from sklearn.metrics import confusion_matrix, ConfusionMatrixDisplay\n",
        "import matplotlib.pyplot as plt\n",
        "\n",
        "# Получаем предсказанные метки классов из вероятностных предсказаний\n",
        "predicted_labels = np.argmax(predictions, axis=-1)\n",
        "\n",
        "# Вычисляем confusion matrix\n",
        "cm = confusion_matrix(filtered_test_labels, predicted_labels)\n",
        "\n",
        "# Визуализируем confusion matrix\n",
        "fig, ax = plt.subplots(figsize=(10, 10))\n",
        "ConfusionMatrixDisplay(cm, display_labels=[0, 1, 2, 3, 4]).plot(ax=ax)\n",
        "plt.show()"
      ]
    },
    {
      "cell_type": "code",
      "execution_count": 90,
      "id": "25d22929f74ae927",
      "metadata": {
        "ExecuteTime": {
          "end_time": "2024-06-14T17:03:48.851937Z",
          "start_time": "2024-06-14T17:03:48.833852Z"
        },
        "colab": {
          "base_uri": "https://localhost:8080/"
        },
        "id": "25d22929f74ae927",
        "outputId": "e435e4f9-9501-43e1-d4d2-b08393a75d08"
      },
      "outputs": [
        {
          "output_type": "stream",
          "name": "stdout",
          "text": [
            "Precision: 0.87\n",
            "Recall: 0.87\n",
            "F1-score: 0.87\n"
          ]
        }
      ],
      "source": [
        "from sklearn.metrics import precision_recall_fscore_support\n",
        "\n",
        "precision, recall, f1, _ = precision_recall_fscore_support(filtered_test_labels, predicted_labels, average='macro')\n",
        "\n",
        "# Print the metrics\n",
        "print(f\"Precision: {precision:.2f}\")\n",
        "print(f\"Recall: {recall:.2f}\")\n",
        "print(f\"F1-score: {f1:.2f}\")"
      ]
    },
    {
      "cell_type": "code",
      "execution_count": 91,
      "id": "627f5cb729778f70",
      "metadata": {
        "ExecuteTime": {
          "end_time": "2024-06-14T17:06:00.676056Z",
          "start_time": "2024-06-14T17:06:00.657363Z"
        },
        "colab": {
          "base_uri": "https://localhost:8080/"
        },
        "id": "627f5cb729778f70",
        "outputId": "64389b99-ab08-459b-a16c-be8800090ace"
      },
      "outputs": [
        {
          "output_type": "stream",
          "name": "stdout",
          "text": [
            "              precision    recall  f1-score   support\n",
            "\n",
            "           0       0.95      0.88      0.91      1000\n",
            "           1       0.97      0.96      0.97      1000\n",
            "           2       0.80      0.80      0.80      1000\n",
            "           3       0.85      0.88      0.87      1000\n",
            "           4       0.79      0.83      0.81      1000\n",
            "\n",
            "    accuracy                           0.87      5000\n",
            "   macro avg       0.87      0.87      0.87      5000\n",
            "weighted avg       0.87      0.87      0.87      5000\n",
            "\n"
          ]
        }
      ],
      "source": [
        "# Получаем отчет о классификации\n",
        "report = classification_report(filtered_test_labels, predicted_labels)\n",
        "print(report)"
      ]
    },
    {
      "cell_type": "markdown",
      "id": "5caafd22e3f6cf",
      "metadata": {
        "id": "5caafd22e3f6cf"
      },
      "source": [
        "# Задание 3\n",
        "Попробовать сделать полносвязную сеть для классификации mnist цифры"
      ]
    },
    {
      "cell_type": "code",
      "source": [
        "# Загрузка и предобработка данных\n",
        "(mnist_train_X, mnist_train_y), (mnist_test_X, mnist_test_y) = tf.keras.datasets.mnist.load_data()\n",
        "\n",
        "# Нормализация данных\n",
        "mnist_train = mnist_train_X.astype('float32') / 255.\n",
        "mnist_test = mnist_test_X.astype('float32') / 255.\n",
        "\n",
        "mnist_train = mnist_train.reshape(-1, 28, 28, 1)\n",
        "mnist_test = mnist_test.reshape(-1, 28, 28, 1)\n",
        "\n",
        "# Архитектура автоэнкодера\n",
        "input_img = Input(shape=(28, 28, 1))\n",
        "x = Flatten()(input_img)\n",
        "x = Dense(512, activation='relu')(x)\n",
        "x = Dense(256, activation='relu')(x)\n",
        "encoded = Dense(128, activation='relu')(x)\n",
        "\n",
        "x = Dense(256, activation='relu')(encoded)\n",
        "x = Dense(512, activation='relu')(x)\n",
        "x = Dense(28*28, activation='sigmoid')(x)\n",
        "decoded = Reshape((28, 28, 1))(x)\n",
        "\n",
        "autoencoder = Model(input_img, decoded)\n",
        "\n",
        "optimizer = Adam(learning_rate=0.001)\n",
        "# Обучение автоэнкодера на MNIST\n",
        "autoencoder.compile(optimizer=optimizer, loss='mse', metrics=['accuracy'])\n",
        "autoencoder.fit(mnist_train, mnist_train,\n",
        "                epochs=50,\n",
        "                batch_size=512,\n",
        "                validation_data=(mnist_test, mnist_test))"
      ],
      "metadata": {
        "colab": {
          "base_uri": "https://localhost:8080/"
        },
        "id": "XCZnwHdR-r8U",
        "outputId": "752dc0bd-163d-4b00-b490-1e264b8d6a64"
      },
      "id": "XCZnwHdR-r8U",
      "execution_count": 136,
      "outputs": [
        {
          "output_type": "stream",
          "name": "stdout",
          "text": [
            "Epoch 1/50\n",
            "118/118 [==============================] - 21s 139ms/step - loss: 0.0657 - accuracy: 0.7873 - val_loss: 0.0373 - val_accuracy: 0.8056\n",
            "Epoch 2/50\n",
            "118/118 [==============================] - 8s 71ms/step - loss: 0.0297 - accuracy: 0.8091 - val_loss: 0.0230 - val_accuracy: 0.8102\n",
            "Epoch 3/50\n",
            "118/118 [==============================] - 11s 91ms/step - loss: 0.0209 - accuracy: 0.8124 - val_loss: 0.0184 - val_accuracy: 0.8121\n",
            "Epoch 4/50\n",
            "118/118 [==============================] - 12s 97ms/step - loss: 0.0178 - accuracy: 0.8133 - val_loss: 0.0163 - val_accuracy: 0.8129\n",
            "Epoch 5/50\n",
            "118/118 [==============================] - 10s 84ms/step - loss: 0.0158 - accuracy: 0.8139 - val_loss: 0.0147 - val_accuracy: 0.8132\n",
            "Epoch 6/50\n",
            "118/118 [==============================] - 12s 104ms/step - loss: 0.0141 - accuracy: 0.8141 - val_loss: 0.0130 - val_accuracy: 0.8133\n",
            "Epoch 7/50\n",
            "118/118 [==============================] - 9s 76ms/step - loss: 0.0131 - accuracy: 0.8144 - val_loss: 0.0124 - val_accuracy: 0.8135\n",
            "Epoch 8/50\n",
            "118/118 [==============================] - 10s 86ms/step - loss: 0.0121 - accuracy: 0.8145 - val_loss: 0.0115 - val_accuracy: 0.8137\n",
            "Epoch 9/50\n",
            "118/118 [==============================] - 10s 83ms/step - loss: 0.0113 - accuracy: 0.8146 - val_loss: 0.0110 - val_accuracy: 0.8136\n",
            "Epoch 10/50\n",
            "118/118 [==============================] - 9s 72ms/step - loss: 0.0109 - accuracy: 0.8147 - val_loss: 0.0105 - val_accuracy: 0.8138\n",
            "Epoch 11/50\n",
            "118/118 [==============================] - 11s 94ms/step - loss: 0.0104 - accuracy: 0.8147 - val_loss: 0.0101 - val_accuracy: 0.8138\n",
            "Epoch 12/50\n",
            "118/118 [==============================] - 10s 83ms/step - loss: 0.0100 - accuracy: 0.8148 - val_loss: 0.0097 - val_accuracy: 0.8138\n",
            "Epoch 13/50\n",
            "118/118 [==============================] - 8s 72ms/step - loss: 0.0097 - accuracy: 0.8148 - val_loss: 0.0093 - val_accuracy: 0.8139\n",
            "Epoch 14/50\n",
            "118/118 [==============================] - 10s 85ms/step - loss: 0.0093 - accuracy: 0.8149 - val_loss: 0.0090 - val_accuracy: 0.8140\n",
            "Epoch 15/50\n",
            "118/118 [==============================] - 11s 91ms/step - loss: 0.0091 - accuracy: 0.8149 - val_loss: 0.0092 - val_accuracy: 0.8139\n",
            "Epoch 16/50\n",
            "118/118 [==============================] - 8s 71ms/step - loss: 0.0089 - accuracy: 0.8149 - val_loss: 0.0087 - val_accuracy: 0.8139\n",
            "Epoch 17/50\n",
            "118/118 [==============================] - 18s 151ms/step - loss: 0.0086 - accuracy: 0.8150 - val_loss: 0.0084 - val_accuracy: 0.8140\n",
            "Epoch 18/50\n",
            "118/118 [==============================] - 9s 79ms/step - loss: 0.0084 - accuracy: 0.8150 - val_loss: 0.0081 - val_accuracy: 0.8140\n",
            "Epoch 19/50\n",
            "118/118 [==============================] - 10s 84ms/step - loss: 0.0082 - accuracy: 0.8150 - val_loss: 0.0080 - val_accuracy: 0.8141\n",
            "Epoch 20/50\n",
            "118/118 [==============================] - 10s 88ms/step - loss: 0.0081 - accuracy: 0.8150 - val_loss: 0.0078 - val_accuracy: 0.8141\n",
            "Epoch 21/50\n",
            "118/118 [==============================] - 8s 72ms/step - loss: 0.0080 - accuracy: 0.8150 - val_loss: 0.0078 - val_accuracy: 0.8141\n",
            "Epoch 22/50\n",
            "118/118 [==============================] - 10s 87ms/step - loss: 0.0078 - accuracy: 0.8151 - val_loss: 0.0076 - val_accuracy: 0.8141\n",
            "Epoch 23/50\n",
            "118/118 [==============================] - 10s 85ms/step - loss: 0.0077 - accuracy: 0.8151 - val_loss: 0.0075 - val_accuracy: 0.8141\n",
            "Epoch 24/50\n",
            "118/118 [==============================] - 8s 72ms/step - loss: 0.0076 - accuracy: 0.8151 - val_loss: 0.0074 - val_accuracy: 0.8141\n",
            "Epoch 25/50\n",
            "118/118 [==============================] - 10s 85ms/step - loss: 0.0075 - accuracy: 0.8151 - val_loss: 0.0075 - val_accuracy: 0.8141\n",
            "Epoch 26/50\n",
            "118/118 [==============================] - 10s 85ms/step - loss: 0.0074 - accuracy: 0.8151 - val_loss: 0.0074 - val_accuracy: 0.8141\n",
            "Epoch 27/50\n",
            "118/118 [==============================] - 8s 71ms/step - loss: 0.0073 - accuracy: 0.8151 - val_loss: 0.0072 - val_accuracy: 0.8141\n",
            "Epoch 28/50\n",
            "118/118 [==============================] - 11s 94ms/step - loss: 0.0072 - accuracy: 0.8151 - val_loss: 0.0071 - val_accuracy: 0.8141\n",
            "Epoch 29/50\n",
            "118/118 [==============================] - 10s 83ms/step - loss: 0.0071 - accuracy: 0.8151 - val_loss: 0.0071 - val_accuracy: 0.8141\n",
            "Epoch 30/50\n",
            "118/118 [==============================] - 8s 71ms/step - loss: 0.0070 - accuracy: 0.8151 - val_loss: 0.0069 - val_accuracy: 0.8141\n",
            "Epoch 31/50\n",
            "118/118 [==============================] - 10s 84ms/step - loss: 0.0069 - accuracy: 0.8151 - val_loss: 0.0066 - val_accuracy: 0.8141\n",
            "Epoch 32/50\n",
            "118/118 [==============================] - 10s 86ms/step - loss: 0.0067 - accuracy: 0.8151 - val_loss: 0.0066 - val_accuracy: 0.8142\n",
            "Epoch 33/50\n",
            "118/118 [==============================] - 8s 71ms/step - loss: 0.0066 - accuracy: 0.8151 - val_loss: 0.0068 - val_accuracy: 0.8142\n",
            "Epoch 34/50\n",
            "118/118 [==============================] - 10s 85ms/step - loss: 0.0066 - accuracy: 0.8152 - val_loss: 0.0065 - val_accuracy: 0.8142\n",
            "Epoch 35/50\n",
            "118/118 [==============================] - 10s 83ms/step - loss: 0.0065 - accuracy: 0.8152 - val_loss: 0.0064 - val_accuracy: 0.8142\n",
            "Epoch 36/50\n",
            "118/118 [==============================] - 8s 72ms/step - loss: 0.0064 - accuracy: 0.8152 - val_loss: 0.0064 - val_accuracy: 0.8142\n",
            "Epoch 37/50\n",
            "118/118 [==============================] - 10s 84ms/step - loss: 0.0064 - accuracy: 0.8152 - val_loss: 0.0064 - val_accuracy: 0.8142\n",
            "Epoch 38/50\n",
            "118/118 [==============================] - 10s 85ms/step - loss: 0.0064 - accuracy: 0.8152 - val_loss: 0.0065 - val_accuracy: 0.8142\n",
            "Epoch 39/50\n",
            "118/118 [==============================] - 11s 91ms/step - loss: 0.0064 - accuracy: 0.8152 - val_loss: 0.0063 - val_accuracy: 0.8142\n",
            "Epoch 40/50\n",
            "118/118 [==============================] - 9s 79ms/step - loss: 0.0063 - accuracy: 0.8152 - val_loss: 0.0063 - val_accuracy: 0.8142\n",
            "Epoch 41/50\n",
            "118/118 [==============================] - 10s 84ms/step - loss: 0.0063 - accuracy: 0.8152 - val_loss: 0.0063 - val_accuracy: 0.8142\n",
            "Epoch 42/50\n",
            "118/118 [==============================] - 9s 81ms/step - loss: 0.0062 - accuracy: 0.8152 - val_loss: 0.0061 - val_accuracy: 0.8142\n",
            "Epoch 43/50\n",
            "118/118 [==============================] - 9s 72ms/step - loss: 0.0060 - accuracy: 0.8152 - val_loss: 0.0059 - val_accuracy: 0.8142\n",
            "Epoch 44/50\n",
            "118/118 [==============================] - 15s 125ms/step - loss: 0.0059 - accuracy: 0.8152 - val_loss: 0.0058 - val_accuracy: 0.8142\n",
            "Epoch 45/50\n",
            "118/118 [==============================] - 11s 96ms/step - loss: 0.0058 - accuracy: 0.8152 - val_loss: 0.0058 - val_accuracy: 0.8142\n",
            "Epoch 46/50\n",
            "118/118 [==============================] - 10s 89ms/step - loss: 0.0058 - accuracy: 0.8152 - val_loss: 0.0057 - val_accuracy: 0.8142\n",
            "Epoch 47/50\n",
            "118/118 [==============================] - 8s 71ms/step - loss: 0.0057 - accuracy: 0.8152 - val_loss: 0.0058 - val_accuracy: 0.8142\n",
            "Epoch 48/50\n",
            "118/118 [==============================] - 10s 84ms/step - loss: 0.0056 - accuracy: 0.8152 - val_loss: 0.0055 - val_accuracy: 0.8142\n",
            "Epoch 49/50\n",
            "118/118 [==============================] - 10s 84ms/step - loss: 0.0055 - accuracy: 0.8152 - val_loss: 0.0054 - val_accuracy: 0.8142\n",
            "Epoch 50/50\n",
            "118/118 [==============================] - 8s 72ms/step - loss: 0.0055 - accuracy: 0.8152 - val_loss: 0.0055 - val_accuracy: 0.8142\n"
          ]
        },
        {
          "output_type": "execute_result",
          "data": {
            "text/plain": [
              "<keras.src.callbacks.History at 0x7c1f7abd6fb0>"
            ]
          },
          "metadata": {},
          "execution_count": 136
        }
      ]
    },
    {
      "cell_type": "code",
      "execution_count": 137,
      "id": "be949ce8",
      "metadata": {
        "id": "be949ce8",
        "outputId": "c04f9fc7-11df-4ff7-b318-234a42bcde79",
        "colab": {
          "base_uri": "https://localhost:8080/",
          "height": 353
        }
      },
      "outputs": [
        {
          "output_type": "stream",
          "name": "stdout",
          "text": [
            "313/313 [==============================] - 2s 5ms/step\n"
          ]
        },
        {
          "output_type": "display_data",
          "data": {
            "text/plain": [
              "<Figure size 2000x400 with 20 Axes>"
            ],
            "image/png": "[encoded data removed]"
          },
          "metadata": {}
        }
      ],
      "source": [
        "# Предсказание на тестовом наборе данных\n",
        "decoded_imgs = autoencoder.predict(mnist_test)\n",
        "\n",
        "n = 10  # количество изображений для отображения\n",
        "plt.figure(figsize=(20, 4))\n",
        "\n",
        "for i in range(n):\n",
        "    # Отображение оригинальных изображений\n",
        "    ax = plt.subplot(2, n, i + 1)\n",
        "    plt.imshow(mnist_test[i].reshape(28, 28))\n",
        "    plt.gray()\n",
        "    ax.get_xaxis().set_visible(False)\n",
        "    ax.get_yaxis().set_visible(False)\n",
        "\n",
        "    # Отображение восстановленных изображений\n",
        "    ax = plt.subplot(2, n, i + 1 + n)\n",
        "    plt.imshow(decoded_imgs[i].reshape(28, 28))\n",
        "    plt.gray()\n",
        "    ax.get_xaxis().set_visible(False)"
      ]
    },
    {
      "cell_type": "code",
      "source": [
        "new_autoencoder = Model(input_img, decoded)\n",
        "for layer in new_autoencoder.layers:\n",
        "    layer.trainable = False\n",
        "\n",
        "flattened = Flatten()(encoded)\n",
        "x = Dense(128, activation='relu')(flattened)\n",
        "predictions = Dense(10, activation='softmax')(x)\n",
        "\n",
        "model = Model(input_img, predictions)\n",
        "model.compile(optimizer='adam', loss='sparse_categorical_crossentropy', metrics=['accuracy'])\n",
        "model.fit(mnist_train, mnist_train_y,\n",
        "          epochs=30,\n",
        "          batch_size=256,\n",
        "          validation_data=(mnist_test, mnist_test_y))\n",
        "\n",
        "# Предсказание\n",
        "predictions = model.predict(mnist_test)"
      ],
      "metadata": {
        "colab": {
          "base_uri": "https://localhost:8080/"
        },
        "id": "3w69S3ddCuxO",
        "outputId": "6c3bb3c3-ba70-449a-966d-b786b82992f4"
      },
      "id": "3w69S3ddCuxO",
      "execution_count": 145,
      "outputs": [
        {
          "output_type": "stream",
          "name": "stdout",
          "text": [
            "Epoch 1/30\n",
            "235/235 [==============================] - 5s 16ms/step - loss: 1.1379 - accuracy: 0.6736 - val_loss: 0.4550 - val_accuracy: 0.8646\n",
            "Epoch 2/30\n",
            "235/235 [==============================] - 3s 12ms/step - loss: 0.4000 - accuracy: 0.8808 - val_loss: 0.3419 - val_accuracy: 0.8967\n",
            "Epoch 3/30\n",
            "235/235 [==============================] - 2s 11ms/step - loss: 0.3338 - accuracy: 0.9013 - val_loss: 0.2950 - val_accuracy: 0.9145\n",
            "Epoch 4/30\n",
            "235/235 [==============================] - 3s 12ms/step - loss: 0.2983 - accuracy: 0.9118 - val_loss: 0.2698 - val_accuracy: 0.9223\n",
            "Epoch 5/30\n",
            "235/235 [==============================] - 4s 16ms/step - loss: 0.2722 - accuracy: 0.9201 - val_loss: 0.2539 - val_accuracy: 0.9253\n",
            "Epoch 6/30\n",
            "235/235 [==============================] - 3s 11ms/step - loss: 0.2485 - accuracy: 0.9275 - val_loss: 0.2304 - val_accuracy: 0.9329\n",
            "Epoch 7/30\n",
            "235/235 [==============================] - 2s 11ms/step - loss: 0.2312 - accuracy: 0.9311 - val_loss: 0.2106 - val_accuracy: 0.9366\n",
            "Epoch 8/30\n",
            "235/235 [==============================] - 4s 17ms/step - loss: 0.2132 - accuracy: 0.9368 - val_loss: 0.1967 - val_accuracy: 0.9415\n",
            "Epoch 9/30\n",
            "235/235 [==============================] - 6s 26ms/step - loss: 0.1949 - accuracy: 0.9428 - val_loss: 0.1831 - val_accuracy: 0.9482\n",
            "Epoch 10/30\n",
            "235/235 [==============================] - 3s 12ms/step - loss: 0.1822 - accuracy: 0.9464 - val_loss: 0.1767 - val_accuracy: 0.9482\n",
            "Epoch 11/30\n",
            "235/235 [==============================] - 4s 15ms/step - loss: 0.1708 - accuracy: 0.9493 - val_loss: 0.1699 - val_accuracy: 0.9499\n",
            "Epoch 12/30\n",
            "235/235 [==============================] - 4s 17ms/step - loss: 0.1597 - accuracy: 0.9534 - val_loss: 0.1593 - val_accuracy: 0.9544\n",
            "Epoch 13/30\n",
            "235/235 [==============================] - 4s 17ms/step - loss: 0.1509 - accuracy: 0.9551 - val_loss: 0.1473 - val_accuracy: 0.9547\n",
            "Epoch 14/30\n",
            "235/235 [==============================] - 2s 11ms/step - loss: 0.1436 - accuracy: 0.9579 - val_loss: 0.1459 - val_accuracy: 0.9575\n",
            "Epoch 15/30\n",
            "235/235 [==============================] - 3s 13ms/step - loss: 0.1361 - accuracy: 0.9601 - val_loss: 0.1352 - val_accuracy: 0.9610\n",
            "Epoch 16/30\n",
            "235/235 [==============================] - 3s 14ms/step - loss: 0.1295 - accuracy: 0.9613 - val_loss: 0.1374 - val_accuracy: 0.9586\n",
            "Epoch 17/30\n",
            "235/235 [==============================] - 7s 28ms/step - loss: 0.1243 - accuracy: 0.9625 - val_loss: 0.1361 - val_accuracy: 0.9606\n",
            "Epoch 18/30\n",
            "235/235 [==============================] - 5s 19ms/step - loss: 0.1178 - accuracy: 0.9651 - val_loss: 0.1210 - val_accuracy: 0.9643\n",
            "Epoch 19/30\n",
            "235/235 [==============================] - 3s 14ms/step - loss: 0.1131 - accuracy: 0.9658 - val_loss: 0.1372 - val_accuracy: 0.9584\n",
            "Epoch 20/30\n",
            "235/235 [==============================] - 3s 14ms/step - loss: 0.1095 - accuracy: 0.9671 - val_loss: 0.1170 - val_accuracy: 0.9652\n",
            "Epoch 21/30\n",
            "235/235 [==============================] - 4s 16ms/step - loss: 0.1055 - accuracy: 0.9685 - val_loss: 0.1142 - val_accuracy: 0.9659\n",
            "Epoch 22/30\n",
            "235/235 [==============================] - 2s 11ms/step - loss: 0.0999 - accuracy: 0.9701 - val_loss: 0.1170 - val_accuracy: 0.9650\n",
            "Epoch 23/30\n",
            "235/235 [==============================] - 2s 10ms/step - loss: 0.0968 - accuracy: 0.9711 - val_loss: 0.1081 - val_accuracy: 0.9676\n",
            "Epoch 24/30\n",
            "235/235 [==============================] - 2s 11ms/step - loss: 0.0941 - accuracy: 0.9712 - val_loss: 0.1045 - val_accuracy: 0.9685\n",
            "Epoch 25/30\n",
            "235/235 [==============================] - 4s 15ms/step - loss: 0.0904 - accuracy: 0.9729 - val_loss: 0.1068 - val_accuracy: 0.9686\n",
            "Epoch 26/30\n",
            "235/235 [==============================] - 3s 12ms/step - loss: 0.0874 - accuracy: 0.9735 - val_loss: 0.1067 - val_accuracy: 0.9656\n",
            "Epoch 27/30\n",
            "235/235 [==============================] - 3s 11ms/step - loss: 0.0846 - accuracy: 0.9745 - val_loss: 0.1051 - val_accuracy: 0.9696\n",
            "Epoch 28/30\n",
            "235/235 [==============================] - 2s 11ms/step - loss: 0.0809 - accuracy: 0.9754 - val_loss: 0.1016 - val_accuracy: 0.9679\n",
            "Epoch 29/30\n",
            "235/235 [==============================] - 2s 11ms/step - loss: 0.0805 - accuracy: 0.9757 - val_loss: 0.0993 - val_accuracy: 0.9690\n",
            "Epoch 30/30\n",
            "235/235 [==============================] - 4s 16ms/step - loss: 0.0766 - accuracy: 0.9765 - val_loss: 0.1086 - val_accuracy: 0.9670\n",
            "313/313 [==============================] - 1s 3ms/step\n"
          ]
        }
      ]
    },
    {
      "cell_type": "code",
      "source": [
        "# Получаем предсказанные метки классов из вероятностных предсказаний\n",
        "predicted_labels = np.argmax(predictions, axis=-1)\n",
        "\n",
        "# Вычисляем confusion matrix\n",
        "cm = confusion_matrix(mnist_test_y, predicted_labels)\n",
        "\n",
        "# Визуализируем confusion matrix\n",
        "fig, ax = plt.subplots(figsize=(10, 10))\n",
        "ConfusionMatrixDisplay(cm, display_labels=[0, 1, 2, 3, 4, 5, 6, 7, 8, 9]).plot(ax=ax)\n",
        "plt.show()"
      ],
      "metadata": {
        "colab": {
          "base_uri": "https://localhost:8080/",
          "height": 815
        },
        "id": "oRD9wWZ-CwcR",
        "outputId": "7149a56a-a95a-4823-ed28-3270dd1ed1f6"
      },
      "id": "oRD9wWZ-CwcR",
      "execution_count": 146,
      "outputs": [
        {
          "output_type": "display_data",
          "data": {
            "text/plain": [
              "<Figure size 1000x1000 with 2 Axes>"
            ],
            "image/png": "[encoded data removed]"
          },
          "metadata": {}
        }
      ]
    },
    {
      "cell_type": "code",
      "source": [
        "# Получаем отчет о классификации\n",
        "report = classification_report(mnist_test_y, predicted_labels)\n",
        "print(report)"
      ],
      "metadata": {
        "colab": {
          "base_uri": "https://localhost:8080/"
        },
        "id": "NeicFLqOCx1I",
        "outputId": "6df6ffbe-37f8-479c-c49f-b08cc5358829"
      },
      "id": "NeicFLqOCx1I",
      "execution_count": 147,
      "outputs": [
        {
          "output_type": "stream",
          "name": "stdout",
          "text": [
            "              precision    recall  f1-score   support\n",
            "\n",
            "           0       0.98      0.98      0.98       980\n",
            "           1       0.97      0.99      0.98      1135\n",
            "           2       0.97      0.95      0.96      1032\n",
            "           3       0.94      0.97      0.96      1010\n",
            "           4       0.98      0.96      0.97       982\n",
            "           5       0.95      0.98      0.97       892\n",
            "           6       0.99      0.96      0.97       958\n",
            "           7       0.98      0.95      0.96      1028\n",
            "           8       0.94      0.98      0.96       974\n",
            "           9       0.96      0.95      0.96      1009\n",
            "\n",
            "    accuracy                           0.97     10000\n",
            "   macro avg       0.97      0.97      0.97     10000\n",
            "weighted avg       0.97      0.97      0.97     10000\n",
            "\n"
          ]
        }
      ]
    }
  ],
  "metadata": {
    "kernelspec": {
      "display_name": "Python 3",
      "language": "python",
      "name": "python3"
    },
    "language_info": {
      "codemirror_mode": {
        "name": "ipython",
        "version": 3
      },
      "file_extension": ".py",
      "mimetype": "text/x-python",
      "name": "python",
      "nbconvert_exporter": "python",
      "pygments_lexer": "ipython3",
      "version": "3.10.6"
    },
    "colab": {
      "provenance": []
    }
  },
  "nbformat": 4,
  "nbformat_minor": 5
}