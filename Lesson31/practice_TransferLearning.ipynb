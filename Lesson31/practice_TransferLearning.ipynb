{
  "cells": [
    {
      "cell_type": "code",
      "source": [
        "!pip install deeplake"
      ],
      "metadata": {
        "collapsed": true,
        "id": "ww_OWgcDXQKr"
      },
      "id": "ww_OWgcDXQKr",
      "execution_count": null,
      "outputs": []
    },
    {
      "cell_type": "code",
      "execution_count": 2,
      "id": "initial_id",
      "metadata": {
        "ExecuteTime": {
          "end_time": "2024-06-14T16:11:22.190309Z",
          "start_time": "2024-06-14T16:11:09.255374Z"
        },
        "collapsed": true,
        "id": "initial_id"
      },
      "outputs": [],
      "source": [
        "import tensorflow as tf\n",
        "from tensorflow.keras.layers import Input, Dense, Flatten, Reshape, Dropout\n",
        "from tensorflow.keras.models import Model\n",
        "import deeplake\n",
        "import numpy as np\n",
        "from sklearn.model_selection import train_test_split\n",
        "from tensorflow.keras.optimizers import Adam"
      ]
    },
    {
      "cell_type": "code",
      "execution_count": 20,
      "id": "6281ef0b882fc7",
      "metadata": {
        "ExecuteTime": {
          "end_time": "2024-06-14T16:34:03.714679Z",
          "start_time": "2024-06-14T16:33:57.963170Z"
        },
        "colab": {
          "base_uri": "https://localhost:8080/"
        },
        "id": "6281ef0b882fc7",
        "outputId": "2a9b8c74-2f6d-46e8-b956-393a20183467"
      },
      "outputs": [
        {
          "output_type": "stream",
          "name": "stderr",
          "text": [
            "\r\r\r\r/"
          ]
        },
        {
          "output_type": "stream",
          "name": "stdout",
          "text": [
            "Opening dataset in read-only mode as you don't have write permissions.\n"
          ]
        },
        {
          "output_type": "stream",
          "name": "stderr",
          "text": [
            "\\"
          ]
        },
        {
          "output_type": "stream",
          "name": "stdout",
          "text": [
            "This dataset can be visualized in Jupyter Notebook by ds.visualize() or at https://app.activeloop.ai/activeloop/mnist-train\n",
            "\n"
          ]
        },
        {
          "output_type": "stream",
          "name": "stderr",
          "text": [
            "/"
          ]
        },
        {
          "output_type": "stream",
          "name": "stdout",
          "text": [
            "hub://activeloop/mnist-train loaded successfully.\n",
            "\n"
          ]
        },
        {
          "output_type": "stream",
          "name": "stderr",
          "text": []
        }
      ],
      "source": [
        "ds = deeplake.load(\"hub://activeloop/mnist-train\")"
      ]
    },
    {
      "cell_type": "code",
      "execution_count": 21,
      "id": "c0df6bf9a1c9fa0f",
      "metadata": {
        "ExecuteTime": {
          "end_time": "2024-06-14T16:13:21.918782Z",
          "start_time": "2024-06-14T16:13:20.125201Z"
        },
        "id": "c0df6bf9a1c9fa0f"
      },
      "outputs": [],
      "source": [
        "labels = np.array(ds['labels'])\n",
        "images = np.array(ds['images'])"
      ]
    },
    {
      "cell_type": "code",
      "execution_count": 22,
      "id": "7691f584e8731074",
      "metadata": {
        "ExecuteTime": {
          "end_time": "2024-06-14T16:19:47.638938Z",
          "start_time": "2024-06-14T16:19:47.574965Z"
        },
        "id": "7691f584e8731074"
      },
      "outputs": [],
      "source": [
        "# Разбиение данных на тренировочный и тестовый наборы\n",
        "mnist_train_X, mnist_test_X, mnist_train_y, mnist_test_y = train_test_split(images, labels, test_size=0.2, random_state=42)"
      ]
    },
    {
      "cell_type": "code",
      "execution_count": 23,
      "id": "492eee1d94d7fb7e",
      "metadata": {
        "ExecuteTime": {
          "end_time": "2024-06-14T16:21:05.481583Z",
          "start_time": "2024-06-14T16:21:05.241843Z"
        },
        "id": "492eee1d94d7fb7e"
      },
      "outputs": [],
      "source": [
        "mnist_train_X = mnist_train_X / 255\n",
        "mnist_test_X = mnist_test_X / 255"
      ]
    },
    {
      "cell_type": "code",
      "execution_count": 24,
      "id": "391f130fb0a8b4a6",
      "metadata": {
        "ExecuteTime": {
          "end_time": "2024-06-14T16:56:15.069394Z",
          "start_time": "2024-06-14T16:56:14.747491Z"
        },
        "id": "391f130fb0a8b4a6",
        "collapsed": true
      },
      "outputs": [],
      "source": [
        "fashion_mnist = tf.keras.datasets.fashion_mnist\n",
        "(train_images, train_labels), (test_images, test_labels) = fashion_mnist.load_data()\n",
        "\n",
        "filtered_train_images = train_images[train_labels < 5]\n",
        "filtered_test_images = test_images[test_labels < 5]\n",
        "filtered_train_labels = train_labels[train_labels < 5]\n",
        "filtered_test_labels = test_labels[test_labels < 5]"
      ]
    },
    {
      "cell_type": "code",
      "execution_count": 25,
      "id": "94192557b7dd4c0c",
      "metadata": {
        "ExecuteTime": {
          "end_time": "2024-06-14T16:57:19.432126Z",
          "start_time": "2024-06-14T16:57:19.264599Z"
        },
        "id": "94192557b7dd4c0c"
      },
      "outputs": [],
      "source": [
        "fashion_train_X = filtered_train_images / 255\n",
        "fashion_test_X = filtered_test_images / 255"
      ]
    },
    {
      "cell_type": "code",
      "execution_count": 9,
      "id": "a2cf59906dd224f2",
      "metadata": {
        "ExecuteTime": {
          "end_time": "2024-06-14T16:22:22.812619Z",
          "start_time": "2024-06-14T16:22:22.808097Z"
        },
        "id": "a2cf59906dd224f2"
      },
      "outputs": [],
      "source": [
        "import tensorflow as tf\n",
        "from tensorflow.keras.layers import Input, Conv2D, MaxPooling2D, UpSampling2D\n",
        "from tensorflow.keras.models import Model"
      ]
    },
    {
      "cell_type": "markdown",
      "id": "129fdcf2a73add12",
      "metadata": {
        "id": "129fdcf2a73add12"
      },
      "source": [
        "# Задание 1\n",
        "Обучиться на mnist цифрах и перенести модель, дообучить на mnist одежда (5 классов)"
      ]
    },
    {
      "cell_type": "code",
      "execution_count": 30,
      "id": "1dee547aea15b9bc",
      "metadata": {
        "ExecuteTime": {
          "end_time": "2024-06-14T17:37:02.304343Z",
          "start_time": "2024-06-14T17:37:02.140113Z"
        },
        "id": "1dee547aea15b9bc"
      },
      "outputs": [],
      "source": [
        "# Архитектура сверточного автоэнкодера\n",
        "input_img = Input(shape=(28, 28, 1))  # MNIST - черно-белые изображения\n",
        "\n",
        "# Энкодер\n",
        "x = Conv2D(32, (3, 3), activation='relu', padding='same')(input_img)\n",
        "x = MaxPooling2D((2, 2), padding='same')(x)\n",
        "x = Conv2D(64, (3, 3), activation='relu', padding='same')(x)\n",
        "encoded = MaxPooling2D((2, 2), padding='same')(x)\n",
        "\n",
        "# Декодер\n",
        "x = Conv2D(64, (3, 3), activation='relu', padding='same')(encoded)\n",
        "x = UpSampling2D((2, 2))(x)\n",
        "x = Conv2D(32, (3, 3), activation='relu', padding='same')(x)\n",
        "x = UpSampling2D((2, 2))(x)\n",
        "decoded = Conv2D(1, (3, 3), activation='sigmoid', padding='same')(x)\n",
        "flattened = Flatten()(decoded)\n",
        "out = Dense(10, activation='softmax')(flattened)\n",
        "\n",
        "optimizer = Adam(learning_rate=0.001)\n",
        "# Сборка автоэнкодера\n",
        "autoencoder = Model(input_img, out)\n",
        "autoencoder.compile(optimizer=optimizer, loss='categorical_crossentropy', metrics=['accuracy'])\n",
        "\n",
        "# Предполагается, что mnist_train и mnist_test имеют размерность (num_samples, 28, 28)\n",
        "# Мы просто изменяем размерность данных для соответствия форме (num_samples, 28, 28, 1)\n",
        "mnist_train = mnist_train_X.reshape(-1, 28, 28, 1)\n",
        "mnist_test = mnist_test_X.reshape(-1, 28, 28, 1)"
      ]
    },
    {
      "cell_type": "code",
      "execution_count": 27,
      "id": "ba88d2f07d699ac8",
      "metadata": {
        "ExecuteTime": {
          "end_time": "2024-06-14T17:37:03.250873Z",
          "start_time": "2024-06-14T17:37:03.243622Z"
        },
        "id": "ba88d2f07d699ac8"
      },
      "outputs": [],
      "source": [
        "mnist_train_y = tf.keras.utils.to_categorical(mnist_train_y, 10)\n",
        "mnist_test_y = tf.keras.utils.to_categorical(mnist_test_y, 10)"
      ]
    },
    {
      "cell_type": "code",
      "execution_count": 31,
      "id": "c33cba37eacdfa5",
      "metadata": {
        "ExecuteTime": {
          "end_time": "2024-06-14T17:39:42.503605Z",
          "start_time": "2024-06-14T17:37:04.125233Z"
        },
        "colab": {
          "base_uri": "https://localhost:8080/"
        },
        "id": "c33cba37eacdfa5",
        "outputId": "eaf50938-46cd-47a1-95f4-616059d2db87"
      },
      "outputs": [
        {
          "output_type": "stream",
          "name": "stdout",
          "text": [
            "Epoch 1/25\n",
            "480/480 [==============================] - 165s 340ms/step - loss: 0.3956 - accuracy: 0.8762 - val_loss: 0.0994 - val_accuracy: 0.9728\n",
            "Epoch 2/25\n",
            "480/480 [==============================] - 135s 280ms/step - loss: 0.0875 - accuracy: 0.9735 - val_loss: 0.0712 - val_accuracy: 0.9793\n",
            "Epoch 3/25\n",
            "480/480 [==============================] - 135s 281ms/step - loss: 0.0604 - accuracy: 0.9818 - val_loss: 0.0579 - val_accuracy: 0.9824\n",
            "Epoch 4/25\n",
            "480/480 [==============================] - 135s 281ms/step - loss: 0.0470 - accuracy: 0.9856 - val_loss: 0.0506 - val_accuracy: 0.9844\n",
            "Epoch 5/25\n",
            "480/480 [==============================] - 131s 272ms/step - loss: 0.0370 - accuracy: 0.9884 - val_loss: 0.0498 - val_accuracy: 0.9852\n",
            "Epoch 6/25\n",
            "480/480 [==============================] - 135s 281ms/step - loss: 0.0307 - accuracy: 0.9903 - val_loss: 0.0384 - val_accuracy: 0.9883\n",
            "Epoch 7/25\n",
            "480/480 [==============================] - 131s 273ms/step - loss: 0.0261 - accuracy: 0.9920 - val_loss: 0.0408 - val_accuracy: 0.9879\n",
            "Epoch 8/25\n",
            "480/480 [==============================] - 129s 269ms/step - loss: 0.0221 - accuracy: 0.9932 - val_loss: 0.0474 - val_accuracy: 0.9846\n",
            "Epoch 9/25\n",
            "480/480 [==============================] - 131s 272ms/step - loss: 0.0183 - accuracy: 0.9941 - val_loss: 0.0363 - val_accuracy: 0.9887\n",
            "Epoch 10/25\n",
            "480/480 [==============================] - 135s 280ms/step - loss: 0.0156 - accuracy: 0.9952 - val_loss: 0.0420 - val_accuracy: 0.9881\n",
            "Epoch 11/25\n",
            "480/480 [==============================] - 130s 271ms/step - loss: 0.0127 - accuracy: 0.9961 - val_loss: 0.0338 - val_accuracy: 0.9902\n",
            "Epoch 12/25\n",
            "480/480 [==============================] - 132s 275ms/step - loss: 0.0109 - accuracy: 0.9964 - val_loss: 0.0348 - val_accuracy: 0.9901\n",
            "Epoch 13/25\n",
            "480/480 [==============================] - 131s 273ms/step - loss: 0.0096 - accuracy: 0.9970 - val_loss: 0.0374 - val_accuracy: 0.9888\n",
            "Epoch 14/25\n",
            "480/480 [==============================] - 130s 271ms/step - loss: 0.0087 - accuracy: 0.9973 - val_loss: 0.0423 - val_accuracy: 0.9875\n",
            "Epoch 15/25\n",
            "480/480 [==============================] - 129s 268ms/step - loss: 0.0081 - accuracy: 0.9975 - val_loss: 0.0407 - val_accuracy: 0.9881\n",
            "Epoch 16/25\n",
            "480/480 [==============================] - 132s 275ms/step - loss: 0.0038 - accuracy: 0.9990 - val_loss: 0.0363 - val_accuracy: 0.9896\n",
            "Epoch 17/25\n",
            "480/480 [==============================] - 130s 270ms/step - loss: 0.0065 - accuracy: 0.9979 - val_loss: 0.0581 - val_accuracy: 0.9862\n",
            "Epoch 18/25\n",
            "480/480 [==============================] - 134s 279ms/step - loss: 0.0069 - accuracy: 0.9978 - val_loss: 0.0553 - val_accuracy: 0.9849\n",
            "Epoch 19/25\n",
            "480/480 [==============================] - 133s 276ms/step - loss: 0.0045 - accuracy: 0.9987 - val_loss: 0.0357 - val_accuracy: 0.9905\n",
            "Epoch 20/25\n",
            "480/480 [==============================] - 134s 279ms/step - loss: 0.0083 - accuracy: 0.9972 - val_loss: 0.0551 - val_accuracy: 0.9868\n",
            "Epoch 21/25\n",
            "480/480 [==============================] - 130s 270ms/step - loss: 0.0050 - accuracy: 0.9985 - val_loss: 0.0404 - val_accuracy: 0.9898\n",
            "Epoch 22/25\n",
            "480/480 [==============================] - 134s 278ms/step - loss: 0.0015 - accuracy: 0.9997 - val_loss: 0.0351 - val_accuracy: 0.9908\n",
            "Epoch 23/25\n",
            "480/480 [==============================] - 132s 275ms/step - loss: 3.7020e-04 - accuracy: 1.0000 - val_loss: 0.0379 - val_accuracy: 0.9909\n",
            "Epoch 24/25\n",
            "480/480 [==============================] - 130s 271ms/step - loss: 1.9648e-04 - accuracy: 1.0000 - val_loss: 0.0349 - val_accuracy: 0.9908\n",
            "Epoch 25/25\n",
            "480/480 [==============================] - 130s 271ms/step - loss: 1.4327e-04 - accuracy: 1.0000 - val_loss: 0.0351 - val_accuracy: 0.9909\n"
          ]
        },
        {
          "output_type": "execute_result",
          "data": {
            "text/plain": [
              "<keras.src.callbacks.History at 0x7c8936569ea0>"
            ]
          },
          "metadata": {},
          "execution_count": 31
        }
      ],
      "source": [
        "autoencoder.fit(mnist_train, mnist_train_y,\n",
        "                epochs=25,\n",
        "                batch_size=100,\n",
        "                validation_data=(mnist_test, mnist_test_y))"
      ]
    },
    {
      "cell_type": "code",
      "execution_count": 32,
      "id": "66651d041bd487d3",
      "metadata": {
        "ExecuteTime": {
          "end_time": "2024-06-14T17:39:57.771051Z",
          "start_time": "2024-06-14T17:39:52.479631Z"
        },
        "colab": {
          "base_uri": "https://localhost:8080/"
        },
        "id": "66651d041bd487d3",
        "outputId": "4ec9088b-eda3-4abd-e398-1d6d4bbe1e0d"
      },
      "outputs": [
        {
          "output_type": "stream",
          "name": "stdout",
          "text": [
            "375/375 [==============================] - 10s 25ms/step\n"
          ]
        }
      ],
      "source": [
        "predicted_labels = autoencoder.predict(mnist_test)"
      ]
    },
    {
      "cell_type": "code",
      "execution_count": 33,
      "id": "dfa6598168a25b70",
      "metadata": {
        "ExecuteTime": {
          "end_time": "2024-06-14T17:43:32.720102Z",
          "start_time": "2024-06-14T17:43:32.685002Z"
        },
        "colab": {
          "base_uri": "https://localhost:8080/"
        },
        "id": "dfa6598168a25b70",
        "outputId": "f7bcb417-1b96-44ef-fcd1-885e748322f8"
      },
      "outputs": [
        {
          "output_type": "stream",
          "name": "stdout",
          "text": [
            "              precision    recall  f1-score   support\n",
            "\n",
            "           0       0.99      0.99      0.99      1175\n",
            "           1       1.00      1.00      1.00      1322\n",
            "           2       0.99      0.99      0.99      1174\n",
            "           3       0.99      0.98      0.99      1219\n",
            "           4       0.99      0.99      0.99      1176\n",
            "           5       0.99      0.99      0.99      1104\n",
            "           6       0.99      1.00      0.99      1177\n",
            "           7       0.99      0.99      0.99      1299\n",
            "           8       0.99      0.99      0.99      1160\n",
            "           9       0.99      0.98      0.99      1194\n",
            "\n",
            "    accuracy                           0.99     12000\n",
            "   macro avg       0.99      0.99      0.99     12000\n",
            "weighted avg       0.99      0.99      0.99     12000\n",
            "\n"
          ]
        }
      ],
      "source": [
        "from sklearn.metrics import classification_report\n",
        "\n",
        "prediction_y = np.argmax(predicted_labels, axis=-1)\n",
        "mnist_test_y_1 = np.argmax(mnist_test_y, axis=-1)\n",
        "# Получаем отчет о классификации\n",
        "report = classification_report(mnist_test_y_1, prediction_y)\n",
        "print(report)"
      ]
    },
    {
      "cell_type": "code",
      "execution_count": 34,
      "id": "c435e2e07879a4e6",
      "metadata": {
        "ExecuteTime": {
          "end_time": "2024-06-14T17:50:46.171820Z",
          "start_time": "2024-06-14T17:49:41.172260Z"
        },
        "colab": {
          "base_uri": "https://localhost:8080/"
        },
        "id": "c435e2e07879a4e6",
        "outputId": "7d84d534-7d64-4389-ab22-951dc4f83ffd"
      },
      "outputs": [
        {
          "output_type": "stream",
          "name": "stdout",
          "text": [
            "Epoch 1/35\n",
            "300/300 [==============================] - 26s 84ms/step - loss: 0.4535 - accuracy: 0.8232 - val_loss: 0.3909 - val_accuracy: 0.8538\n",
            "Epoch 2/35\n",
            "300/300 [==============================] - 25s 83ms/step - loss: 0.3611 - accuracy: 0.8612 - val_loss: 0.3761 - val_accuracy: 0.8534\n",
            "Epoch 3/35\n",
            "300/300 [==============================] - 25s 84ms/step - loss: 0.3356 - accuracy: 0.8704 - val_loss: 0.3414 - val_accuracy: 0.8770\n",
            "Epoch 4/35\n",
            "300/300 [==============================] - 27s 90ms/step - loss: 0.3177 - accuracy: 0.8789 - val_loss: 0.3405 - val_accuracy: 0.8722\n",
            "Epoch 5/35\n",
            "300/300 [==============================] - 23s 75ms/step - loss: 0.3002 - accuracy: 0.8843 - val_loss: 0.3252 - val_accuracy: 0.8790\n",
            "Epoch 6/35\n",
            "300/300 [==============================] - 24s 81ms/step - loss: 0.2861 - accuracy: 0.8909 - val_loss: 0.3274 - val_accuracy: 0.8774\n",
            "Epoch 7/35\n",
            "300/300 [==============================] - 26s 88ms/step - loss: 0.2774 - accuracy: 0.8934 - val_loss: 0.3031 - val_accuracy: 0.8868\n",
            "Epoch 8/35\n",
            "300/300 [==============================] - 24s 80ms/step - loss: 0.2683 - accuracy: 0.8970 - val_loss: 0.3052 - val_accuracy: 0.8840\n",
            "Epoch 9/35\n",
            "300/300 [==============================] - 23s 76ms/step - loss: 0.2635 - accuracy: 0.9002 - val_loss: 0.3352 - val_accuracy: 0.8676\n",
            "Epoch 10/35\n",
            "300/300 [==============================] - 24s 80ms/step - loss: 0.2548 - accuracy: 0.9030 - val_loss: 0.3054 - val_accuracy: 0.8816\n",
            "Epoch 11/35\n",
            "300/300 [==============================] - 28s 93ms/step - loss: 0.2494 - accuracy: 0.9052 - val_loss: 0.2959 - val_accuracy: 0.8868\n",
            "Epoch 12/35\n",
            "300/300 [==============================] - 24s 81ms/step - loss: 0.2419 - accuracy: 0.9064 - val_loss: 0.3048 - val_accuracy: 0.8884\n",
            "Epoch 13/35\n",
            "300/300 [==============================] - 23s 75ms/step - loss: 0.2324 - accuracy: 0.9113 - val_loss: 0.3248 - val_accuracy: 0.8802\n",
            "Epoch 14/35\n",
            "300/300 [==============================] - 24s 80ms/step - loss: 0.2312 - accuracy: 0.9111 - val_loss: 0.3066 - val_accuracy: 0.8852\n",
            "Epoch 15/35\n",
            "300/300 [==============================] - 24s 80ms/step - loss: 0.2266 - accuracy: 0.9138 - val_loss: 0.3010 - val_accuracy: 0.8814\n",
            "Epoch 16/35\n",
            "300/300 [==============================] - 25s 83ms/step - loss: 0.2163 - accuracy: 0.9190 - val_loss: 0.3045 - val_accuracy: 0.8886\n",
            "Epoch 17/35\n",
            "300/300 [==============================] - 25s 83ms/step - loss: 0.2142 - accuracy: 0.9197 - val_loss: 0.2898 - val_accuracy: 0.8900\n",
            "Epoch 18/35\n",
            "300/300 [==============================] - 27s 89ms/step - loss: 0.2124 - accuracy: 0.9191 - val_loss: 0.3094 - val_accuracy: 0.8834\n",
            "Epoch 19/35\n",
            "300/300 [==============================] - 25s 83ms/step - loss: 0.2055 - accuracy: 0.9210 - val_loss: 0.2978 - val_accuracy: 0.8860\n",
            "Epoch 20/35\n",
            "300/300 [==============================] - 23s 76ms/step - loss: 0.2028 - accuracy: 0.9216 - val_loss: 0.2955 - val_accuracy: 0.8876\n",
            "Epoch 21/35\n",
            "300/300 [==============================] - 24s 81ms/step - loss: 0.1969 - accuracy: 0.9250 - val_loss: 0.3200 - val_accuracy: 0.8800\n",
            "Epoch 22/35\n",
            "300/300 [==============================] - 26s 87ms/step - loss: 0.1957 - accuracy: 0.9261 - val_loss: 0.3018 - val_accuracy: 0.8912\n",
            "Epoch 23/35\n",
            "300/300 [==============================] - 25s 84ms/step - loss: 0.1915 - accuracy: 0.9279 - val_loss: 0.3245 - val_accuracy: 0.8786\n",
            "Epoch 24/35\n",
            "300/300 [==============================] - 22s 75ms/step - loss: 0.1865 - accuracy: 0.9306 - val_loss: 0.3150 - val_accuracy: 0.8834\n",
            "Epoch 25/35\n",
            "300/300 [==============================] - 28s 94ms/step - loss: 0.1792 - accuracy: 0.9324 - val_loss: 0.3434 - val_accuracy: 0.8794\n",
            "Epoch 26/35\n",
            "300/300 [==============================] - 26s 88ms/step - loss: 0.1799 - accuracy: 0.9333 - val_loss: 0.3439 - val_accuracy: 0.8796\n",
            "Epoch 27/35\n",
            "300/300 [==============================] - 27s 89ms/step - loss: 0.1739 - accuracy: 0.9347 - val_loss: 0.3323 - val_accuracy: 0.8858\n",
            "Epoch 28/35\n",
            "300/300 [==============================] - 24s 81ms/step - loss: 0.1700 - accuracy: 0.9355 - val_loss: 0.3266 - val_accuracy: 0.8860\n",
            "Epoch 29/35\n",
            "300/300 [==============================] - 27s 90ms/step - loss: 0.1684 - accuracy: 0.9371 - val_loss: 0.3266 - val_accuracy: 0.8862\n",
            "Epoch 30/35\n",
            "300/300 [==============================] - 24s 79ms/step - loss: 0.1652 - accuracy: 0.9369 - val_loss: 0.3290 - val_accuracy: 0.8876\n",
            "Epoch 31/35\n",
            "300/300 [==============================] - 23s 77ms/step - loss: 0.1610 - accuracy: 0.9387 - val_loss: 0.3308 - val_accuracy: 0.8870\n",
            "Epoch 32/35\n",
            "300/300 [==============================] - 24s 80ms/step - loss: 0.1589 - accuracy: 0.9393 - val_loss: 0.3154 - val_accuracy: 0.8926\n",
            "Epoch 33/35\n",
            "300/300 [==============================] - 26s 86ms/step - loss: 0.1523 - accuracy: 0.9433 - val_loss: 0.3241 - val_accuracy: 0.8916\n",
            "Epoch 34/35\n",
            "300/300 [==============================] - 25s 83ms/step - loss: 0.1501 - accuracy: 0.9423 - val_loss: 0.3240 - val_accuracy: 0.8914\n",
            "Epoch 35/35\n",
            "300/300 [==============================] - 25s 83ms/step - loss: 0.1484 - accuracy: 0.9439 - val_loss: 0.3431 - val_accuracy: 0.8880\n",
            "157/157 [==============================] - 3s 21ms/step\n"
          ]
        }
      ],
      "source": [
        "new_autoencoder_fashion = Model(input_img, autoencoder.layers[-1].output)\n",
        "for layer in new_autoencoder_fashion.layers:\n",
        "    layer.trainable = False\n",
        "\n",
        "x = Dense(128, activation='relu')(flattened)\n",
        "predictions = Dense(5, activation='softmax')(x)\n",
        "\n",
        "fashion_model_from_numbers = Model(input_img, predictions)\n",
        "fashion_model_from_numbers.compile(optimizer='adam', loss='sparse_categorical_crossentropy', metrics=['accuracy'])\n",
        "fashion_model_from_numbers.fit(fashion_train_X, filtered_train_labels,\n",
        "                               epochs=35,\n",
        "                               batch_size=100,\n",
        "                               validation_data=(fashion_test_X, filtered_test_labels))\n",
        "\n",
        "# Предсказание\n",
        "predictions_from_numbers = fashion_model_from_numbers.predict(fashion_test_X)"
      ]
    },
    {
      "cell_type": "code",
      "execution_count": 35,
      "id": "7516a8561e984291",
      "metadata": {
        "ExecuteTime": {
          "end_time": "2024-06-14T17:53:52.680427Z",
          "start_time": "2024-06-14T17:53:52.653626Z"
        },
        "colab": {
          "base_uri": "https://localhost:8080/"
        },
        "id": "7516a8561e984291",
        "outputId": "e0710477-5b2b-45c9-dc20-5157386a808c"
      },
      "outputs": [
        {
          "output_type": "stream",
          "name": "stdout",
          "text": [
            "              precision    recall  f1-score   support\n",
            "\n",
            "           0       0.92      0.92      0.92      1000\n",
            "           1       0.98      0.97      0.98      1000\n",
            "           2       0.86      0.79      0.82      1000\n",
            "           3       0.89      0.89      0.89      1000\n",
            "           4       0.79      0.87      0.83      1000\n",
            "\n",
            "    accuracy                           0.89      5000\n",
            "   macro avg       0.89      0.89      0.89      5000\n",
            "weighted avg       0.89      0.89      0.89      5000\n",
            "\n"
          ]
        }
      ],
      "source": [
        "prediction_fashion_y = np.argmax(predictions_from_numbers, axis=-1)\n",
        "# Получаем отчет о классификации\n",
        "report = classification_report(filtered_test_labels, prediction_fashion_y)\n",
        "print(report)"
      ]
    },
    {
      "cell_type": "code",
      "execution_count": 36,
      "id": "1c1a43cb9945a35f",
      "metadata": {
        "ExecuteTime": {
          "end_time": "2024-06-14T17:54:41.373981Z",
          "start_time": "2024-06-14T17:54:41.060158Z"
        },
        "colab": {
          "base_uri": "https://localhost:8080/",
          "height": 807
        },
        "id": "1c1a43cb9945a35f",
        "outputId": "6505e0f7-6270-4487-db55-03401faa6033"
      },
      "outputs": [
        {
          "output_type": "display_data",
          "data": {
            "text/plain": [
              "<Figure size 1000x1000 with 2 Axes>"
            ],
            "image/png": "[encoded data removed]"
          },
          "metadata": {}
        }
      ],
      "source": [
        "import numpy as np\n",
        "from sklearn.metrics import confusion_matrix, ConfusionMatrixDisplay\n",
        "import matplotlib.pyplot as plt\n",
        "\n",
        "# Вычисляем confusion matrix\n",
        "cm = confusion_matrix(filtered_test_labels, prediction_fashion_y)\n",
        "\n",
        "# Визуализируем confusion matrix\n",
        "fig, ax = plt.subplots(figsize=(10, 10))\n",
        "ConfusionMatrixDisplay(cm, display_labels=[0, 1, 2, 3, 4]).plot(ax=ax)\n",
        "plt.show()"
      ]
    },
    {
      "cell_type": "markdown",
      "source": [
        "# Задание 2\n",
        "Обучиться на мнист цифры с self target и перенести на одежду (5 классов)\n",
        "\n"
      ],
      "metadata": {
        "id": "2VC17CIgYO1i"
      },
      "id": "2VC17CIgYO1i"
    },
    {
      "cell_type": "code",
      "execution_count": 37,
      "id": "97a5f85946ce3410",
      "metadata": {
        "ExecuteTime": {
          "end_time": "2024-06-14T16:25:01.570117Z",
          "start_time": "2024-06-14T16:25:01.493815Z"
        },
        "id": "97a5f85946ce3410"
      },
      "outputs": [],
      "source": [
        "# ЗАДАНИЕ 2\n",
        "\n",
        "# Архитектура сверточного автоэнкодера\n",
        "input_img = Input(shape=(28, 28, 1))  # MNIST - черно-белые изображения\n",
        "\n",
        "# Энкодер\n",
        "x = Conv2D(32, (3, 3), activation='relu', padding='same')(input_img)\n",
        "x = MaxPooling2D((2, 2), padding='same')(x)\n",
        "x = Conv2D(64, (3, 3), activation='relu', padding='same')(x)\n",
        "encoded = MaxPooling2D((2, 2), padding='same')(x)\n",
        "\n",
        "# Декодер\n",
        "x = Conv2D(64, (3, 3), activation='relu', padding='same')(encoded)\n",
        "x = UpSampling2D((2, 2))(x)\n",
        "x = Conv2D(32, (3, 3), activation='relu', padding='same')(x)\n",
        "x = UpSampling2D((2, 2))(x)\n",
        "decoded = Conv2D(1, (3, 3), activation='sigmoid', padding='same')(x)\n",
        "\n",
        "optimizer = Adam(learning_rate=0.01)\n",
        "# Сборка автоэнкодера\n",
        "autoencoder = Model(input_img, decoded)\n",
        "autoencoder.compile(optimizer=optimizer, loss='binary_crossentropy')\n",
        "\n",
        "# Предполагается, что mnist_train и mnist_test имеют размерность (num_samples, 28, 28)\n",
        "# Мы просто изменяем размерность данных для соответствия форме (num_samples, 28, 28, 1)\n",
        "mnist_train = mnist_train_X.reshape(-1, 28, 28, 1)\n",
        "mnist_test = mnist_test_X.reshape(-1, 28, 28, 1)"
      ]
    },
    {
      "cell_type": "code",
      "execution_count": 38,
      "id": "765e2c871f1c1c1",
      "metadata": {
        "ExecuteTime": {
          "end_time": "2024-06-14T16:27:39.350318Z",
          "start_time": "2024-06-14T16:25:03.235072Z"
        },
        "colab": {
          "base_uri": "https://localhost:8080/"
        },
        "id": "765e2c871f1c1c1",
        "outputId": "38752c6a-42ca-4060-c600-e4a49206e419"
      },
      "outputs": [
        {
          "output_type": "stream",
          "name": "stdout",
          "text": [
            "Epoch 1/35\n",
            "188/188 [==============================] - 166s 695ms/step - loss: 0.1495 - val_loss: 0.0843\n",
            "Epoch 2/35\n",
            "188/188 [==============================] - 129s 689ms/step - loss: 0.0805 - val_loss: 0.0779\n",
            "Epoch 3/35\n",
            "188/188 [==============================] - 128s 680ms/step - loss: 0.0762 - val_loss: 0.0752\n",
            "Epoch 4/35\n",
            "188/188 [==============================] - 132s 702ms/step - loss: 0.0742 - val_loss: 0.0732\n",
            "Epoch 5/35\n",
            "188/188 [==============================] - 135s 719ms/step - loss: 0.0730 - val_loss: 0.0722\n",
            "Epoch 6/35\n",
            "188/188 [==============================] - 130s 692ms/step - loss: 0.0720 - val_loss: 0.0714\n",
            "Epoch 7/35\n",
            "188/188 [==============================] - 127s 678ms/step - loss: 0.0716 - val_loss: 0.0708\n",
            "Epoch 8/35\n",
            "188/188 [==============================] - 130s 691ms/step - loss: 0.0709 - val_loss: 0.0703\n",
            "Epoch 9/35\n",
            "188/188 [==============================] - 132s 703ms/step - loss: 0.0704 - val_loss: 0.0700\n",
            "Epoch 10/35\n",
            "188/188 [==============================] - 128s 684ms/step - loss: 0.0702 - val_loss: 0.0696\n",
            "Epoch 11/35\n",
            "188/188 [==============================] - 129s 686ms/step - loss: 0.0697 - val_loss: 0.0693\n",
            "Epoch 12/35\n",
            "188/188 [==============================] - 128s 683ms/step - loss: 0.0696 - val_loss: 0.0703\n",
            "Epoch 13/35\n",
            "188/188 [==============================] - 130s 688ms/step - loss: 0.0692 - val_loss: 0.0695\n",
            "Epoch 14/35\n",
            "188/188 [==============================] - 129s 686ms/step - loss: 0.0691 - val_loss: 0.0687\n",
            "Epoch 15/35\n",
            "188/188 [==============================] - 129s 687ms/step - loss: 0.0690 - val_loss: 0.0687\n",
            "Epoch 16/35\n",
            "188/188 [==============================] - 131s 695ms/step - loss: 0.0687 - val_loss: 0.0682\n",
            "Epoch 17/35\n",
            "188/188 [==============================] - 129s 683ms/step - loss: 0.0686 - val_loss: 0.0683\n",
            "Epoch 18/35\n",
            "188/188 [==============================] - 131s 698ms/step - loss: 0.0683 - val_loss: 0.0681\n",
            "Epoch 19/35\n",
            "188/188 [==============================] - 132s 701ms/step - loss: 0.0682 - val_loss: 0.0679\n",
            "Epoch 20/35\n",
            "188/188 [==============================] - 132s 700ms/step - loss: 0.0680 - val_loss: 0.0680\n",
            "Epoch 21/35\n",
            "188/188 [==============================] - 132s 700ms/step - loss: 0.0679 - val_loss: 0.0677\n",
            "Epoch 22/35\n",
            "188/188 [==============================] - 129s 689ms/step - loss: 0.0679 - val_loss: 0.0675\n",
            "Epoch 23/35\n",
            "188/188 [==============================] - 132s 703ms/step - loss: 0.0677 - val_loss: 0.0678\n",
            "Epoch 24/35\n",
            "188/188 [==============================] - 128s 682ms/step - loss: 0.0677 - val_loss: 0.0677\n",
            "Epoch 25/35\n",
            "188/188 [==============================] - 129s 688ms/step - loss: 0.0677 - val_loss: 0.0672\n",
            "Epoch 26/35\n",
            "188/188 [==============================] - 132s 703ms/step - loss: 0.0676 - val_loss: 0.0677\n",
            "Epoch 27/35\n",
            "188/188 [==============================] - 130s 691ms/step - loss: 0.0674 - val_loss: 0.0671\n",
            "Epoch 28/35\n",
            "188/188 [==============================] - 129s 687ms/step - loss: 0.0677 - val_loss: 0.0673\n",
            "Epoch 29/35\n",
            "188/188 [==============================] - 128s 681ms/step - loss: 0.0673 - val_loss: 0.0681\n",
            "Epoch 30/35\n",
            "188/188 [==============================] - 134s 715ms/step - loss: 0.0672 - val_loss: 0.0672\n",
            "Epoch 31/35\n",
            "188/188 [==============================] - 130s 692ms/step - loss: 0.0673 - val_loss: 0.0674\n",
            "Epoch 32/35\n",
            "188/188 [==============================] - 130s 690ms/step - loss: 0.0672 - val_loss: 0.0674\n",
            "Epoch 33/35\n",
            "188/188 [==============================] - 133s 709ms/step - loss: 0.0671 - val_loss: 0.0672\n",
            "Epoch 34/35\n",
            "188/188 [==============================] - 130s 694ms/step - loss: 0.0671 - val_loss: 0.0668\n",
            "Epoch 35/35\n",
            "188/188 [==============================] - 130s 693ms/step - loss: 0.0671 - val_loss: 0.0672\n"
          ]
        },
        {
          "output_type": "execute_result",
          "data": {
            "text/plain": [
              "<keras.src.callbacks.History at 0x7c892d415870>"
            ]
          },
          "metadata": {},
          "execution_count": 38
        }
      ],
      "source": [
        "# Обучение автоэнкодера\n",
        "autoencoder.fit(mnist_train, mnist_train,\n",
        "                epochs=35,\n",
        "                batch_size=256,\n",
        "                validation_data=(mnist_test, mnist_test))"
      ]
    },
    {
      "cell_type": "code",
      "execution_count": 39,
      "id": "983de4a03c293940",
      "metadata": {
        "ExecuteTime": {
          "end_time": "2024-06-14T16:31:02.914375Z",
          "start_time": "2024-06-14T16:30:56.317226Z"
        },
        "colab": {
          "base_uri": "https://localhost:8080/",
          "height": 353
        },
        "id": "983de4a03c293940",
        "outputId": "d67d02e8-96d7-4fc4-8b11-bc1a20b47c03"
      },
      "outputs": [
        {
          "output_type": "stream",
          "name": "stdout",
          "text": [
            "375/375 [==============================] - 9s 24ms/step\n"
          ]
        },
        {
          "output_type": "display_data",
          "data": {
            "text/plain": [
              "<Figure size 2000x400 with 20 Axes>"
            ],
            "image/png": "[encoded data removed]"
          },
          "metadata": {}
        }
      ],
      "source": [
        "import numpy as np\n",
        "import matplotlib.pyplot as plt\n",
        "\n",
        "# Предсказание на тестовом наборе данных\n",
        "decoded_imgs = autoencoder.predict(mnist_test)\n",
        "\n",
        "n = 10  # количество изображений для отображения\n",
        "plt.figure(figsize=(20, 4))\n",
        "\n",
        "for i in range(n):\n",
        "    # Отображение оригинальных изображений\n",
        "    ax = plt.subplot(2, n, i + 1)\n",
        "    plt.imshow(mnist_test[i].reshape(28, 28))\n",
        "    plt.gray()\n",
        "    ax.get_xaxis().set_visible(False)\n",
        "    ax.get_yaxis().set_visible(False)\n",
        "\n",
        "    # Отображение восстановленных изображений\n",
        "    ax = plt.subplot(2, n, i + 1 + n)\n",
        "    plt.imshow(decoded_imgs[i].reshape(28, 28))\n",
        "    plt.gray()\n",
        "    ax.get_xaxis().set_visible(False)"
      ]
    },
    {
      "cell_type": "code",
      "execution_count": 40,
      "id": "9f128955d7c65188",
      "metadata": {
        "ExecuteTime": {
          "end_time": "2024-06-14T17:01:16.206333Z",
          "start_time": "2024-06-14T17:00:41.119960Z"
        },
        "colab": {
          "base_uri": "https://localhost:8080/"
        },
        "id": "9f128955d7c65188",
        "outputId": "6188c38a-ddca-4eef-fc48-57c4fa89b6af"
      },
      "outputs": [
        {
          "output_type": "stream",
          "name": "stdout",
          "text": [
            "Epoch 1/35\n",
            "118/118 [==============================] - 12s 96ms/step - loss: 0.5254 - accuracy: 0.8146 - val_loss: 0.3842 - val_accuracy: 0.8654\n",
            "Epoch 2/35\n",
            "118/118 [==============================] - 11s 97ms/step - loss: 0.3354 - accuracy: 0.8795 - val_loss: 0.3657 - val_accuracy: 0.8632\n",
            "Epoch 3/35\n",
            "118/118 [==============================] - 11s 94ms/step - loss: 0.3059 - accuracy: 0.8893 - val_loss: 0.3234 - val_accuracy: 0.8858\n",
            "Epoch 4/35\n",
            "118/118 [==============================] - 11s 94ms/step - loss: 0.2870 - accuracy: 0.8974 - val_loss: 0.3113 - val_accuracy: 0.8882\n",
            "Epoch 5/35\n",
            "118/118 [==============================] - 10s 81ms/step - loss: 0.2771 - accuracy: 0.8998 - val_loss: 0.2909 - val_accuracy: 0.8962\n",
            "Epoch 6/35\n",
            "118/118 [==============================] - 11s 96ms/step - loss: 0.2742 - accuracy: 0.9009 - val_loss: 0.2999 - val_accuracy: 0.8908\n",
            "Epoch 7/35\n",
            "118/118 [==============================] - 11s 93ms/step - loss: 0.2616 - accuracy: 0.9044 - val_loss: 0.2811 - val_accuracy: 0.8964\n",
            "Epoch 8/35\n",
            "118/118 [==============================] - 11s 95ms/step - loss: 0.2548 - accuracy: 0.9075 - val_loss: 0.2838 - val_accuracy: 0.8968\n",
            "Epoch 9/35\n",
            "118/118 [==============================] - 13s 113ms/step - loss: 0.2464 - accuracy: 0.9099 - val_loss: 0.2770 - val_accuracy: 0.8970\n",
            "Epoch 10/35\n",
            "118/118 [==============================] - 10s 83ms/step - loss: 0.2456 - accuracy: 0.9090 - val_loss: 0.2734 - val_accuracy: 0.8964\n",
            "Epoch 11/35\n",
            "118/118 [==============================] - 11s 94ms/step - loss: 0.2403 - accuracy: 0.9126 - val_loss: 0.2760 - val_accuracy: 0.9000\n",
            "Epoch 12/35\n",
            "118/118 [==============================] - 11s 94ms/step - loss: 0.2377 - accuracy: 0.9130 - val_loss: 0.3143 - val_accuracy: 0.8824\n",
            "Epoch 13/35\n",
            "118/118 [==============================] - 11s 96ms/step - loss: 0.2358 - accuracy: 0.9136 - val_loss: 0.2603 - val_accuracy: 0.9056\n",
            "Epoch 14/35\n",
            "118/118 [==============================] - 11s 90ms/step - loss: 0.2297 - accuracy: 0.9157 - val_loss: 0.2651 - val_accuracy: 0.9046\n",
            "Epoch 15/35\n",
            "118/118 [==============================] - 10s 84ms/step - loss: 0.2240 - accuracy: 0.9194 - val_loss: 0.2636 - val_accuracy: 0.9048\n",
            "Epoch 16/35\n",
            "118/118 [==============================] - 11s 96ms/step - loss: 0.2210 - accuracy: 0.9185 - val_loss: 0.2688 - val_accuracy: 0.9012\n",
            "Epoch 17/35\n",
            "118/118 [==============================] - 11s 95ms/step - loss: 0.2276 - accuracy: 0.9168 - val_loss: 0.3147 - val_accuracy: 0.8848\n",
            "Epoch 18/35\n",
            "118/118 [==============================] - 11s 93ms/step - loss: 0.2171 - accuracy: 0.9218 - val_loss: 0.2521 - val_accuracy: 0.9122\n",
            "Epoch 19/35\n",
            "118/118 [==============================] - 11s 93ms/step - loss: 0.2145 - accuracy: 0.9219 - val_loss: 0.2626 - val_accuracy: 0.9038\n",
            "Epoch 20/35\n",
            "118/118 [==============================] - 10s 83ms/step - loss: 0.2139 - accuracy: 0.9212 - val_loss: 0.2823 - val_accuracy: 0.8974\n",
            "Epoch 21/35\n",
            "118/118 [==============================] - 11s 96ms/step - loss: 0.2131 - accuracy: 0.9219 - val_loss: 0.2764 - val_accuracy: 0.8994\n",
            "Epoch 22/35\n",
            "118/118 [==============================] - 13s 108ms/step - loss: 0.2112 - accuracy: 0.9217 - val_loss: 0.2474 - val_accuracy: 0.9098\n",
            "Epoch 23/35\n",
            "118/118 [==============================] - 11s 95ms/step - loss: 0.2046 - accuracy: 0.9254 - val_loss: 0.2596 - val_accuracy: 0.9038\n",
            "Epoch 24/35\n",
            "118/118 [==============================] - 12s 103ms/step - loss: 0.2006 - accuracy: 0.9262 - val_loss: 0.2537 - val_accuracy: 0.9084\n",
            "Epoch 25/35\n",
            "118/118 [==============================] - 11s 93ms/step - loss: 0.2026 - accuracy: 0.9262 - val_loss: 0.2574 - val_accuracy: 0.9092\n",
            "Epoch 26/35\n",
            "118/118 [==============================] - 10s 82ms/step - loss: 0.1967 - accuracy: 0.9273 - val_loss: 0.2958 - val_accuracy: 0.8934\n",
            "Epoch 27/35\n",
            "118/118 [==============================] - 11s 97ms/step - loss: 0.2007 - accuracy: 0.9266 - val_loss: 0.2448 - val_accuracy: 0.9164\n",
            "Epoch 28/35\n",
            "118/118 [==============================] - 11s 95ms/step - loss: 0.1967 - accuracy: 0.9272 - val_loss: 0.2413 - val_accuracy: 0.9144\n",
            "Epoch 29/35\n",
            "118/118 [==============================] - 11s 96ms/step - loss: 0.1937 - accuracy: 0.9284 - val_loss: 0.2488 - val_accuracy: 0.9104\n",
            "Epoch 30/35\n",
            "118/118 [==============================] - 11s 93ms/step - loss: 0.1905 - accuracy: 0.9287 - val_loss: 0.2387 - val_accuracy: 0.9162\n",
            "Epoch 31/35\n",
            "118/118 [==============================] - 10s 84ms/step - loss: 0.1910 - accuracy: 0.9277 - val_loss: 0.2631 - val_accuracy: 0.9036\n",
            "Epoch 32/35\n",
            "118/118 [==============================] - 11s 94ms/step - loss: 0.1881 - accuracy: 0.9319 - val_loss: 0.2566 - val_accuracy: 0.9062\n",
            "Epoch 33/35\n",
            "118/118 [==============================] - 11s 96ms/step - loss: 0.1856 - accuracy: 0.9316 - val_loss: 0.2384 - val_accuracy: 0.9148\n",
            "Epoch 34/35\n",
            "118/118 [==============================] - 11s 95ms/step - loss: 0.1868 - accuracy: 0.9306 - val_loss: 0.2366 - val_accuracy: 0.9144\n",
            "Epoch 35/35\n",
            "118/118 [==============================] - 12s 99ms/step - loss: 0.1821 - accuracy: 0.9331 - val_loss: 0.2372 - val_accuracy: 0.9166\n",
            "157/157 [==============================] - 2s 11ms/step\n"
          ]
        }
      ],
      "source": [
        "new_autoencoder = Model(input_img, decoded)\n",
        "for layer in new_autoencoder.layers:\n",
        "    layer.trainable = False\n",
        "\n",
        "flattened = Flatten()(encoded)\n",
        "x = Dense(128, activation='relu')(flattened)\n",
        "predictions = Dense(5, activation='softmax')(x)\n",
        "\n",
        "fashion_model = Model(input_img, predictions)\n",
        "fashion_model.compile(optimizer='adam', loss='sparse_categorical_crossentropy', metrics=['accuracy'])\n",
        "fashion_model.fit(fashion_train_X, filtered_train_labels,\n",
        "                  epochs=35,\n",
        "                  batch_size=256,\n",
        "                  validation_data=(fashion_test_X, filtered_test_labels))\n",
        "\n",
        "# Предсказание\n",
        "predictions = fashion_model.predict(fashion_test_X)"
      ]
    },
    {
      "cell_type": "code",
      "execution_count": 41,
      "id": "ba01b6f52d4b860c",
      "metadata": {
        "ExecuteTime": {
          "end_time": "2024-06-14T17:02:07.927513Z",
          "start_time": "2024-06-14T17:02:07.637765Z"
        },
        "colab": {
          "base_uri": "https://localhost:8080/",
          "height": 807
        },
        "id": "ba01b6f52d4b860c",
        "outputId": "b61a0491-667e-4f98-b610-6f4eab86c1eb"
      },
      "outputs": [
        {
          "output_type": "display_data",
          "data": {
            "text/plain": [
              "<Figure size 1000x1000 with 2 Axes>"
            ],
            "image/png": "[encoded data removed]"
          },
          "metadata": {}
        }
      ],
      "source": [
        "import numpy as np\n",
        "from sklearn.metrics import confusion_matrix, ConfusionMatrixDisplay\n",
        "import matplotlib.pyplot as plt\n",
        "\n",
        "# Получаем предсказанные метки классов из вероятностных предсказаний\n",
        "predicted_labels = np.argmax(predictions, axis=-1)\n",
        "\n",
        "# Вычисляем confusion matrix\n",
        "cm = confusion_matrix(filtered_test_labels, predicted_labels)\n",
        "\n",
        "# Визуализируем confusion matrix\n",
        "fig, ax = plt.subplots(figsize=(10, 10))\n",
        "ConfusionMatrixDisplay(cm, display_labels=[0, 1, 2, 3, 4]).plot(ax=ax)\n",
        "plt.show()"
      ]
    },
    {
      "cell_type": "code",
      "execution_count": 42,
      "id": "25d22929f74ae927",
      "metadata": {
        "ExecuteTime": {
          "end_time": "2024-06-14T17:03:48.851937Z",
          "start_time": "2024-06-14T17:03:48.833852Z"
        },
        "colab": {
          "base_uri": "https://localhost:8080/"
        },
        "id": "25d22929f74ae927",
        "outputId": "1bdcc9ab-8109-47fa-e977-1d498101b42e"
      },
      "outputs": [
        {
          "output_type": "stream",
          "name": "stdout",
          "text": [
            "Precision: 0.92\n",
            "Recall: 0.92\n",
            "F1-score: 0.92\n"
          ]
        }
      ],
      "source": [
        "from sklearn.metrics import precision_recall_fscore_support\n",
        "\n",
        "precision, recall, f1, _ = precision_recall_fscore_support(filtered_test_labels, predicted_labels, average='macro')\n",
        "\n",
        "# Print the metrics\n",
        "print(f\"Precision: {precision:.2f}\")\n",
        "print(f\"Recall: {recall:.2f}\")\n",
        "print(f\"F1-score: {f1:.2f}\")"
      ]
    },
    {
      "cell_type": "code",
      "execution_count": 43,
      "id": "627f5cb729778f70",
      "metadata": {
        "ExecuteTime": {
          "end_time": "2024-06-14T17:06:00.676056Z",
          "start_time": "2024-06-14T17:06:00.657363Z"
        },
        "colab": {
          "base_uri": "https://localhost:8080/"
        },
        "id": "627f5cb729778f70",
        "outputId": "fba1905a-345e-4eca-ef41-52961b04330c"
      },
      "outputs": [
        {
          "output_type": "stream",
          "name": "stdout",
          "text": [
            "              precision    recall  f1-score   support\n",
            "\n",
            "           0       0.95      0.94      0.95      1000\n",
            "           1       0.99      0.98      0.98      1000\n",
            "           2       0.84      0.91      0.87      1000\n",
            "           3       0.90      0.94      0.92      1000\n",
            "           4       0.90      0.82      0.86      1000\n",
            "\n",
            "    accuracy                           0.92      5000\n",
            "   macro avg       0.92      0.92      0.92      5000\n",
            "weighted avg       0.92      0.92      0.92      5000\n",
            "\n"
          ]
        }
      ],
      "source": [
        "# Получаем отчет о классификации\n",
        "report = classification_report(filtered_test_labels, predicted_labels)\n",
        "print(report)"
      ]
    },
    {
      "cell_type": "markdown",
      "id": "5caafd22e3f6cf",
      "metadata": {
        "id": "5caafd22e3f6cf"
      },
      "source": [
        "# Задание 3\n",
        "Попробовать сделать полносвязную сеть для классификации mnist цифры"
      ]
    },
    {
      "cell_type": "code",
      "source": [
        "# Загрузка и предобработка данных\n",
        "(mnist_train_X, mnist_train_y), (mnist_test_X, mnist_test_y) = tf.keras.datasets.mnist.load_data()\n",
        "\n",
        "# Нормализация данных\n",
        "mnist_train = mnist_train_X.astype('float32') / 255.\n",
        "mnist_test = mnist_test_X.astype('float32') / 255.\n",
        "\n",
        "mnist_train = mnist_train.reshape(-1, 28, 28, 1)\n",
        "mnist_test = mnist_test.reshape(-1, 28, 28, 1)\n",
        "\n",
        "# Архитектура автоэнкодера\n",
        "input_img = Input(shape=(28, 28, 1))\n",
        "x = Flatten()(input_img)\n",
        "x = Dense(512, activation='relu')(x)\n",
        "x = Dense(256, activation='relu')(x)\n",
        "encoded = Dense(128, activation='relu')(x)\n",
        "\n",
        "x = Dense(256, activation='relu')(encoded)\n",
        "x = Dense(512, activation='relu')(x)\n",
        "x = Dense(28*28, activation='sigmoid')(x)\n",
        "decoded = Reshape((28, 28, 1))(x)\n",
        "\n",
        "autoencoder = Model(input_img, decoded)\n",
        "\n",
        "optimizer = Adam(learning_rate=0.001)\n",
        "# Обучение автоэнкодера на MNIST\n",
        "autoencoder.compile(optimizer=optimizer, loss='mse', metrics=['accuracy'])\n",
        "autoencoder.fit(mnist_train, mnist_train,\n",
        "                epochs=50,\n",
        "                batch_size=512,\n",
        "                validation_data=(mnist_test, mnist_test))"
      ],
      "metadata": {
        "colab": {
          "base_uri": "https://localhost:8080/"
        },
        "id": "XCZnwHdR-r8U",
        "outputId": "0a237856-0162-4b41-c087-21303d2bf903"
      },
      "id": "XCZnwHdR-r8U",
      "execution_count": 44,
      "outputs": [
        {
          "output_type": "stream",
          "name": "stdout",
          "text": [
            "Downloading data from https://storage.googleapis.com/tensorflow/tf-keras-datasets/mnist.npz\n",
            "11490434/11490434 [==============================] - 0s 0us/step\n",
            "Epoch 1/50\n",
            "118/118 [==============================] - 11s 76ms/step - loss: 0.0636 - accuracy: 0.7887 - val_loss: 0.0341 - val_accuracy: 0.8052\n",
            "Epoch 2/50\n",
            "118/118 [==============================] - 10s 85ms/step - loss: 0.0264 - accuracy: 0.8093 - val_loss: 0.0197 - val_accuracy: 0.8112\n",
            "Epoch 3/50\n",
            "118/118 [==============================] - 10s 85ms/step - loss: 0.0176 - accuracy: 0.8125 - val_loss: 0.0152 - val_accuracy: 0.8125\n",
            "Epoch 4/50\n",
            "118/118 [==============================] - 9s 72ms/step - loss: 0.0144 - accuracy: 0.8135 - val_loss: 0.0127 - val_accuracy: 0.8131\n",
            "Epoch 5/50\n",
            "118/118 [==============================] - 10s 84ms/step - loss: 0.0124 - accuracy: 0.8140 - val_loss: 0.0112 - val_accuracy: 0.8131\n",
            "Epoch 6/50\n",
            "118/118 [==============================] - 10s 86ms/step - loss: 0.0110 - accuracy: 0.8143 - val_loss: 0.0101 - val_accuracy: 0.8135\n",
            "Epoch 7/50\n",
            "118/118 [==============================] - 9s 72ms/step - loss: 0.0101 - accuracy: 0.8145 - val_loss: 0.0096 - val_accuracy: 0.8134\n",
            "Epoch 8/50\n",
            "118/118 [==============================] - 10s 85ms/step - loss: 0.0093 - accuracy: 0.8147 - val_loss: 0.0088 - val_accuracy: 0.8137\n",
            "Epoch 9/50\n",
            "118/118 [==============================] - 11s 97ms/step - loss: 0.0088 - accuracy: 0.8148 - val_loss: 0.0084 - val_accuracy: 0.8138\n",
            "Epoch 10/50\n",
            "118/118 [==============================] - 11s 93ms/step - loss: 0.0083 - accuracy: 0.8148 - val_loss: 0.0079 - val_accuracy: 0.8139\n",
            "Epoch 11/50\n",
            "118/118 [==============================] - 9s 78ms/step - loss: 0.0079 - accuracy: 0.8149 - val_loss: 0.0076 - val_accuracy: 0.8139\n",
            "Epoch 12/50\n",
            "118/118 [==============================] - 10s 85ms/step - loss: 0.0075 - accuracy: 0.8149 - val_loss: 0.0072 - val_accuracy: 0.8140\n",
            "Epoch 13/50\n",
            "118/118 [==============================] - 10s 85ms/step - loss: 0.0072 - accuracy: 0.8150 - val_loss: 0.0069 - val_accuracy: 0.8140\n",
            "Epoch 14/50\n",
            "118/118 [==============================] - 9s 73ms/step - loss: 0.0069 - accuracy: 0.8150 - val_loss: 0.0067 - val_accuracy: 0.8140\n",
            "Epoch 15/50\n",
            "118/118 [==============================] - 10s 85ms/step - loss: 0.0067 - accuracy: 0.8151 - val_loss: 0.0066 - val_accuracy: 0.8141\n",
            "Epoch 16/50\n",
            "118/118 [==============================] - 10s 84ms/step - loss: 0.0065 - accuracy: 0.8151 - val_loss: 0.0064 - val_accuracy: 0.8141\n",
            "Epoch 17/50\n",
            "118/118 [==============================] - 8s 71ms/step - loss: 0.0064 - accuracy: 0.8151 - val_loss: 0.0063 - val_accuracy: 0.8141\n",
            "Epoch 18/50\n",
            "118/118 [==============================] - 10s 83ms/step - loss: 0.0062 - accuracy: 0.8151 - val_loss: 0.0063 - val_accuracy: 0.8141\n",
            "Epoch 19/50\n",
            "118/118 [==============================] - 10s 84ms/step - loss: 0.0061 - accuracy: 0.8151 - val_loss: 0.0060 - val_accuracy: 0.8142\n",
            "Epoch 20/50\n",
            "118/118 [==============================] - 9s 79ms/step - loss: 0.0059 - accuracy: 0.8152 - val_loss: 0.0060 - val_accuracy: 0.8141\n",
            "Epoch 21/50\n",
            "118/118 [==============================] - 9s 76ms/step - loss: 0.0058 - accuracy: 0.8152 - val_loss: 0.0057 - val_accuracy: 0.8142\n",
            "Epoch 22/50\n",
            "118/118 [==============================] - 10s 85ms/step - loss: 0.0057 - accuracy: 0.8152 - val_loss: 0.0055 - val_accuracy: 0.8142\n",
            "Epoch 23/50\n",
            "118/118 [==============================] - 10s 85ms/step - loss: 0.0056 - accuracy: 0.8152 - val_loss: 0.0056 - val_accuracy: 0.8142\n",
            "Epoch 24/50\n",
            "118/118 [==============================] - 10s 85ms/step - loss: 0.0054 - accuracy: 0.8152 - val_loss: 0.0056 - val_accuracy: 0.8142\n",
            "Epoch 25/50\n",
            "118/118 [==============================] - 10s 82ms/step - loss: 0.0053 - accuracy: 0.8152 - val_loss: 0.0054 - val_accuracy: 0.8142\n",
            "Epoch 26/50\n",
            "118/118 [==============================] - 10s 86ms/step - loss: 0.0053 - accuracy: 0.8152 - val_loss: 0.0052 - val_accuracy: 0.8142\n",
            "Epoch 27/50\n",
            "118/118 [==============================] - 9s 76ms/step - loss: 0.0052 - accuracy: 0.8152 - val_loss: 0.0050 - val_accuracy: 0.8143\n",
            "Epoch 28/50\n",
            "118/118 [==============================] - 9s 78ms/step - loss: 0.0051 - accuracy: 0.8153 - val_loss: 0.0051 - val_accuracy: 0.8143\n",
            "Epoch 29/50\n",
            "118/118 [==============================] - 10s 85ms/step - loss: 0.0050 - accuracy: 0.8153 - val_loss: 0.0051 - val_accuracy: 0.8143\n",
            "Epoch 30/50\n",
            "118/118 [==============================] - 10s 84ms/step - loss: 0.0049 - accuracy: 0.8153 - val_loss: 0.0050 - val_accuracy: 0.8143\n",
            "Epoch 31/50\n",
            "118/118 [==============================] - 9s 73ms/step - loss: 0.0048 - accuracy: 0.8153 - val_loss: 0.0050 - val_accuracy: 0.8143\n",
            "Epoch 32/50\n",
            "118/118 [==============================] - 10s 81ms/step - loss: 0.0048 - accuracy: 0.8153 - val_loss: 0.0049 - val_accuracy: 0.8143\n",
            "Epoch 33/50\n",
            "118/118 [==============================] - 10s 85ms/step - loss: 0.0047 - accuracy: 0.8153 - val_loss: 0.0047 - val_accuracy: 0.8143\n",
            "Epoch 34/50\n",
            "118/118 [==============================] - 9s 73ms/step - loss: 0.0046 - accuracy: 0.8153 - val_loss: 0.0047 - val_accuracy: 0.8143\n",
            "Epoch 35/50\n",
            "118/118 [==============================] - 10s 85ms/step - loss: 0.0046 - accuracy: 0.8153 - val_loss: 0.0046 - val_accuracy: 0.8143\n",
            "Epoch 36/50\n",
            "118/118 [==============================] - 10s 84ms/step - loss: 0.0045 - accuracy: 0.8153 - val_loss: 0.0049 - val_accuracy: 0.8143\n",
            "Epoch 37/50\n",
            "118/118 [==============================] - 9s 78ms/step - loss: 0.0045 - accuracy: 0.8153 - val_loss: 0.0046 - val_accuracy: 0.8143\n",
            "Epoch 38/50\n",
            "118/118 [==============================] - 10s 82ms/step - loss: 0.0045 - accuracy: 0.8153 - val_loss: 0.0046 - val_accuracy: 0.8143\n",
            "Epoch 39/50\n",
            "118/118 [==============================] - 12s 99ms/step - loss: 0.0044 - accuracy: 0.8153 - val_loss: 0.0044 - val_accuracy: 0.8143\n",
            "Epoch 40/50\n",
            "118/118 [==============================] - 10s 84ms/step - loss: 0.0043 - accuracy: 0.8153 - val_loss: 0.0044 - val_accuracy: 0.8143\n",
            "Epoch 41/50\n",
            "118/118 [==============================] - 9s 73ms/step - loss: 0.0043 - accuracy: 0.8153 - val_loss: 0.0044 - val_accuracy: 0.8143\n",
            "Epoch 42/50\n",
            "118/118 [==============================] - 10s 86ms/step - loss: 0.0043 - accuracy: 0.8153 - val_loss: 0.0043 - val_accuracy: 0.8143\n",
            "Epoch 43/50\n",
            "118/118 [==============================] - 10s 85ms/step - loss: 0.0043 - accuracy: 0.8153 - val_loss: 0.0043 - val_accuracy: 0.8143\n",
            "Epoch 44/50\n",
            "118/118 [==============================] - 8s 71ms/step - loss: 0.0042 - accuracy: 0.8153 - val_loss: 0.0042 - val_accuracy: 0.8143\n",
            "Epoch 45/50\n",
            "118/118 [==============================] - 10s 86ms/step - loss: 0.0042 - accuracy: 0.8153 - val_loss: 0.0043 - val_accuracy: 0.8143\n",
            "Epoch 46/50\n",
            "118/118 [==============================] - 10s 86ms/step - loss: 0.0041 - accuracy: 0.8153 - val_loss: 0.0042 - val_accuracy: 0.8143\n",
            "Epoch 47/50\n",
            "118/118 [==============================] - 9s 79ms/step - loss: 0.0041 - accuracy: 0.8153 - val_loss: 0.0041 - val_accuracy: 0.8143\n",
            "Epoch 48/50\n",
            "118/118 [==============================] - 9s 80ms/step - loss: 0.0040 - accuracy: 0.8153 - val_loss: 0.0040 - val_accuracy: 0.8143\n",
            "Epoch 49/50\n",
            "118/118 [==============================] - 10s 86ms/step - loss: 0.0040 - accuracy: 0.8153 - val_loss: 0.0041 - val_accuracy: 0.8143\n",
            "Epoch 50/50\n",
            "118/118 [==============================] - 10s 84ms/step - loss: 0.0040 - accuracy: 0.8153 - val_loss: 0.0040 - val_accuracy: 0.8143\n"
          ]
        },
        {
          "output_type": "execute_result",
          "data": {
            "text/plain": [
              "<keras.src.callbacks.History at 0x7c893cb6aa10>"
            ]
          },
          "metadata": {},
          "execution_count": 44
        }
      ]
    },
    {
      "cell_type": "code",
      "execution_count": 45,
      "id": "be949ce8",
      "metadata": {
        "id": "be949ce8",
        "outputId": "995fdbc2-90f1-4a7f-c18a-ccd9cab0404b",
        "colab": {
          "base_uri": "https://localhost:8080/",
          "height": 353
        }
      },
      "outputs": [
        {
          "output_type": "stream",
          "name": "stdout",
          "text": [
            "313/313 [==============================] - 2s 5ms/step\n"
          ]
        },
        {
          "output_type": "display_data",
          "data": {
            "text/plain": [
              "<Figure size 2000x400 with 20 Axes>"
            ],
            "image/png": "[encoded data removed]"
          },
          "metadata": {}
        }
      ],
      "source": [
        "# Предсказание на тестовом наборе данных\n",
        "decoded_imgs = autoencoder.predict(mnist_test)\n",
        "\n",
        "n = 10  # количество изображений для отображения\n",
        "plt.figure(figsize=(20, 4))\n",
        "\n",
        "for i in range(n):\n",
        "    # Отображение оригинальных изображений\n",
        "    ax = plt.subplot(2, n, i + 1)\n",
        "    plt.imshow(mnist_test[i].reshape(28, 28))\n",
        "    plt.gray()\n",
        "    ax.get_xaxis().set_visible(False)\n",
        "    ax.get_yaxis().set_visible(False)\n",
        "\n",
        "    # Отображение восстановленных изображений\n",
        "    ax = plt.subplot(2, n, i + 1 + n)\n",
        "    plt.imshow(decoded_imgs[i].reshape(28, 28))\n",
        "    plt.gray()\n",
        "    ax.get_xaxis().set_visible(False)"
      ]
    },
    {
      "cell_type": "code",
      "source": [
        "new_autoencoder = Model(input_img, decoded)\n",
        "for layer in new_autoencoder.layers:\n",
        "    layer.trainable = False\n",
        "\n",
        "flattened = Flatten()(encoded)\n",
        "x = Dense(128, activation='relu')(flattened)\n",
        "predictions = Dense(10, activation='softmax')(x)\n",
        "\n",
        "model = Model(input_img, predictions)\n",
        "model.compile(optimizer='adam', loss='sparse_categorical_crossentropy', metrics=['accuracy'])\n",
        "model.fit(mnist_train, mnist_train_y,\n",
        "          epochs=30,\n",
        "          batch_size=256,\n",
        "          validation_data=(mnist_test, mnist_test_y))\n",
        "\n",
        "# Предсказание\n",
        "predictions = model.predict(mnist_test)"
      ],
      "metadata": {
        "colab": {
          "base_uri": "https://localhost:8080/"
        },
        "id": "3w69S3ddCuxO",
        "outputId": "49595f99-90b5-4bd6-bb1a-0c67fc495915"
      },
      "id": "3w69S3ddCuxO",
      "execution_count": 46,
      "outputs": [
        {
          "output_type": "stream",
          "name": "stdout",
          "text": [
            "Epoch 1/30\n",
            "235/235 [==============================] - 3s 12ms/step - loss: 0.8139 - accuracy: 0.7570 - val_loss: 0.3988 - val_accuracy: 0.8818\n",
            "Epoch 2/30\n",
            "235/235 [==============================] - 3s 13ms/step - loss: 0.3585 - accuracy: 0.8933 - val_loss: 0.3069 - val_accuracy: 0.9109\n",
            "Epoch 3/30\n",
            "235/235 [==============================] - 3s 15ms/step - loss: 0.3024 - accuracy: 0.9105 - val_loss: 0.2734 - val_accuracy: 0.9215\n",
            "Epoch 4/30\n",
            "235/235 [==============================] - 3s 11ms/step - loss: 0.2696 - accuracy: 0.9206 - val_loss: 0.2626 - val_accuracy: 0.9212\n",
            "Epoch 5/30\n",
            "235/235 [==============================] - 3s 11ms/step - loss: 0.2436 - accuracy: 0.9290 - val_loss: 0.2195 - val_accuracy: 0.9341\n",
            "Epoch 6/30\n",
            "235/235 [==============================] - 3s 11ms/step - loss: 0.2182 - accuracy: 0.9363 - val_loss: 0.1943 - val_accuracy: 0.9425\n",
            "Epoch 7/30\n",
            "235/235 [==============================] - 3s 14ms/step - loss: 0.2004 - accuracy: 0.9417 - val_loss: 0.1864 - val_accuracy: 0.9462\n",
            "Epoch 8/30\n",
            "235/235 [==============================] - 3s 14ms/step - loss: 0.1861 - accuracy: 0.9457 - val_loss: 0.1744 - val_accuracy: 0.9477\n",
            "Epoch 9/30\n",
            "235/235 [==============================] - 3s 11ms/step - loss: 0.1730 - accuracy: 0.9492 - val_loss: 0.1569 - val_accuracy: 0.9525\n",
            "Epoch 10/30\n",
            "235/235 [==============================] - 3s 11ms/step - loss: 0.1599 - accuracy: 0.9527 - val_loss: 0.1688 - val_accuracy: 0.9496\n",
            "Epoch 11/30\n",
            "235/235 [==============================] - 4s 16ms/step - loss: 0.1522 - accuracy: 0.9556 - val_loss: 0.1521 - val_accuracy: 0.9544\n",
            "Epoch 12/30\n",
            "235/235 [==============================] - 4s 17ms/step - loss: 0.1445 - accuracy: 0.9570 - val_loss: 0.1490 - val_accuracy: 0.9552\n",
            "Epoch 13/30\n",
            "235/235 [==============================] - 3s 12ms/step - loss: 0.1359 - accuracy: 0.9593 - val_loss: 0.1261 - val_accuracy: 0.9616\n",
            "Epoch 14/30\n",
            "235/235 [==============================] - 3s 11ms/step - loss: 0.1303 - accuracy: 0.9610 - val_loss: 0.1228 - val_accuracy: 0.9622\n",
            "Epoch 15/30\n",
            "235/235 [==============================] - 3s 11ms/step - loss: 0.1245 - accuracy: 0.9630 - val_loss: 0.1190 - val_accuracy: 0.9649\n",
            "Epoch 16/30\n",
            "235/235 [==============================] - 3s 11ms/step - loss: 0.1167 - accuracy: 0.9650 - val_loss: 0.1217 - val_accuracy: 0.9615\n",
            "Epoch 17/30\n",
            "235/235 [==============================] - 4s 17ms/step - loss: 0.1138 - accuracy: 0.9658 - val_loss: 0.1152 - val_accuracy: 0.9667\n",
            "Epoch 18/30\n",
            "235/235 [==============================] - 3s 11ms/step - loss: 0.1112 - accuracy: 0.9667 - val_loss: 0.1316 - val_accuracy: 0.9593\n",
            "Epoch 19/30\n",
            "235/235 [==============================] - 3s 11ms/step - loss: 0.1058 - accuracy: 0.9685 - val_loss: 0.1100 - val_accuracy: 0.9654\n",
            "Epoch 20/30\n",
            "235/235 [==============================] - 3s 11ms/step - loss: 0.1004 - accuracy: 0.9697 - val_loss: 0.1066 - val_accuracy: 0.9671\n",
            "Epoch 21/30\n",
            "235/235 [==============================] - 3s 11ms/step - loss: 0.0976 - accuracy: 0.9707 - val_loss: 0.1045 - val_accuracy: 0.9672\n",
            "Epoch 22/30\n",
            "235/235 [==============================] - 4s 17ms/step - loss: 0.0929 - accuracy: 0.9715 - val_loss: 0.1068 - val_accuracy: 0.9655\n",
            "Epoch 23/30\n",
            "235/235 [==============================] - 3s 11ms/step - loss: 0.0925 - accuracy: 0.9718 - val_loss: 0.1108 - val_accuracy: 0.9644\n",
            "Epoch 24/30\n",
            "235/235 [==============================] - 3s 11ms/step - loss: 0.0891 - accuracy: 0.9730 - val_loss: 0.1095 - val_accuracy: 0.9668\n",
            "Epoch 25/30\n",
            "235/235 [==============================] - 3s 11ms/step - loss: 0.0882 - accuracy: 0.9722 - val_loss: 0.1009 - val_accuracy: 0.9677\n",
            "Epoch 26/30\n",
            "235/235 [==============================] - 3s 13ms/step - loss: 0.0831 - accuracy: 0.9749 - val_loss: 0.1227 - val_accuracy: 0.9624\n",
            "Epoch 27/30\n",
            "235/235 [==============================] - 4s 16ms/step - loss: 0.0801 - accuracy: 0.9756 - val_loss: 0.1055 - val_accuracy: 0.9663\n",
            "Epoch 28/30\n",
            "235/235 [==============================] - 3s 11ms/step - loss: 0.0778 - accuracy: 0.9761 - val_loss: 0.0906 - val_accuracy: 0.9713\n",
            "Epoch 29/30\n",
            "235/235 [==============================] - 3s 12ms/step - loss: 0.0788 - accuracy: 0.9757 - val_loss: 0.1001 - val_accuracy: 0.9690\n",
            "Epoch 30/30\n",
            "235/235 [==============================] - 3s 11ms/step - loss: 0.0742 - accuracy: 0.9772 - val_loss: 0.1024 - val_accuracy: 0.9696\n",
            "313/313 [==============================] - 1s 3ms/step\n"
          ]
        }
      ]
    },
    {
      "cell_type": "code",
      "source": [
        "# Получаем предсказанные метки классов из вероятностных предсказаний\n",
        "predicted_labels = np.argmax(predictions, axis=-1)\n",
        "\n",
        "# Вычисляем confusion matrix\n",
        "cm = confusion_matrix(mnist_test_y, predicted_labels)\n",
        "\n",
        "# Визуализируем confusion matrix\n",
        "fig, ax = plt.subplots(figsize=(10, 10))\n",
        "ConfusionMatrixDisplay(cm, display_labels=[0, 1, 2, 3, 4, 5, 6, 7, 8, 9]).plot(ax=ax)\n",
        "plt.show()"
      ],
      "metadata": {
        "colab": {
          "base_uri": "https://localhost:8080/",
          "height": 815
        },
        "id": "oRD9wWZ-CwcR",
        "outputId": "f0a78751-e798-4c3f-bcdd-0db80ff391aa"
      },
      "id": "oRD9wWZ-CwcR",
      "execution_count": 47,
      "outputs": [
        {
          "output_type": "display_data",
          "data": {
            "text/plain": [
              "<Figure size 1000x1000 with 2 Axes>"
            ],
            "image/png": "[encoded data removed]"
          },
          "metadata": {}
        }
      ]
    },
    {
      "cell_type": "code",
      "source": [
        "# Получаем отчет о классификации\n",
        "report = classification_report(mnist_test_y, predicted_labels)\n",
        "print(report)"
      ],
      "metadata": {
        "colab": {
          "base_uri": "https://localhost:8080/"
        },
        "id": "NeicFLqOCx1I",
        "outputId": "2c60d549-8777-4af9-c73f-7c648df2b92f"
      },
      "id": "NeicFLqOCx1I",
      "execution_count": 48,
      "outputs": [
        {
          "output_type": "stream",
          "name": "stdout",
          "text": [
            "              precision    recall  f1-score   support\n",
            "\n",
            "           0       0.99      0.97      0.98       980\n",
            "           1       0.98      0.99      0.99      1135\n",
            "           2       0.97      0.96      0.97      1032\n",
            "           3       0.97      0.97      0.97      1010\n",
            "           4       0.98      0.97      0.97       982\n",
            "           5       0.97      0.97      0.97       892\n",
            "           6       0.97      0.99      0.98       958\n",
            "           7       0.95      0.98      0.96      1028\n",
            "           8       0.93      0.98      0.95       974\n",
            "           9       0.98      0.92      0.95      1009\n",
            "\n",
            "    accuracy                           0.97     10000\n",
            "   macro avg       0.97      0.97      0.97     10000\n",
            "weighted avg       0.97      0.97      0.97     10000\n",
            "\n"
          ]
        }
      ]
    }
  ],
  "metadata": {
    "kernelspec": {
      "display_name": "Python 3",
      "language": "python",
      "name": "python3"
    },
    "language_info": {
      "codemirror_mode": {
        "name": "ipython",
        "version": 3
      },
      "file_extension": ".py",
      "mimetype": "text/x-python",
      "name": "python",
      "nbconvert_exporter": "python",
      "pygments_lexer": "ipython3",
      "version": "3.10.6"
    },
    "colab": {
      "provenance": []
    }
  },
  "nbformat": 4,
  "nbformat_minor": 5
}