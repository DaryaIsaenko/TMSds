{
  "nbformat": 4,
  "nbformat_minor": 0,
  "metadata": {
    "colab": {
      "provenance": []
    },
    "kernelspec": {
      "name": "python3",
      "display_name": "Python 3"
    },
    "language_info": {
      "name": "python"
    }
  },
  "cells": [
    {
      "cell_type": "markdown",
      "source": [
        "Используя sqlalchemy, создать базу в ноутбуке, добавить в нее 4 таблицы с данными, и реализовать следующие действия: HAVING, JOIN (LEFT, INNER), UNION, подзапросы."
      ],
      "metadata": {
        "id": "PnsM80sCEwrd"
      }
    },
    {
      "cell_type": "code",
      "execution_count": 1,
      "metadata": {
        "colab": {
          "base_uri": "https://localhost:8080/"
        },
        "id": "avf7Fun7EplP",
        "outputId": "1ad3c553-0724-4618-f141-e1a30f68103e"
      },
      "outputs": [
        {
          "output_type": "stream",
          "name": "stdout",
          "text": [
            "Requirement already satisfied: sqlalchemy in /usr/local/lib/python3.10/dist-packages (2.0.27)\n",
            "Requirement already satisfied: typing-extensions>=4.6.0 in /usr/local/lib/python3.10/dist-packages (from sqlalchemy) (4.10.0)\n",
            "Requirement already satisfied: greenlet!=0.4.17 in /usr/local/lib/python3.10/dist-packages (from sqlalchemy) (3.0.3)\n"
          ]
        }
      ],
      "source": [
        "!pip install sqlalchemy"
      ]
    },
    {
      "cell_type": "code",
      "source": [
        "import sqlalchemy as db"
      ],
      "metadata": {
        "id": "k0wiqFI0FDo0"
      },
      "execution_count": 2,
      "outputs": []
    },
    {
      "cell_type": "code",
      "source": [
        "engine = db.create_engine('sqlite:///mydb.db')"
      ],
      "metadata": {
        "id": "nolsNouHFFVF"
      },
      "execution_count": 3,
      "outputs": []
    },
    {
      "cell_type": "code",
      "source": [
        "conn = engine.connect()"
      ],
      "metadata": {
        "id": "siHO55OQFHGc"
      },
      "execution_count": 4,
      "outputs": []
    },
    {
      "cell_type": "code",
      "source": [
        "metadata = db.MetaData()"
      ],
      "metadata": {
        "id": "-dlzOHjCFIzT"
      },
      "execution_count": 5,
      "outputs": []
    },
    {
      "cell_type": "code",
      "source": [
        "trainers = db.Table(\n",
        "    'Trainer', metadata,\n",
        "    db.Column('trainer_id', db.Integer, primary_key=True),\n",
        "    db.Column('first_name', db.Text),\n",
        "    db.Column('last_name', db.Text),\n",
        "    db.Column('sex', db.Text)\n",
        ")\n",
        "\n",
        "swimmers = db.Table(\n",
        "    'Swimmer', metadata,\n",
        "    db.Column('swimmer_id', db.Integer, primary_key=True),\n",
        "    db.Column('first_name', db.Text),\n",
        "    db.Column('last_name', db.Text),\n",
        "    db.Column('birthday', db.Text),\n",
        "    db.Column('sex', db.Text),\n",
        "    db.Column('trainer_id', db.Integer, db.ForeignKey('Trainer.trainer_id'), nullable=False)\n",
        ")\n",
        "\n",
        "competitions = db.Table(\n",
        "    'Competition', metadata,\n",
        "    db.Column('competition_id', db.Integer, primary_key=True),\n",
        "    db.Column('name', db.Text),\n",
        "    db.Column('date', db.Text),\n",
        "    db.Column('place', db.Text)\n",
        ")\n",
        "\n",
        "swimmer_in_competition = db.Table(\n",
        "    'Swimmer_in_competition', metadata,\n",
        "    db.Column('id', db.Integer, primary_key=True),\n",
        "    db.Column('competition_id', db.Integer, db.ForeignKey('Competition.competition_id'), nullable=False),\n",
        "    db.Column('swimmer_id', db.Integer, db.ForeignKey('Swimmer.swimmer_id'), nullable=False)\n",
        ")"
      ],
      "metadata": {
        "id": "ZRp9p-iHFKej"
      },
      "execution_count": 6,
      "outputs": []
    },
    {
      "cell_type": "code",
      "source": [
        "metadata.create_all(engine)"
      ],
      "metadata": {
        "id": "21Kwq4RYFfAz"
      },
      "execution_count": 7,
      "outputs": []
    },
    {
      "cell_type": "code",
      "source": [
        "insertion = trainers.insert().values([\n",
        "    {'first_name': 'Linell', 'last_name': 'Senussi', 'sex': 'Female'},\n",
        "    {'first_name': 'Rufe', 'last_name': 'Brezlaw', 'sex': 'Male'},\n",
        "    {'first_name': 'Byram', 'last_name': 'Tibbits', 'sex': 'Male'},\n",
        "    {'first_name': 'Stavro', 'last_name': 'Allchin', 'sex': 'Male'},\n",
        "    {'first_name': 'Park', 'last_name': 'Gorries', 'sex': 'Male'},\n",
        "    {'first_name': 'Cariotta', 'last_name': 'Jacquemet', 'sex': 'Female'},\n",
        "    {'first_name': 'Leigh', 'last_name': 'Thornthwaite', 'sex': 'Female'}\n",
        "])\n",
        "\n",
        "conn.execute(insertion)"
      ],
      "metadata": {
        "colab": {
          "base_uri": "https://localhost:8080/"
        },
        "id": "t5NqKC1jFhBD",
        "outputId": "858eb79d-fa8d-4cc3-ec71-cacea3c136bd"
      },
      "execution_count": 8,
      "outputs": [
        {
          "output_type": "execute_result",
          "data": {
            "text/plain": [
              "<sqlalchemy.engine.cursor.CursorResult at 0x7b02ff711600>"
            ]
          },
          "metadata": {},
          "execution_count": 8
        }
      ]
    },
    {
      "cell_type": "code",
      "source": [
        "select_all_query = db.select(trainers)\n",
        "select_result = conn.execute(select_all_query)\n",
        "select_result.fetchall()"
      ],
      "metadata": {
        "colab": {
          "base_uri": "https://localhost:8080/"
        },
        "id": "JJ58v2tVFioE",
        "outputId": "fb696036-40b3-427e-b7e7-0a8e4ea17c1d"
      },
      "execution_count": 9,
      "outputs": [
        {
          "output_type": "execute_result",
          "data": {
            "text/plain": [
              "[(1, 'Linell', 'Senussi', 'Female'),\n",
              " (2, 'Rufe', 'Brezlaw', 'Male'),\n",
              " (3, 'Byram', 'Tibbits', 'Male'),\n",
              " (4, 'Stavro', 'Allchin', 'Male'),\n",
              " (5, 'Park', 'Gorries', 'Male'),\n",
              " (6, 'Cariotta', 'Jacquemet', 'Female'),\n",
              " (7, 'Leigh', 'Thornthwaite', 'Female')]"
            ]
          },
          "metadata": {},
          "execution_count": 9
        }
      ]
    },
    {
      "cell_type": "code",
      "source": [
        "insertion = swimmers.insert().values([\n",
        "    {'first_name': 'Flem', 'last_name': 'Lambot', 'birthday': '1998-10-13', 'sex': 'Male', 'trainer_id': 1},\n",
        "    {'first_name': 'Adriena', 'last_name': 'Sygroves', 'birthday': '1997-08-20', 'sex': 'Female', 'trainer_id': 2},\n",
        "    {'first_name': 'Jami', 'last_name': 'Dullard', 'birthday': '1991-09-25', 'sex': 'Male', 'trainer_id': 3},\n",
        "    {'first_name': 'Patrizius', 'last_name': 'Quincey', 'birthday': '1996-06-15', 'sex': 'Male', 'trainer_id': 7},\n",
        "    {'first_name': 'Marijo', 'last_name': 'Whickman', 'birthday': '1991-10-09', 'sex': 'Female', 'trainer_id': 1},\n",
        "    {'first_name': 'Rorie', 'last_name': 'Seamer', 'birthday': '1996-12-16', 'sex': 'Female', 'trainer_id': 4},\n",
        "    {'first_name': 'Eduard', 'last_name': 'Winthrop', 'birthday': '1996-04-17', 'sex': 'Male', 'trainer_id': 1},\n",
        "    {'first_name': 'Jess', 'last_name': 'Legg', 'birthday': 'Legg', 'sex': 'Male', 'trainer_id': 4},\n",
        "    {'first_name': 'Farlee', 'last_name': 'MacAfee', 'birthday': '1996-05-23', 'sex': 'Male', 'trainer_id': 2},\n",
        "    {'first_name': 'Quinton', 'last_name': 'Askin', 'birthday': '1991-05-21', 'sex': 'Male', 'trainer_id': 5},\n",
        "    {'first_name': 'Karel', 'last_name': 'Gethouse', 'birthday': '1998-10-19', 'sex': 'Female', 'trainer_id': 2},\n",
        "    {'first_name': 'Brianne', 'last_name': 'Thay', 'birthday': '2000-07-13', 'sex': 'Female', 'trainer_id': 5},\n",
        "    {'first_name': 'Tommie', 'last_name': 'Nickels', 'birthday': '1991-07-05', 'sex': 'Male', 'trainer_id': 3},\n",
        "    {'first_name': 'Brad', 'last_name': 'Nicholls', 'birthday': '1997-03-14', 'sex': 'Male', 'trainer_id': 6},\n",
        "    {'first_name': 'Lonnard', 'last_name': 'Castagnier', 'birthday': '1991-04-25', 'sex': 'Male', 'trainer_id': 6},\n",
        "    {'first_name': 'Carver', 'last_name': 'Reaney', 'birthday': '1995-12-14', 'sex': 'Male', 'trainer_id': 3},\n",
        "    {'first_name': 'Jard', 'last_name': 'Float', 'birthday': '1994-03-03', 'sex': 'Male', 'trainer_id': 7},\n",
        "    {'first_name': 'Agustin', 'last_name': 'Adlam', 'birthday': '1991-05-12', 'sex': 'Male', 'trainer_id': 7},\n",
        "    {'first_name': 'Ulrikaumeko', 'last_name': 'Drohun', 'birthday': '1992-06-16', 'sex': 'Female', 'trainer_id': 7},\n",
        "    {'first_name': 'Ines', 'last_name': 'Quartly', 'birthday': '1990-03-04', 'sex': 'Female', 'trainer_id': 7}\n",
        "])\n",
        "\n",
        "conn.execute(insertion)"
      ],
      "metadata": {
        "colab": {
          "base_uri": "https://localhost:8080/"
        },
        "id": "k4RxsCCaFoF8",
        "outputId": "adad9b28-316c-4294-86c4-b16a7158d65d"
      },
      "execution_count": 10,
      "outputs": [
        {
          "output_type": "execute_result",
          "data": {
            "text/plain": [
              "<sqlalchemy.engine.cursor.CursorResult at 0x7b03301dfc40>"
            ]
          },
          "metadata": {},
          "execution_count": 10
        }
      ]
    },
    {
      "cell_type": "code",
      "source": [
        "select_all_query = db.select(swimmers)\n",
        "select_result = conn.execute(select_all_query)\n",
        "select_result.fetchall()"
      ],
      "metadata": {
        "colab": {
          "base_uri": "https://localhost:8080/"
        },
        "id": "59Kbpar5GAt0",
        "outputId": "e76ddefa-ba09-465d-fbb1-e29f783cfdad"
      },
      "execution_count": 11,
      "outputs": [
        {
          "output_type": "execute_result",
          "data": {
            "text/plain": [
              "[(1, 'Flem', 'Lambot', '1998-10-13', 'Male', 1),\n",
              " (2, 'Adriena', 'Sygroves', '1997-08-20', 'Female', 2),\n",
              " (3, 'Jami', 'Dullard', '1991-09-25', 'Male', 3),\n",
              " (4, 'Patrizius', 'Quincey', '1996-06-15', 'Male', 7),\n",
              " (5, 'Marijo', 'Whickman', '1991-10-09', 'Female', 1),\n",
              " (6, 'Rorie', 'Seamer', '1996-12-16', 'Female', 4),\n",
              " (7, 'Eduard', 'Winthrop', '1996-04-17', 'Male', 1),\n",
              " (8, 'Jess', 'Legg', 'Legg', 'Male', 4),\n",
              " (9, 'Farlee', 'MacAfee', '1996-05-23', 'Male', 2),\n",
              " (10, 'Quinton', 'Askin', '1991-05-21', 'Male', 5),\n",
              " (11, 'Karel', 'Gethouse', '1998-10-19', 'Female', 2),\n",
              " (12, 'Brianne', 'Thay', '2000-07-13', 'Female', 5),\n",
              " (13, 'Tommie', 'Nickels', '1991-07-05', 'Male', 3),\n",
              " (14, 'Brad', 'Nicholls', '1997-03-14', 'Male', 6),\n",
              " (15, 'Lonnard', 'Castagnier', '1991-04-25', 'Male', 6),\n",
              " (16, 'Carver', 'Reaney', '1995-12-14', 'Male', 3),\n",
              " (17, 'Jard', 'Float', '1994-03-03', 'Male', 7),\n",
              " (18, 'Agustin', 'Adlam', '1991-05-12', 'Male', 7),\n",
              " (19, 'Ulrikaumeko', 'Drohun', '1992-06-16', 'Female', 7),\n",
              " (20, 'Ines', 'Quartly', '1990-03-04', 'Female', 7)]"
            ]
          },
          "metadata": {},
          "execution_count": 11
        }
      ]
    },
    {
      "cell_type": "code",
      "source": [
        "insertion = competitions.insert().values([\n",
        "    {'name': 'Gembucket', 'date': '2023-09-30', 'place': '58 Northridge Pass'},\n",
        "    {'name': 'Vagram', 'date': '2023-09-18', 'place': '0606 Towne Place'},\n",
        "    {'name': 'Alpha', 'date': '2022-10-22', 'place': '95722 Schurz Alley'},\n",
        "    {'name': 'Lotlux', 'date': '2023-05-13', 'place': '01266 Bobwhite Hill'}\n",
        "])\n",
        "\n",
        "conn.execute(insertion)"
      ],
      "metadata": {
        "colab": {
          "base_uri": "https://localhost:8080/"
        },
        "id": "yil95lwmGEsk",
        "outputId": "9493065e-a134-43c5-f1b1-cf76a21aa9db"
      },
      "execution_count": 12,
      "outputs": [
        {
          "output_type": "execute_result",
          "data": {
            "text/plain": [
              "<sqlalchemy.engine.cursor.CursorResult at 0x7b02ff79b340>"
            ]
          },
          "metadata": {},
          "execution_count": 12
        }
      ]
    },
    {
      "cell_type": "code",
      "source": [
        "select_all_query = db.select(competitions)\n",
        "select_result = conn.execute(select_all_query)\n",
        "select_result.fetchall()"
      ],
      "metadata": {
        "colab": {
          "base_uri": "https://localhost:8080/"
        },
        "id": "Bg79mVjUGIXj",
        "outputId": "ab9cd84e-6ce0-44c4-fb78-d382480c91af"
      },
      "execution_count": 13,
      "outputs": [
        {
          "output_type": "execute_result",
          "data": {
            "text/plain": [
              "[(1, 'Gembucket', '2023-09-30', '58 Northridge Pass'),\n",
              " (2, 'Vagram', '2023-09-18', '0606 Towne Place'),\n",
              " (3, 'Alpha', '2022-10-22', '95722 Schurz Alley'),\n",
              " (4, 'Lotlux', '2023-05-13', '01266 Bobwhite Hill')]"
            ]
          },
          "metadata": {},
          "execution_count": 13
        }
      ]
    },
    {
      "cell_type": "code",
      "source": [
        "insertion = swimmer_in_competition.insert().values([\n",
        "    {'competition_id': 4, 'swimmer_id': 2},\n",
        "    {'competition_id': 2, 'swimmer_id': 20},\n",
        "    {'competition_id': 1, 'swimmer_id': 1},\n",
        "    {'competition_id': 3, 'swimmer_id': 20},\n",
        "    {'competition_id': 3, 'swimmer_id': 2},\n",
        "    {'competition_id': 4, 'swimmer_id': 15},\n",
        "    {'competition_id': 1, 'swimmer_id': 2},\n",
        "    {'competition_id': 2, 'swimmer_id': 17},\n",
        "    {'competition_id': 1, 'swimmer_id': 2},\n",
        "    {'competition_id': 3, 'swimmer_id': 7},\n",
        "    {'competition_id': 4, 'swimmer_id': 3},\n",
        "    {'competition_id': 2, 'swimmer_id': 13},\n",
        "    {'competition_id': 1, 'swimmer_id': 7},\n",
        "    {'competition_id': 1, 'swimmer_id': 16},\n",
        "    {'competition_id': 2, 'swimmer_id': 6}\n",
        "])\n",
        "\n",
        "conn.execute(insertion)"
      ],
      "metadata": {
        "colab": {
          "base_uri": "https://localhost:8080/"
        },
        "id": "WL1vMO3OGLkE",
        "outputId": "7d670d43-6e06-4b1e-c58a-2ff97a8e53f5"
      },
      "execution_count": 14,
      "outputs": [
        {
          "output_type": "execute_result",
          "data": {
            "text/plain": [
              "<sqlalchemy.engine.cursor.CursorResult at 0x7b02ff710f40>"
            ]
          },
          "metadata": {},
          "execution_count": 14
        }
      ]
    },
    {
      "cell_type": "code",
      "source": [
        "select_all_query = db.select(swimmer_in_competition)\n",
        "select_result = conn.execute(select_all_query)\n",
        "select_result.fetchall()"
      ],
      "metadata": {
        "colab": {
          "base_uri": "https://localhost:8080/"
        },
        "id": "dreX2-jJGTJz",
        "outputId": "6995d853-608a-4675-916b-c3f814e207af"
      },
      "execution_count": 15,
      "outputs": [
        {
          "output_type": "execute_result",
          "data": {
            "text/plain": [
              "[(1, 4, 2),\n",
              " (2, 2, 20),\n",
              " (3, 1, 1),\n",
              " (4, 3, 20),\n",
              " (5, 3, 2),\n",
              " (6, 4, 15),\n",
              " (7, 1, 2),\n",
              " (8, 2, 17),\n",
              " (9, 1, 2),\n",
              " (10, 3, 7),\n",
              " (11, 4, 3),\n",
              " (12, 2, 13),\n",
              " (13, 1, 7),\n",
              " (14, 1, 16),\n",
              " (15, 2, 6)]"
            ]
          },
          "metadata": {},
          "execution_count": 15
        }
      ]
    },
    {
      "cell_type": "code",
      "source": [
        "# HAVING, INNER JOIN\n",
        "# Trainers who have more than 2 student-swimmers\n",
        "query = (\n",
        "    db.select((trainers.columns.first_name + ' ' + trainers.columns.last_name).label('trainer_name'), db.func.count(swimmers.columns.trainer_id).label('count'))\n",
        "    .select_from(trainers)\n",
        "    .join(swimmers, trainers.c.trainer_id == swimmers.c.trainer_id)\n",
        "    .group_by(trainers.c.first_name, trainers.c.last_name)\n",
        "    .having(db.func.count(swimmers.c.trainer_id) > 2)\n",
        "    .order_by(db.desc('count'))\n",
        ")\n",
        "\n",
        "print(f'Query:\\n{query}')\n",
        "print('\\nResult:')\n",
        "for i in conn.execute(query).fetchall():\n",
        "  print(i)"
      ],
      "metadata": {
        "colab": {
          "base_uri": "https://localhost:8080/"
        },
        "id": "eMQwauseGVuD",
        "outputId": "ed246764-9bfa-473d-ba53-2ec6969edd73"
      },
      "execution_count": 16,
      "outputs": [
        {
          "output_type": "stream",
          "name": "stdout",
          "text": [
            "Query:\n",
            "SELECT \"Trainer\".first_name || :first_name_1 || \"Trainer\".last_name AS trainer_name, count(\"Swimmer\".trainer_id) AS count \n",
            "FROM \"Trainer\" JOIN \"Swimmer\" ON \"Trainer\".trainer_id = \"Swimmer\".trainer_id GROUP BY \"Trainer\".first_name, \"Trainer\".last_name \n",
            "HAVING count(\"Swimmer\".trainer_id) > :count_1 ORDER BY count DESC\n",
            "\n",
            "Result:\n",
            "('Leigh Thornthwaite', 5)\n",
            "('Byram Tibbits', 3)\n",
            "('Linell Senussi', 3)\n",
            "('Rufe Brezlaw', 3)\n"
          ]
        }
      ]
    },
    {
      "cell_type": "code",
      "source": [
        "# LEFT JOIN (isouter=True)\n",
        "# Number of competitions in which swimmers participated\n",
        "query = (\n",
        "    db.select((swimmers.c.first_name + ' ' + swimmers.c.last_name).label('swimmer_name'), db.func.count(swimmer_in_competition.c.competition_id).label('count'))\n",
        "    .select_from(swimmers)\n",
        "    .join(swimmer_in_competition, swimmers.c.swimmer_id == swimmer_in_competition.c.swimmer_id, isouter=True)\n",
        "    .group_by(swimmers.c.first_name, swimmers.c.last_name)\n",
        "    .order_by(db.desc('count'))\n",
        ")\n",
        "\n",
        "print(f'Query:\\n{query}')\n",
        "print('\\nResult:')\n",
        "for i in conn.execute(query).fetchall():\n",
        "  print(i)"
      ],
      "metadata": {
        "colab": {
          "base_uri": "https://localhost:8080/"
        },
        "id": "JSrbK_PpGdwE",
        "outputId": "9d5214a4-c90e-438e-af4a-de1bb4226266"
      },
      "execution_count": 17,
      "outputs": [
        {
          "output_type": "stream",
          "name": "stdout",
          "text": [
            "Query:\n",
            "SELECT \"Swimmer\".first_name || :first_name_1 || \"Swimmer\".last_name AS swimmer_name, count(\"Swimmer_in_competition\".competition_id) AS count \n",
            "FROM \"Swimmer\" LEFT OUTER JOIN \"Swimmer_in_competition\" ON \"Swimmer\".swimmer_id = \"Swimmer_in_competition\".swimmer_id GROUP BY \"Swimmer\".first_name, \"Swimmer\".last_name ORDER BY count DESC\n",
            "\n",
            "Result:\n",
            "('Adriena Sygroves', 4)\n",
            "('Eduard Winthrop', 2)\n",
            "('Ines Quartly', 2)\n",
            "('Carver Reaney', 1)\n",
            "('Flem Lambot', 1)\n",
            "('Jami Dullard', 1)\n",
            "('Jard Float', 1)\n",
            "('Lonnard Castagnier', 1)\n",
            "('Rorie Seamer', 1)\n",
            "('Tommie Nickels', 1)\n",
            "('Agustin Adlam', 0)\n",
            "('Brad Nicholls', 0)\n",
            "('Brianne Thay', 0)\n",
            "('Farlee MacAfee', 0)\n",
            "('Jess Legg', 0)\n",
            "('Karel Gethouse', 0)\n",
            "('Marijo Whickman', 0)\n",
            "('Patrizius Quincey', 0)\n",
            "('Quinton Askin', 0)\n",
            "('Ulrikaumeko Drohun', 0)\n"
          ]
        }
      ]
    },
    {
      "cell_type": "code",
      "source": [
        "# UNION\n",
        "# List of swimmers and trainers\n",
        "query_swimmers = db.select((swimmers.c.first_name + ' ' + swimmers.c.last_name).label('name'))\n",
        "query_trainers = db.select((trainers.c.first_name + ' ' + trainers.c.last_name).label('name'))\n",
        "u = db.union(query_swimmers, query_trainers)\n",
        "\n",
        "print(f'Query:\\n{u}')\n",
        "print('\\nResult:')\n",
        "for i in conn.execute(u).fetchall():\n",
        "  print(i)"
      ],
      "metadata": {
        "colab": {
          "base_uri": "https://localhost:8080/"
        },
        "id": "DgWx5SQgGg87",
        "outputId": "65ff122d-24b4-4a30-ef5c-7a78d6bb46f7"
      },
      "execution_count": 18,
      "outputs": [
        {
          "output_type": "stream",
          "name": "stdout",
          "text": [
            "Query:\n",
            "SELECT \"Swimmer\".first_name || :first_name_1 || \"Swimmer\".last_name AS name \n",
            "FROM \"Swimmer\" UNION SELECT \"Trainer\".first_name || :first_name_2 || \"Trainer\".last_name AS name \n",
            "FROM \"Trainer\"\n",
            "\n",
            "Result:\n",
            "('Adriena Sygroves',)\n",
            "('Agustin Adlam',)\n",
            "('Brad Nicholls',)\n",
            "('Brianne Thay',)\n",
            "('Byram Tibbits',)\n",
            "('Cariotta Jacquemet',)\n",
            "('Carver Reaney',)\n",
            "('Eduard Winthrop',)\n",
            "('Farlee MacAfee',)\n",
            "('Flem Lambot',)\n",
            "('Ines Quartly',)\n",
            "('Jami Dullard',)\n",
            "('Jard Float',)\n",
            "('Jess Legg',)\n",
            "('Karel Gethouse',)\n",
            "('Leigh Thornthwaite',)\n",
            "('Linell Senussi',)\n",
            "('Lonnard Castagnier',)\n",
            "('Marijo Whickman',)\n",
            "('Park Gorries',)\n",
            "('Patrizius Quincey',)\n",
            "('Quinton Askin',)\n",
            "('Rorie Seamer',)\n",
            "('Rufe Brezlaw',)\n",
            "('Stavro Allchin',)\n",
            "('Tommie Nickels',)\n",
            "('Ulrikaumeko Drohun',)\n"
          ]
        }
      ]
    },
    {
      "cell_type": "code",
      "source": [
        "# SUBQUERY\n",
        "# Swimmers who participated in the last competition\n",
        "subq = (\n",
        "    db.select(competitions.c.competition_id)\n",
        "    .order_by(db.desc(competitions.c.date))\n",
        "    .limit(1)\n",
        "    .scalar_subquery()\n",
        ")\n",
        "\n",
        "query = (\n",
        "    db.select((swimmers.c.first_name + ' ' + swimmers.c.last_name).label('name'))\n",
        "    .select_from(swimmers)\n",
        "    .join(swimmer_in_competition, swimmers.c.swimmer_id == swimmer_in_competition.c.swimmer_id)\n",
        "    .where(swimmer_in_competition.c.competition_id == subq)\n",
        ")\n",
        "\n",
        "print(f'Subquery:\\n{subq}\\n')\n",
        "print(f'Query:\\n{query}')\n",
        "print('\\nResult:')\n",
        "for i in conn.execute(query).fetchall():\n",
        "  print(i)"
      ],
      "metadata": {
        "colab": {
          "base_uri": "https://localhost:8080/"
        },
        "id": "joaNXdMKGkLE",
        "outputId": "53b7b429-1d86-4014-d3b7-47ee80ecd8ed"
      },
      "execution_count": 19,
      "outputs": [
        {
          "output_type": "stream",
          "name": "stdout",
          "text": [
            "Subquery:\n",
            "(SELECT \"Competition\".competition_id \n",
            "FROM \"Competition\" ORDER BY \"Competition\".date DESC\n",
            " LIMIT :param_1)\n",
            "\n",
            "Query:\n",
            "SELECT \"Swimmer\".first_name || :first_name_1 || \"Swimmer\".last_name AS name \n",
            "FROM \"Swimmer\" JOIN \"Swimmer_in_competition\" ON \"Swimmer\".swimmer_id = \"Swimmer_in_competition\".swimmer_id \n",
            "WHERE \"Swimmer_in_competition\".competition_id = (SELECT \"Competition\".competition_id \n",
            "FROM \"Competition\" ORDER BY \"Competition\".date DESC\n",
            " LIMIT :param_1)\n",
            "\n",
            "Result:\n",
            "('Flem Lambot',)\n",
            "('Adriena Sygroves',)\n",
            "('Adriena Sygroves',)\n",
            "('Eduard Winthrop',)\n",
            "('Carver Reaney',)\n"
          ]
        }
      ]
    }
  ]
}