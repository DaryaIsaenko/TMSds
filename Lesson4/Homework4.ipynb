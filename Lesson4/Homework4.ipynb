{
  "nbformat": 4,
  "nbformat_minor": 0,
  "metadata": {
    "colab": {
      "provenance": []
    },
    "kernelspec": {
      "name": "python3",
      "display_name": "Python 3"
    },
    "language_info": {
      "name": "python"
    }
  },
  "cells": [
    {
      "cell_type": "markdown",
      "source": [
        "1. Написать функцию, вычисляющее значение функции при х = 1.79\n",
        "![equation.PNG](data:image/png;base64,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)"
      ],
      "metadata": {
        "id": "16071Eaz4mXv"
      }
    },
    {
      "cell_type": "code",
      "execution_count": 1,
      "metadata": {
        "id": "_GdvyxQiJAm7",
        "colab": {
          "base_uri": "https://localhost:8080/"
        },
        "outputId": "4640ef5d-7c10-44ce-9bd5-6f5cbccb4fe5"
      },
      "outputs": [
        {
          "output_type": "execute_result",
          "data": {
            "text/plain": [
              "2.775368323057839"
            ]
          },
          "metadata": {},
          "execution_count": 1
        }
      ],
      "source": [
        "# 1\n",
        "import math\n",
        "\n",
        "def solve_equation(x):\n",
        "  y = (math.cos(math.e ** x) + math.log(1 + x) ** 2 +\n",
        "       math.sqrt(math.e ** math.cos(x) + math.sin(math.pi * x) **2) +\n",
        "       math.sqrt(1 / x) + math.cos(x ** 2)) ** math.sin(x)\n",
        "  return y\n",
        "\n",
        "x = 1.79\n",
        "solve_equation(x)"
      ]
    },
    {
      "cell_type": "markdown",
      "source": [
        "2. Напишите функцию search_substr(subst, st), которая принимает 2 строки и определяет, имеется ли подстрока subst в строке st. В случае нахождения подстроки, возвращается фраза «Есть контакт!», а иначе «Мимо!». Должно быть найдено совпадение независимо от регистра обеих строк."
      ],
      "metadata": {
        "id": "B94XuHCe5J0C"
      }
    },
    {
      "cell_type": "code",
      "source": [
        "# 2\n",
        "def search_substr(subst, st):\n",
        "  if subst.lower() in st.lower():\n",
        "    print('Есть контакт!')\n",
        "  else:\n",
        "    print('Мимо!')\n",
        "\n",
        "subst = 'heLLO'\n",
        "st = 'Hello World!'\n",
        "search_substr(subst, st)"
      ],
      "metadata": {
        "colab": {
          "base_uri": "https://localhost:8080/"
        },
        "id": "Fthd82CcJ3Zh",
        "outputId": "e1fd88f7-d623-4cbe-ccb9-257b26437e42"
      },
      "execution_count": 2,
      "outputs": [
        {
          "output_type": "stream",
          "name": "stdout",
          "text": [
            "Есть контакт!\n"
          ]
        }
      ]
    },
    {
      "cell_type": "markdown",
      "source": [
        "3. На основании строки определить 3 наиболее часто встречаемых символа в ней. Пробелы нужно игнорировать (не учитывать при подсчете). Для простоты подсчета количества вхождений символов удобно использовать Counter из модуля collections.\n"
      ],
      "metadata": {
        "id": "Du9sjjR75Z9l"
      }
    },
    {
      "cell_type": "code",
      "source": [
        "# 3\n",
        "from collections import Counter\n",
        "\n",
        "def top3_symbols(s):\n",
        "  s = s.replace(' ', '').lower()\n",
        "  symbols_cnt = Counter(s)\n",
        "  top3_symbols = {}\n",
        "\n",
        "  for top in range(3): # top 3\n",
        "    max_val = max(symbols_cnt.values())\n",
        "    for key, val in list(symbols_cnt.items()):\n",
        "      if val == max_val:\n",
        "        top3_symbols[key] = val # insert\n",
        "        symbols_cnt.pop(key) # delete\n",
        "\n",
        "  return top3_symbols\n",
        "\n",
        "\n",
        "s = 'Hello World! 112hLLho'\n",
        "top3_symbols(s)"
      ],
      "metadata": {
        "colab": {
          "base_uri": "https://localhost:8080/"
        },
        "id": "AH91YBbeMHrI",
        "outputId": "fd23c41d-2d48-45e8-8991-c34c6e2177ed"
      },
      "execution_count": 3,
      "outputs": [
        {
          "output_type": "execute_result",
          "data": {
            "text/plain": [
              "{'l': 5, 'h': 3, 'o': 3, '1': 2}"
            ]
          },
          "metadata": {},
          "execution_count": 3
        }
      ]
    },
    {
      "cell_type": "markdown",
      "source": [
        "4. Дана строка в виде случайной последовательности чисел от 0 до 9. Требуется создать словарь, который в качестве ключей будет принимать данные числа (т.е. ключи будут типом int), а в качестве значений – количество этих чисел в имеющейся последовательности. Для построения словаря создайте функцию count_it(sequence), принимающую строку из цифр. Функция должна возвратить словарь из 3-х самых часто встречаемых чисел.\n"
      ],
      "metadata": {
        "id": "JsewQ67M5lnd"
      }
    },
    {
      "cell_type": "code",
      "source": [
        "# 4\n",
        "from collections import Counter\n",
        "\n",
        "def count_it(sequence):\n",
        "  numbers_str = dict(Counter(sequence))\n",
        "  numbers_int = {}\n",
        "\n",
        "  for key, val in numbers_str.items():  # int type\n",
        "    numbers_int[int(key)] = val\n",
        "\n",
        "  top3_numbers = {}\n",
        "  for top in range(3): # top 3\n",
        "    max_val = max(numbers_int.values())\n",
        "    for key, val in list(numbers_int.items()):\n",
        "      if val == max_val:\n",
        "        top3_numbers[key] = val # inset\n",
        "        numbers_int.pop(key) # delete\n",
        "\n",
        "  return top3_numbers\n",
        "\n",
        "\n",
        "sequence = '34686151570052516464534548'\n",
        "count_it(sequence)"
      ],
      "metadata": {
        "colab": {
          "base_uri": "https://localhost:8080/"
        },
        "id": "Dxw0YvNuRIiP",
        "outputId": "72a05da4-5489-4f29-e304-8d001c101860"
      },
      "execution_count": 4,
      "outputs": [
        {
          "output_type": "execute_result",
          "data": {
            "text/plain": [
              "{5: 6, 4: 5, 6: 4}"
            ]
          },
          "metadata": {},
          "execution_count": 4
        }
      ]
    },
    {
      "cell_type": "markdown",
      "source": [
        "5. Шахматы. у вас есть стандартное поле 8*8, после введения координат (a, b) нахождения вашей фигуры и фигуры соперника (с, d), необходимо получить ответ, угрожает ли вражеская фигура вам\n",
        "1) вражеская фигура ферзь\n",
        "2) вражеская фигура конь"
      ],
      "metadata": {
        "id": "oSvapOwG5xAP"
      }
    },
    {
      "cell_type": "code",
      "source": [
        "# 5.1 ферзь\n",
        "def chess():\n",
        "  a, b = map(int, input('Введите координаты вашей шахматной фигуры: ').split())\n",
        "  c, d = map(int, input('Введите координаты шахматной фигуры соперника: ').split())\n",
        "\n",
        "  if (a < 1 or a > 8) or (b < 1 or b > 8) or (c < 1 or c > 8) or (d < 1 or d > 8):\n",
        "    print('Неверные координаты. Координаты должны быть от 1 до 8.')\n",
        "  else:\n",
        "    if a == c or b == d or a - b == c - d or a + b == c + d:\n",
        "      print('Вражеская фигура ферзь вам угрожает!')\n",
        "    else:\n",
        "      print('Вражеская фигура ферзь вам не угрожает.')\n",
        "\n",
        "chess()"
      ],
      "metadata": {
        "colab": {
          "base_uri": "https://localhost:8080/"
        },
        "id": "j8QIqzERyBM3",
        "outputId": "7927c424-6ee9-447e-fb1f-a59e962a5b4e"
      },
      "execution_count": 5,
      "outputs": [
        {
          "output_type": "stream",
          "name": "stdout",
          "text": [
            "Введите координаты вашей шахматной фигуры: 5 6\n",
            "Введите координаты шахматной фигуры соперника: 5 3\n",
            "Вражеская фигура ферзь вам угрожает!\n"
          ]
        }
      ]
    },
    {
      "cell_type": "code",
      "source": [
        "# 5.2 конь\n",
        "def chess():\n",
        "  a, b = map(int, input('Введите координаты вашей шахматной фигуры: ').split())\n",
        "  c, d = map(int, input('Введите координаты шахматной фигуры соперника: ').split())\n",
        "\n",
        "  if (a < 1 or a > 8) or (b < 1 or b > 8) or (c < 1 or c > 8) or (d < 1 or d > 8):\n",
        "    print('Неверные координаты. Координаты должны быть от 1 до 8.')\n",
        "  else:\n",
        "    if (abs(a - c) == 1 and abs(b - d) == 2) or (abs(a - c) == 2 and abs(b - d) == 1):\n",
        "      print('Вражеская фигура конь вам угрожает!')\n",
        "    else:\n",
        "      print('Вражеская фигура конь вам не угрожает.')\n",
        "\n",
        "chess()"
      ],
      "metadata": {
        "colab": {
          "base_uri": "https://localhost:8080/"
        },
        "id": "08yuwbQVDq6Y",
        "outputId": "1b3504f9-3ab9-484a-a96d-11d32906883b"
      },
      "execution_count": 7,
      "outputs": [
        {
          "output_type": "stream",
          "name": "stdout",
          "text": [
            "Введите координаты вашей шахматной фигуры: 4 4\n",
            "Введите координаты шахматной фигуры соперника: 5 6\n",
            "Вражеская фигура конь вам угрожает!\n"
          ]
        }
      ]
    },
    {
      "cell_type": "markdown",
      "source": [
        "5.3. Шахматы. у вас есть стандартное поле 8*8, после введения координат (a, b) нахождения вашей фигуры конь и фигуры соперника (с, d). Необходимо определить, угрожаете ли вы сопернику, с учетом того, что у вас есть ход. (проверить состояние до и после хода, координаты хода рассчитывается автоматически, соперник стоит на\n",
        "месте)."
      ],
      "metadata": {
        "id": "WOzHi3JR6QDL"
      }
    },
    {
      "cell_type": "code",
      "source": [
        "# 5.3\n",
        "import random\n",
        "\n",
        "def chess():\n",
        "  a, b = map(int, input('Введите координаты вашей шахматной фигуры: ').split())\n",
        "  c, d = map(int, input('Введите координаты шахматной фигуры соперника: ').split())\n",
        "\n",
        "  if (a < 1 or a > 8) or (b < 1 or b > 8) or (c < 1 or c > 8) or (d < 1 or d > 8):\n",
        "    print('Неверные координаты. Координаты должны быть от 1 до 8.')\n",
        "  else:\n",
        "    print('До хода')\n",
        "    if (abs(a - c) == 1 and abs(b - d) == 2) or (abs(a - c) == 2 and abs(b - d) == 1):\n",
        "      print('У вас есть шанс одолеть соперника!')\n",
        "    else:\n",
        "      print('У вас нет шанса одолеть соперника.')\n",
        "\n",
        "    chess_moves = []\n",
        "    print('После хода')\n",
        "    for i in range(1, 9): # определяем координаты по которым можем сделать ход\n",
        "      for j in range(1, 9):\n",
        "        if abs(a - j) * abs(b - i) == 2:\n",
        "          chess_moves.append([j, i])\n",
        "    one_chess_move = chess_moves[random.randint(1, len(chess_moves))] # определяем рандомный ход\n",
        "    a = one_chess_move[0]\n",
        "    b = one_chess_move[-1]\n",
        "\n",
        "    if a == c and b == d:\n",
        "      print('Вы одолели соперника!')\n",
        "    else:\n",
        "      if (abs(a - c) == 1 and abs(b - d) == 2) or (abs(a - c) == 2 and abs(b - d) == 1):\n",
        "        print('У вас есть шанс одолеть соперника!')\n",
        "      else:\n",
        "        print('Похоже вы выбрали неверный ход. У вас нет шанса одолеть соперника.')\n",
        "\n",
        "chess()"
      ],
      "metadata": {
        "colab": {
          "base_uri": "https://localhost:8080/"
        },
        "id": "gI8DFNYpPCK4",
        "outputId": "a2515e12-65b3-4277-c832-2e4da3a14e9d"
      },
      "execution_count": 8,
      "outputs": [
        {
          "output_type": "stream",
          "name": "stdout",
          "text": [
            "Введите координаты вашей шахматной фигуры: 4 4\n",
            "Введите координаты шахматной фигуры соперника: 5 6\n",
            "До хода\n",
            "У вас есть шанс одолеть соперника!\n",
            "После хода\n",
            "Похоже вы выбрали неверный ход. У вас нет шанса одолеть соперника.\n"
          ]
        }
      ]
    }
  ]
}